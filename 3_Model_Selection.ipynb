{
 "cells": [
  {
   "cell_type": "markdown",
   "metadata": {},
   "source": [
    "# IFT6390 Project - Data Exploration snippets"
   ]
  },
  {
   "cell_type": "markdown",
   "metadata": {},
   "source": [
    "## Useful piece of code"
   ]
  },
  {
   "cell_type": "markdown",
   "metadata": {},
   "source": [
    "## Setup - data"
   ]
  },
  {
   "cell_type": "code",
   "execution_count": 90,
   "metadata": {},
   "outputs": [
    {
     "name": "stderr",
     "output_type": "stream",
     "text": [
      "[nltk_data] Downloading package stopwords to /home/rd/nltk_data...\n",
      "[nltk_data]   Package stopwords is already up-to-date!\n"
     ]
    }
   ],
   "source": [
    "print(__doc__)\n",
    "\n",
    "import pandas as pd\n",
    "import numpy as np\n",
    "import datetime\n",
    "import seaborn as sns\n",
    "#Natural Language Toolkit\n",
    "import nltk\n",
    "nltk.download('stopwords')\n",
    "from nltk.corpus import stopwords\n",
    "\n",
    "#identifies words which are not adding semantic value to the sentence\n",
    "stopw = set(stopwords.words('english'))"
   ]
  },
  {
   "cell_type": "markdown",
   "metadata": {},
   "source": [
    "## Import cleaned dataframe"
   ]
  },
  {
   "cell_type": "code",
   "execution_count": 14,
   "metadata": {},
   "outputs": [],
   "source": [
    "a=datetime.datetime.now().second\n",
    "\n",
    "s140=pd.read_pickle('data/s140_clean_28nov.pkl')\n",
    "mr=pd.read_pickle('data/mr_clean_28nov.pkl')\n",
    "cc=pd.read_pickle('data/cc_clean_28nov.pkl')\n",
    "\n",
    "a=datetime.datetime.now().second-a\n",
    "print(a//60,'min',a%60,'sec')"
   ]
  },
  {
   "cell_type": "code",
   "execution_count": 15,
   "metadata": {},
   "outputs": [],
   "source": [
    "from sklearn.feature_extraction.text import TfidfVectorizer \n",
    "\n",
    "def make_tfidf(df):\n",
    "    tf_vect=TfidfVectorizer(use_idf=False,stop_words=stopw)\n",
    "    tf=tf_vect.fit_transform(df.tolist())\n",
    "    \n",
    "    l=tf.shape[0]\n",
    "    \n",
    "    w_count=np.array(tf.sum(axis=0,))[0]/l\n",
    "    #wcm=w_count.max()\n",
    "    #w_count=w_count/wcm\n",
    "    wcr=w_count.argsort()[::-1].argsort()\n",
    "\n",
    "    \n",
    "    idf_vect=TfidfVectorizer(use_idf=True,stop_words=stopw)\n",
    "    idf=idf_vect.fit_transform(df.tolist())\n",
    "    \n",
    "    w_marker=np.array(idf.sum(axis=0))[0]/l\n",
    "    #wmm=w_marker.max()\n",
    "    #w_marker=w_marker/wmm\n",
    "    wmr=w_marker.argsort()[::-1].argsort()\n",
    "    \n",
    "    \n",
    "    # SRC -> https://kavita-ganesan.com/tfidftransformer-tfidfvectorizer-usage-differences/\n",
    "    feature_names=tf_vect.get_feature_names()\n",
    "    \n",
    "    tf_idf = pd.DataFrame(np.array([w_count, w_marker, wcr, wmr]).T, index=feature_names, columns=[\"tf\", \"idf\", \"rank_tf\", \"rank_idf\"])\n",
    "    tf_idf = tf_idf.sort_values(by=[\"tf\"],ascending=False)\n",
    "\n",
    "    tf_idf.rank_tf=tf_idf.rank_tf.astype('int64')\n",
    "    tf_idf.rank_idf=tf_idf.rank_idf.astype('int64')\n",
    "\n",
    "    return tf_idf\n"
   ]
  },
  {
   "cell_type": "code",
   "execution_count": 16,
   "metadata": {},
   "outputs": [
    {
     "name": "stdout",
     "output_type": "stream",
     "text": [
      "Requirement already satisfied: scikit-plot in /home/rd/miniconda3/envs/UdeM/lib/python3.7/site-packages (0.3.7)\n",
      "Requirement already satisfied: joblib>=0.10 in /home/rd/miniconda3/envs/UdeM/lib/python3.7/site-packages (from scikit-plot) (0.14.0)\n",
      "Requirement already satisfied: matplotlib>=1.4.0 in /home/rd/miniconda3/envs/UdeM/lib/python3.7/site-packages (from scikit-plot) (3.1.1)\n",
      "Requirement already satisfied: scipy>=0.9 in /home/rd/miniconda3/envs/UdeM/lib/python3.7/site-packages (from scikit-plot) (1.3.1)\n",
      "Requirement already satisfied: scikit-learn>=0.18 in /home/rd/miniconda3/envs/UdeM/lib/python3.7/site-packages (from scikit-plot) (0.21.3)\n",
      "Requirement already satisfied: cycler>=0.10 in /home/rd/miniconda3/envs/UdeM/lib/python3.7/site-packages (from matplotlib>=1.4.0->scikit-plot) (0.10.0)\n",
      "Requirement already satisfied: kiwisolver>=1.0.1 in /home/rd/miniconda3/envs/UdeM/lib/python3.7/site-packages (from matplotlib>=1.4.0->scikit-plot) (1.1.0)\n",
      "Requirement already satisfied: pyparsing!=2.0.4,!=2.1.2,!=2.1.6,>=2.0.1 in /home/rd/miniconda3/envs/UdeM/lib/python3.7/site-packages (from matplotlib>=1.4.0->scikit-plot) (2.4.2)\n",
      "Requirement already satisfied: python-dateutil>=2.1 in /home/rd/miniconda3/envs/UdeM/lib/python3.7/site-packages (from matplotlib>=1.4.0->scikit-plot) (2.8.0)\n",
      "Requirement already satisfied: numpy>=1.11 in /home/rd/miniconda3/envs/UdeM/lib/python3.7/site-packages (from matplotlib>=1.4.0->scikit-plot) (1.16.5)\n",
      "Requirement already satisfied: six in /home/rd/miniconda3/envs/UdeM/lib/python3.7/site-packages (from cycler>=0.10->matplotlib>=1.4.0->scikit-plot) (1.12.0)\n",
      "Requirement already satisfied: setuptools in /home/rd/miniconda3/envs/UdeM/lib/python3.7/site-packages (from kiwisolver>=1.0.1->matplotlib>=1.4.0->scikit-plot) (41.0.1)\n"
     ]
    }
   ],
   "source": [
    "import sys\n",
    "!{sys.executable} -m pip install scikit-plot\n",
    "\n",
    "import scikitplot#.plotters as skplt"
   ]
  },
  {
   "cell_type": "markdown",
   "metadata": {},
   "source": [
    "## Transform s140"
   ]
  },
  {
   "cell_type": "code",
   "execution_count": 17,
   "metadata": {},
   "outputs": [],
   "source": [
    "#all=make_tfidf(s140['trimmed'])"
   ]
  },
  {
   "cell_type": "code",
   "execution_count": 20,
   "metadata": {},
   "outputs": [
    {
     "name": "stdout",
     "output_type": "stream",
     "text": [
      "25 min 0 sec\n"
     ]
    }
   ],
   "source": [
    "a=datetime.datetime.now().second\n",
    "\n",
    "tf_idf_vect=TfidfVectorizer(use_idf=True,stop_words=stopw)\n",
    "s140_tf_idf=tf_idf_vect.fit_transform(s140['trimmed'].tolist())\n",
    "\n",
    "a=datetime.datetime.now().second-a\n",
    "print(a//60,'min',a%60,'sec')"
   ]
  },
  {
   "cell_type": "markdown",
   "metadata": {},
   "source": [
    "## Transform MR"
   ]
  },
  {
   "cell_type": "code",
   "execution_count": 21,
   "metadata": {},
   "outputs": [
    {
     "name": "stdout",
     "output_type": "stream",
     "text": [
      "0 min 7 sec\n"
     ]
    }
   ],
   "source": [
    "a=datetime.datetime.now().second\n",
    "\n",
    "tf_idf_vect=TfidfVectorizer(use_idf=True,stop_words=stopw)\n",
    "mr_tf_idf=tf_idf_vect.fit_transform(mr['trimmed'].tolist())\n",
    "\n",
    "a=datetime.datetime.now().second-a\n",
    "print(a//60,'min',a%60,'sec')"
   ]
  },
  {
   "cell_type": "markdown",
   "metadata": {},
   "source": [
    "## Transform CC"
   ]
  },
  {
   "cell_type": "code",
   "execution_count": 22,
   "metadata": {},
   "outputs": [
    {
     "name": "stdout",
     "output_type": "stream",
     "text": [
      "0 min 0 sec\n"
     ]
    }
   ],
   "source": [
    "a=datetime.datetime.now().second\n",
    "\n",
    "tf_idf_vect=TfidfVectorizer(use_idf=True,stop_words=stopw)\n",
    "cc_tf_idf=tf_idf_vect.fit_transform(cc['trimmed'].tolist())\n",
    "\n",
    "a=datetime.datetime.now().second-a\n",
    "print(a//60,'min',a%60,'sec')"
   ]
  },
  {
   "cell_type": "markdown",
   "metadata": {},
   "source": [
    "## Model testing"
   ]
  },
  {
   "cell_type": "code",
   "execution_count": 133,
   "metadata": {},
   "outputs": [],
   "source": [
    "import matplotlib.pyplot as plt\n",
    "import scikitplot as skplt\n",
    "from sklearn.model_selection import train_test_split\n",
    "from sklearn.model_selection import cross_val_score\n",
    "from sklearn.metrics import accuracy_score\n",
    "\n",
    "#The mean score and the 95% confidence interval of the score estimate are hence given by:\n",
    "\n",
    "def crossval(model, x, y):    \n",
    "    scores = cross_val_score(model, x, y, cv=5)\n",
    "    print(\"Accuracy: %0.2f (+/- %0.2f)\" % (scores.mean(), scores.std() * 2))\n",
    "\n",
    "def confusion(y_valid,predicted):\n",
    "    scikitplot.metrics.plot_confusion_matrix(y_valid, predicted,x_tick_rotation=90,figsize=(2,6))#, normalize=True)\n",
    "    plt.show()  \n",
    "    \n",
    "class model:\n",
    "    def train(mdl, xt, yt,xv=0,yv=0, selfie=True):  \n",
    "        if selfie:\n",
    "            X_train, X_valid, y_train, model.y_valid = train_test_split(x, y, test_size=0.20, random_state=42)\n",
    "        else:\n",
    "            X_train, X_valid, y_train, model.y_valid=xt,xv,yt,yv\n",
    "\n",
    "        model.clf = mdl.fit(X_train, y_train)\n",
    "\n",
    "    def predict(x):\n",
    "        predicted= model.clf.predict(X_valid)\n",
    "\n",
    "        acc=accuracy_score(model.y_valid, predicted)\n",
    "        print(f\"Accuracy: {acc}\")\n",
    "\n",
    "        confusion(model.y_valid,predicted)\n",
    "\n",
    "\n",
    "        return model.y_valid,predicted\n",
    "     \n",
    "        "
   ]
  },
  {
   "cell_type": "markdown",
   "metadata": {},
   "source": [
    "## Trained and tested on the same dataset (selfie)"
   ]
  },
  {
   "cell_type": "markdown",
   "metadata": {},
   "source": [
    "### mr"
   ]
  },
  {
   "cell_type": "code",
   "execution_count": 135,
   "metadata": {},
   "outputs": [
    {
     "name": "stdout",
     "output_type": "stream",
     "text": [
      "Iteration 1, loss = 0.68650160\n",
      "Iteration 2, loss = 0.62485014\n",
      "Iteration 3, loss = 0.48595317\n",
      "Iteration 4, loss = 0.36892265\n",
      "Iteration 5, loss = 0.30426854\n",
      "Iteration 6, loss = 0.26649724\n",
      "Iteration 7, loss = 0.24001248\n",
      "Iteration 8, loss = 0.21946894\n",
      "Iteration 9, loss = 0.20281459\n",
      "Iteration 10, loss = 0.18799734\n"
     ]
    },
    {
     "name": "stderr",
     "output_type": "stream",
     "text": [
      "/home/rd/miniconda3/envs/UdeM/lib/python3.7/site-packages/sklearn/neural_network/multilayer_perceptron.py:566: ConvergenceWarning: Stochastic Optimizer: Maximum iterations (10) reached and the optimization hasn't converged yet.\n",
      "  % self.max_iter, ConvergenceWarning)\n"
     ]
    },
    {
     "ename": "NameError",
     "evalue": "name 'X_valid' is not defined",
     "output_type": "error",
     "traceback": [
      "\u001b[0;31m---------------------------------------------------------------------------\u001b[0m",
      "\u001b[0;31mNameError\u001b[0m                                 Traceback (most recent call last)",
      "\u001b[0;32m<ipython-input-135-1de4a50defc6>\u001b[0m in \u001b[0;36m<module>\u001b[0;34m\u001b[0m\n\u001b[1;32m     14\u001b[0m \u001b[0mmdl\u001b[0m\u001b[0;34m=\u001b[0m\u001b[0mMLPClassifier\u001b[0m\u001b[0;34m(\u001b[0m\u001b[0malpha\u001b[0m\u001b[0;34m=\u001b[0m\u001b[0;36m0.0025\u001b[0m\u001b[0;34m,\u001b[0m \u001b[0mmax_iter\u001b[0m\u001b[0;34m=\u001b[0m\u001b[0;36m10\u001b[0m\u001b[0;34m,\u001b[0m\u001b[0mepsilon\u001b[0m\u001b[0;34m=\u001b[0m\u001b[0;36m1e-03\u001b[0m\u001b[0;34m,\u001b[0m\u001b[0mverbose\u001b[0m\u001b[0;34m=\u001b[0m\u001b[0;32mTrue\u001b[0m\u001b[0;34m)\u001b[0m\u001b[0;34m\u001b[0m\u001b[0;34m\u001b[0m\u001b[0m\n\u001b[1;32m     15\u001b[0m \u001b[0mmodel\u001b[0m\u001b[0;34m.\u001b[0m\u001b[0mtrain\u001b[0m\u001b[0;34m(\u001b[0m\u001b[0mmdl\u001b[0m\u001b[0;34m,\u001b[0m \u001b[0mx\u001b[0m\u001b[0;34m,\u001b[0m \u001b[0my\u001b[0m\u001b[0;34m)\u001b[0m\u001b[0;34m\u001b[0m\u001b[0;34m\u001b[0m\u001b[0m\n\u001b[0;32m---> 16\u001b[0;31m \u001b[0my_val\u001b[0m\u001b[0;34m,\u001b[0m\u001b[0mpred\u001b[0m\u001b[0;34m=\u001b[0m\u001b[0mmodel\u001b[0m\u001b[0;34m.\u001b[0m\u001b[0mpredict\u001b[0m\u001b[0;34m(\u001b[0m\u001b[0mx\u001b[0m\u001b[0;34m)\u001b[0m\u001b[0;34m\u001b[0m\u001b[0;34m\u001b[0m\u001b[0m\n\u001b[0m\u001b[1;32m     17\u001b[0m \u001b[0;34m\u001b[0m\u001b[0m\n\u001b[1;32m     18\u001b[0m \u001b[0mprint\u001b[0m\u001b[0;34m(\u001b[0m\u001b[0mdatetime\u001b[0m\u001b[0;34m.\u001b[0m\u001b[0mdatetime\u001b[0m\u001b[0;34m.\u001b[0m\u001b[0mnow\u001b[0m\u001b[0;34m(\u001b[0m\u001b[0;34m)\u001b[0m\u001b[0;34m-\u001b[0m\u001b[0ma\u001b[0m\u001b[0;34m)\u001b[0m\u001b[0;34m\u001b[0m\u001b[0;34m\u001b[0m\u001b[0m\n",
      "\u001b[0;32m<ipython-input-133-8c98ea07ee95>\u001b[0m in \u001b[0;36mpredict\u001b[0;34m(x)\u001b[0m\n\u001b[1;32m     25\u001b[0m \u001b[0;34m\u001b[0m\u001b[0m\n\u001b[1;32m     26\u001b[0m     \u001b[0;32mdef\u001b[0m \u001b[0mpredict\u001b[0m\u001b[0;34m(\u001b[0m\u001b[0mx\u001b[0m\u001b[0;34m)\u001b[0m\u001b[0;34m:\u001b[0m\u001b[0;34m\u001b[0m\u001b[0;34m\u001b[0m\u001b[0m\n\u001b[0;32m---> 27\u001b[0;31m         \u001b[0mpredicted\u001b[0m\u001b[0;34m=\u001b[0m \u001b[0mmodel\u001b[0m\u001b[0;34m.\u001b[0m\u001b[0mclf\u001b[0m\u001b[0;34m.\u001b[0m\u001b[0mpredict\u001b[0m\u001b[0;34m(\u001b[0m\u001b[0mX_valid\u001b[0m\u001b[0;34m)\u001b[0m\u001b[0;34m\u001b[0m\u001b[0;34m\u001b[0m\u001b[0m\n\u001b[0m\u001b[1;32m     28\u001b[0m \u001b[0;34m\u001b[0m\u001b[0m\n\u001b[1;32m     29\u001b[0m         \u001b[0macc\u001b[0m\u001b[0;34m=\u001b[0m\u001b[0maccuracy_score\u001b[0m\u001b[0;34m(\u001b[0m\u001b[0mmodel\u001b[0m\u001b[0;34m.\u001b[0m\u001b[0my_valid\u001b[0m\u001b[0;34m,\u001b[0m \u001b[0mpredicted\u001b[0m\u001b[0;34m)\u001b[0m\u001b[0;34m\u001b[0m\u001b[0;34m\u001b[0m\u001b[0m\n",
      "\u001b[0;31mNameError\u001b[0m: name 'X_valid' is not defined"
     ]
    }
   ],
   "source": [
    "#from sklearn.naive_bayes import MultinomialNB\n",
    "#from sklearn import linear_model\n",
    "from sklearn.neural_network import MLPClassifier\n",
    "#from sklearn.ensemble import RandomForestClassifier, VotingClassifier, AdaBoostClassifier\n",
    "#from sklearn.tree import DecisionTreeClassifier\n",
    "#from sklearn import svm\n",
    "\n",
    "a=datetime.datetime.now()\n",
    "\n",
    "#x,y = s140_tf_idf, s140['target']\n",
    "x,y = mr_tf_idf, mr['target']\n",
    "#x,y = cc_tf_idf, cc['target']\n",
    "\n",
    "mdl=MLPClassifier(alpha=0.0025, max_iter=10,epsilon=1e-03,verbose=True)\n",
    "model.train(mdl, x, y)\n",
    "y_val,pred=model.predict(x)\n",
    "\n",
    "print(datetime.datetime.now()-a)\n",
    "\n",
    "#TryModel(MultinomialNB(), x, y)\n",
    "#TryModel(linear_model.SGDClassifier(max_iter=1000, tol=1e-3), x, y)\n",
    "\n",
    "#TryModel(AdaBoostClassifier(DecisionTreeClassifier(max_depth=10)), x, y)\n",
    "#vch = VotingClassifier(estimators=[('NB25', clf1), ('SGDp', clf2), ('SGDlog', clf3),('NB35', clf4)], voting='hard')\n",
    "#vcs = VotingClassifier(estimators=[('NB10', clf1), ('SGD', clf2), ('SGDlog', clf3),('NB35', clf4)], voting='soft')\n",
    "#TryModel(svm.SVC(kernel='linear', C=1), x, y)\n"
   ]
  },
  {
   "cell_type": "markdown",
   "metadata": {},
   "source": [
    "### cc"
   ]
  },
  {
   "cell_type": "code",
   "execution_count": 76,
   "metadata": {},
   "outputs": [
    {
     "name": "stdout",
     "output_type": "stream",
     "text": [
      "NaN before replace:  0\n",
      "NaN after replace:  0\n"
     ]
    },
    {
     "data": {
      "text/html": [
       "<div>\n",
       "<style scoped>\n",
       "    .dataframe tbody tr th:only-of-type {\n",
       "        vertical-align: middle;\n",
       "    }\n",
       "\n",
       "    .dataframe tbody tr th {\n",
       "        vertical-align: top;\n",
       "    }\n",
       "\n",
       "    .dataframe thead th {\n",
       "        text-align: right;\n",
       "    }\n",
       "</style>\n",
       "<table border=\"1\" class=\"dataframe\">\n",
       "  <thead>\n",
       "    <tr style=\"text-align: right;\">\n",
       "      <th></th>\n",
       "      <th>text</th>\n",
       "      <th>confidence</th>\n",
       "      <th>target</th>\n",
       "      <th>lemma</th>\n",
       "      <th>length</th>\n",
       "      <th>trimmed</th>\n",
       "      <th>old_target</th>\n",
       "    </tr>\n",
       "  </thead>\n",
       "  <tbody>\n",
       "    <tr>\n",
       "      <td>0</td>\n",
       "      <td>Global warming report urges governments to act...</td>\n",
       "      <td>1.0000</td>\n",
       "      <td>positive</td>\n",
       "      <td>[global, warming, report, urge, government, ac...</td>\n",
       "      <td>14</td>\n",
       "      <td>global warming report urge government act|brus...</td>\n",
       "      <td>Yes</td>\n",
       "    </tr>\n",
       "    <tr>\n",
       "      <td>1</td>\n",
       "      <td>Fighting poverty and global warming in Africa ...</td>\n",
       "      <td>1.0000</td>\n",
       "      <td>positive</td>\n",
       "      <td>[fighting, poverty, global, warming, africa, l...</td>\n",
       "      <td>6</td>\n",
       "      <td>fighting poverty global warming africa link</td>\n",
       "      <td>Yes</td>\n",
       "    </tr>\n",
       "    <tr>\n",
       "      <td>2</td>\n",
       "      <td>Carbon offsets: How a Vatican forest failed to...</td>\n",
       "      <td>0.8786</td>\n",
       "      <td>positive</td>\n",
       "      <td>[carbon, offset, vatican, forest, failed, redu...</td>\n",
       "      <td>9</td>\n",
       "      <td>carbon offset vatican forest failed reduce glo...</td>\n",
       "      <td>Yes</td>\n",
       "    </tr>\n",
       "    <tr>\n",
       "      <td>3</td>\n",
       "      <td>Carbon offsets: How a Vatican forest failed to...</td>\n",
       "      <td>1.0000</td>\n",
       "      <td>positive</td>\n",
       "      <td>[carbon, offset, vatican, forest, failed, redu...</td>\n",
       "      <td>9</td>\n",
       "      <td>carbon offset vatican forest failed reduce glo...</td>\n",
       "      <td>Yes</td>\n",
       "    </tr>\n",
       "    <tr>\n",
       "      <td>4</td>\n",
       "      <td>URUGUAY: Tools Needed for Those Most Vulnerabl...</td>\n",
       "      <td>0.8087</td>\n",
       "      <td>positive</td>\n",
       "      <td>[uruguay, tool, needed, vulnerable, climate, c...</td>\n",
       "      <td>7</td>\n",
       "      <td>uruguay tool needed vulnerable climate change ...</td>\n",
       "      <td>Yes</td>\n",
       "    </tr>\n",
       "    <tr>\n",
       "      <td>...</td>\n",
       "      <td>...</td>\n",
       "      <td>...</td>\n",
       "      <td>...</td>\n",
       "      <td>...</td>\n",
       "      <td>...</td>\n",
       "      <td>...</td>\n",
       "      <td>...</td>\n",
       "    </tr>\n",
       "    <tr>\n",
       "      <td>6022</td>\n",
       "      <td>@bloodless_coup \"The phrase 'global warming' s...</td>\n",
       "      <td>1.0000</td>\n",
       "      <td>positive</td>\n",
       "      <td>[bloodless_coup, ``, phrase, 'global, warming,...</td>\n",
       "      <td>15</td>\n",
       "      <td>bloodless_coup `` phrase 'global warming aband...</td>\n",
       "      <td>Y</td>\n",
       "    </tr>\n",
       "    <tr>\n",
       "      <td>6023</td>\n",
       "      <td>Virginia to Investigate Global Warming Scienti...</td>\n",
       "      <td>1.0000</td>\n",
       "      <td>Not Sure</td>\n",
       "      <td>[virginia, investigate, global, warming, scien...</td>\n",
       "      <td>7</td>\n",
       "      <td>virginia investigate global warming scientist ...</td>\n",
       "      <td>NaN</td>\n",
       "    </tr>\n",
       "    <tr>\n",
       "      <td>6024</td>\n",
       "      <td>Global warming you tube parody you will enjoy ...</td>\n",
       "      <td>0.6411</td>\n",
       "      <td>negative</td>\n",
       "      <td>[global, warming, tube, parody, enjoy, ipcc, o...</td>\n",
       "      <td>8</td>\n",
       "      <td>global warming tube parody enjoy ipcc ocra _li...</td>\n",
       "      <td>N</td>\n",
       "    </tr>\n",
       "    <tr>\n",
       "      <td>6025</td>\n",
       "      <td>One-Eyed Golfer: Don't dare tell me about glob...</td>\n",
       "      <td>1.0000</td>\n",
       "      <td>negative</td>\n",
       "      <td>[one-eyed, golfer, n't, dare, tell, global, wa...</td>\n",
       "      <td>14</td>\n",
       "      <td>one-eyed golfer n't dare tell global warming t...</td>\n",
       "      <td>N</td>\n",
       "    </tr>\n",
       "    <tr>\n",
       "      <td>6026</td>\n",
       "      <td>man made global warming a hair brained theory ...</td>\n",
       "      <td>1.0000</td>\n",
       "      <td>negative</td>\n",
       "      <td>[man, made, global, warming, hair, brained, th...</td>\n",
       "      <td>17</td>\n",
       "      <td>man made global warming hair brained theory _n...</td>\n",
       "      <td>N</td>\n",
       "    </tr>\n",
       "  </tbody>\n",
       "</table>\n",
       "<p>6027 rows × 7 columns</p>\n",
       "</div>"
      ],
      "text/plain": [
       "                                                   text  confidence    target  \\\n",
       "0     Global warming report urges governments to act...      1.0000  positive   \n",
       "1     Fighting poverty and global warming in Africa ...      1.0000  positive   \n",
       "2     Carbon offsets: How a Vatican forest failed to...      0.8786  positive   \n",
       "3     Carbon offsets: How a Vatican forest failed to...      1.0000  positive   \n",
       "4     URUGUAY: Tools Needed for Those Most Vulnerabl...      0.8087  positive   \n",
       "...                                                 ...         ...       ...   \n",
       "6022  @bloodless_coup \"The phrase 'global warming' s...      1.0000  positive   \n",
       "6023  Virginia to Investigate Global Warming Scienti...      1.0000  Not Sure   \n",
       "6024  Global warming you tube parody you will enjoy ...      0.6411  negative   \n",
       "6025  One-Eyed Golfer: Don't dare tell me about glob...      1.0000  negative   \n",
       "6026  man made global warming a hair brained theory ...      1.0000  negative   \n",
       "\n",
       "                                                  lemma  length  \\\n",
       "0     [global, warming, report, urge, government, ac...      14   \n",
       "1     [fighting, poverty, global, warming, africa, l...       6   \n",
       "2     [carbon, offset, vatican, forest, failed, redu...       9   \n",
       "3     [carbon, offset, vatican, forest, failed, redu...       9   \n",
       "4     [uruguay, tool, needed, vulnerable, climate, c...       7   \n",
       "...                                                 ...     ...   \n",
       "6022  [bloodless_coup, ``, phrase, 'global, warming,...      15   \n",
       "6023  [virginia, investigate, global, warming, scien...       7   \n",
       "6024  [global, warming, tube, parody, enjoy, ipcc, o...       8   \n",
       "6025  [one-eyed, golfer, n't, dare, tell, global, wa...      14   \n",
       "6026  [man, made, global, warming, hair, brained, th...      17   \n",
       "\n",
       "                                                trimmed old_target  \n",
       "0     global warming report urge government act|brus...        Yes  \n",
       "1          fighting poverty global warming africa link         Yes  \n",
       "2     carbon offset vatican forest failed reduce glo...        Yes  \n",
       "3     carbon offset vatican forest failed reduce glo...        Yes  \n",
       "4     uruguay tool needed vulnerable climate change ...        Yes  \n",
       "...                                                 ...        ...  \n",
       "6022  bloodless_coup `` phrase 'global warming aband...          Y  \n",
       "6023  virginia investigate global warming scientist ...        NaN  \n",
       "6024  global warming tube parody enjoy ipcc ocra _li...          N  \n",
       "6025  one-eyed golfer n't dare tell global warming t...          N  \n",
       "6026  man made global warming hair brained theory _n...          N  \n",
       "\n",
       "[6027 rows x 7 columns]"
      ]
     },
     "execution_count": 76,
     "metadata": {},
     "output_type": "execute_result"
    }
   ],
   "source": [
    "import numpy as np\n",
    "print('NaN before replace: ', cc.target.isna().sum())\n",
    "cc=cc.replace({'target': {np.nan: 'Not Sure'}})\n",
    "print('NaN after replace: ', cc.target.isna().sum())"
   ]
  },
  {
   "cell_type": "code",
   "execution_count": 94,
   "metadata": {},
   "outputs": [
    {
     "name": "stdout",
     "output_type": "stream",
     "text": [
      "Iteration 1, loss = 1.11586085\n",
      "Iteration 2, loss = 1.03575056\n",
      "Iteration 3, loss = 0.97225541\n",
      "Iteration 4, loss = 0.92590104\n",
      "Iteration 5, loss = 0.87330756\n",
      "Iteration 6, loss = 0.81331527\n",
      "Iteration 7, loss = 0.74895716\n",
      "Iteration 8, loss = 0.68652827\n",
      "Iteration 9, loss = 0.62772460\n",
      "Iteration 10, loss = 0.57547344\n",
      "Iteration 11, loss = 0.52720712\n",
      "Iteration 12, loss = 0.48440689\n",
      "Iteration 13, loss = 0.44594514\n",
      "Iteration 14, loss = 0.41191069\n",
      "Iteration 15, loss = 0.38055456\n",
      "Iteration 16, loss = 0.35256312\n",
      "Iteration 17, loss = 0.32731850\n",
      "Iteration 18, loss = 0.30466064\n",
      "Iteration 19, loss = 0.28434784\n",
      "Iteration 20, loss = 0.26603804\n",
      "Iteration 21, loss = 0.25027555\n",
      "Iteration 22, loss = 0.23657198\n",
      "Iteration 23, loss = 0.22458270\n",
      "Iteration 24, loss = 0.21266385\n",
      "Iteration 25, loss = 0.20281020\n",
      "Iteration 26, loss = 0.19450147\n",
      "Iteration 27, loss = 0.18619416\n",
      "Iteration 28, loss = 0.17878508\n",
      "Iteration 29, loss = 0.17281907\n",
      "Iteration 30, loss = 0.16647470\n",
      "Iteration 31, loss = 0.16117148\n",
      "Iteration 32, loss = 0.15686445\n",
      "Iteration 33, loss = 0.15276182\n",
      "Iteration 34, loss = 0.14839002\n",
      "Iteration 35, loss = 0.14457276\n",
      "Iteration 36, loss = 0.14053429\n",
      "Iteration 37, loss = 0.13738269\n",
      "Iteration 38, loss = 0.13681950\n",
      "Iteration 39, loss = 0.13362109\n",
      "Iteration 40, loss = 0.13170230\n",
      "Iteration 41, loss = 0.12880857\n",
      "Iteration 42, loss = 0.12604580\n",
      "Iteration 43, loss = 0.12427656\n",
      "Iteration 44, loss = 0.12332587\n",
      "Iteration 45, loss = 0.12230217\n",
      "Iteration 46, loss = 0.12023249\n",
      "Iteration 47, loss = 0.11748703\n",
      "Iteration 48, loss = 0.11714165\n",
      "Iteration 49, loss = 0.11604402\n",
      "Iteration 50, loss = 0.11504309\n",
      "Iteration 51, loss = 0.11403692\n",
      "Iteration 52, loss = 0.11355217\n",
      "Iteration 53, loss = 0.11244401\n",
      "Iteration 54, loss = 0.11016030\n",
      "Iteration 55, loss = 0.10917086\n",
      "Iteration 56, loss = 0.10918353\n",
      "Iteration 57, loss = 0.10917878\n",
      "Iteration 58, loss = 0.10945755\n",
      "Iteration 59, loss = 0.10690285\n",
      "Iteration 60, loss = 0.10662006\n",
      "Iteration 61, loss = 0.10855705\n",
      "Iteration 62, loss = 0.10564181\n",
      "Iteration 63, loss = 0.10564223\n",
      "Iteration 64, loss = 0.10374533\n",
      "Iteration 65, loss = 0.10856823\n",
      "Iteration 66, loss = 0.10371708\n",
      "Iteration 67, loss = 0.10160954\n",
      "Iteration 68, loss = 0.10065532\n",
      "Iteration 69, loss = 0.10217469\n",
      "Iteration 70, loss = 0.09970563\n",
      "Iteration 71, loss = 0.09882359\n",
      "Iteration 72, loss = 0.09850448\n",
      "Iteration 73, loss = 0.09768714\n",
      "Iteration 74, loss = 0.09760026\n",
      "Iteration 75, loss = 0.09659763\n",
      "Iteration 76, loss = 0.09891678\n",
      "Iteration 77, loss = 0.09826555\n",
      "Iteration 78, loss = 0.09660666\n",
      "Iteration 79, loss = 0.09642503\n",
      "Iteration 80, loss = 0.09548745\n",
      "Iteration 81, loss = 0.09653038\n",
      "Iteration 82, loss = 0.09741114\n",
      "Iteration 83, loss = 0.09665802\n",
      "Iteration 84, loss = 0.09696318\n",
      "Iteration 85, loss = 0.09494334\n",
      "Iteration 86, loss = 0.09383717\n",
      "Iteration 87, loss = 0.09203131\n",
      "Iteration 88, loss = 0.09162014\n",
      "Iteration 89, loss = 0.09088285\n",
      "Iteration 90, loss = 0.08967699\n",
      "Iteration 91, loss = 0.08938916\n",
      "Iteration 92, loss = 0.08851988\n",
      "Iteration 93, loss = 0.08857610\n",
      "Iteration 94, loss = 0.08878095\n",
      "Iteration 95, loss = 0.09041017\n",
      "Iteration 96, loss = 0.08951325\n",
      "Iteration 97, loss = 0.08946743\n",
      "Iteration 98, loss = 0.09008171\n",
      "Iteration 99, loss = 0.08785020\n",
      "Iteration 100, loss = 0.08771245\n",
      "Iteration 101, loss = 0.08746935\n",
      "Iteration 102, loss = 0.08736430\n",
      "Iteration 103, loss = 0.08600909\n",
      "Iteration 104, loss = 0.08599988\n",
      "Iteration 105, loss = 0.08501641\n",
      "Iteration 106, loss = 0.08458298\n",
      "Iteration 107, loss = 0.08446363\n",
      "Iteration 108, loss = 0.08436673\n",
      "Iteration 109, loss = 0.08479735\n",
      "Iteration 110, loss = 0.08536315\n",
      "Iteration 111, loss = 0.08546516\n",
      "Iteration 112, loss = 0.08450109\n",
      "Iteration 113, loss = 0.08411869\n",
      "Iteration 114, loss = 0.08399671\n",
      "Iteration 115, loss = 0.08421866\n",
      "Iteration 116, loss = 0.08493679\n",
      "Iteration 117, loss = 0.08469327\n",
      "Iteration 118, loss = 0.08260216\n",
      "Iteration 119, loss = 0.08222703\n",
      "Iteration 120, loss = 0.08188868\n",
      "Iteration 121, loss = 0.08181071\n",
      "Iteration 122, loss = 0.08261708\n",
      "Iteration 123, loss = 0.08219665\n",
      "Iteration 124, loss = 0.08128312\n",
      "Iteration 125, loss = 0.08166209\n",
      "Iteration 126, loss = 0.08081003\n",
      "Iteration 127, loss = 0.07980536\n",
      "Iteration 128, loss = 0.07918571\n",
      "Iteration 129, loss = 0.07946116\n",
      "Iteration 130, loss = 0.08096994\n",
      "Iteration 131, loss = 0.07893607\n",
      "Iteration 132, loss = 0.07993041\n",
      "Iteration 133, loss = 0.07998867\n",
      "Iteration 134, loss = 0.07914101\n",
      "Iteration 135, loss = 0.08235579\n",
      "Iteration 136, loss = 0.08222402\n",
      "Iteration 137, loss = 0.08044971\n",
      "Iteration 138, loss = 0.07919777\n",
      "Iteration 139, loss = 0.07881542\n",
      "Iteration 140, loss = 0.07756608\n",
      "Iteration 141, loss = 0.07827883\n",
      "Iteration 142, loss = 0.08301248\n",
      "Iteration 143, loss = 0.07818158\n",
      "Iteration 144, loss = 0.07709605\n",
      "Iteration 145, loss = 0.07756353\n",
      "Iteration 146, loss = 0.07865994\n",
      "Iteration 147, loss = 0.07705400\n",
      "Iteration 148, loss = 0.07829962\n",
      "Iteration 149, loss = 0.07787903\n",
      "Iteration 150, loss = 0.07764322\n",
      "Iteration 151, loss = 0.07832409\n",
      "Iteration 152, loss = 0.07847007\n",
      "Iteration 153, loss = 0.07617474\n",
      "Iteration 154, loss = 0.07686774\n",
      "Iteration 155, loss = 0.07833507\n",
      "Iteration 156, loss = 0.07776280\n",
      "Iteration 157, loss = 0.07822060\n",
      "Iteration 158, loss = 0.07894545\n",
      "Iteration 159, loss = 0.07659053\n",
      "Iteration 160, loss = 0.07734300\n",
      "Iteration 161, loss = 0.07660835\n",
      "Iteration 162, loss = 0.07651976\n",
      "Iteration 163, loss = 0.07850135\n",
      "Iteration 164, loss = 0.07731509\n",
      "Training loss did not improve more than tol=0.000100 for 10 consecutive epochs. Stopping.\n",
      "Accuracy: 0.664179104477612\n"
     ]
    },
    {
     "data": {
      "image/png": "[encoded data removed]",
      "text/plain": [
       "<Figure size 144x432 with 2 Axes>"
      ]
     },
     "metadata": {
      "needs_background": "light"
     },
     "output_type": "display_data"
    },
    {
     "name": "stdout",
     "output_type": "stream",
     "text": [
      "-1 min 33 sec\n"
     ]
    }
   ],
   "source": [
    "a=datetime.datetime.now()\n",
    "\n",
    "#x,y = s140_tf_idf, s140['target']\n",
    "#x,y = mr_tf_idf, mr['target']\n",
    "x,y = cc_tf_idf, cc['target']\n",
    "\n",
    "TryModel(MLPClassifier(alpha=0.0025, max_iter=50,epsilon=1e-03,verbose=True), x, y)\n",
    "\n",
    "print(datetime.datetime.now()-a)"
   ]
  },
  {
   "cell_type": "markdown",
   "metadata": {},
   "source": [
    "### s140"
   ]
  },
  {
   "cell_type": "code",
   "execution_count": 131,
   "metadata": {},
   "outputs": [
    {
     "name": "stderr",
     "output_type": "stream",
     "text": [
      "/home/rd/miniconda3/envs/UdeM/lib/python3.7/site-packages/sklearn/neural_network/multilayer_perceptron.py:568: UserWarning: Training interrupted by user.\n",
      "  warnings.warn(\"Training interrupted by user.\")\n"
     ]
    },
    {
     "name": "stdout",
     "output_type": "stream",
     "text": [
      "Accuracy: 0.7692158700406123\n"
     ]
    },
    {
     "data": {
      "image/png": "[encoded data removed]",
      "text/plain": [
       "<Figure size 144x432 with 2 Axes>"
      ]
     },
     "metadata": {
      "needs_background": "light"
     },
     "output_type": "display_data"
    },
    {
     "name": "stdout",
     "output_type": "stream",
     "text": [
      "0:59:29.749774\n"
     ]
    }
   ],
   "source": [
    "a=datetime.datetime.now()\n",
    "\n",
    "x,y = s140_tf_idf, s140['target']\n",
    "#x,y = mr_tf_idf, mr['target']\n",
    "#x,y = cc_tf_idf, cc['target']\n",
    "\n",
    "TryModel(MLPClassifier(alpha=0.0025, max_iter=5,epsilon=1e-03,verbose=True), x, y)\n",
    "\n",
    "print(datetime.datetime.now()-a)"
   ]
  },
  {
   "cell_type": "markdown",
   "metadata": {},
   "source": [
    "## MLP Movies trained w S140"
   ]
  },
  {
   "cell_type": "code",
   "execution_count": null,
   "metadata": {},
   "outputs": [],
   "source": [
    "a=datetime.datetime.now()\n",
    "\n",
    "#x,y = s140_tf_idf, s140['target']\n",
    "#x,y = mr_tf_idf, mr['target']\n",
    "x_train,y_train = cc_tf_idf, cc['target']\n",
    "\n",
    "TryModel(MLPClassifier(alpha=0.0025, max_iter=25,epsilon=1e-03,verbose=True), x_train, y_train, x_valid, y_valid)\n",
    "\n",
    "print(datetime.datetime.now()-a)"
   ]
  }
 ],
 "metadata": {
  "kernelspec": {
   "display_name": "Python 3",
   "language": "python",
   "name": "python3"
  },
  "language_info": {
   "codemirror_mode": {
    "name": "ipython",
    "version": 3
   },
   "file_extension": ".py",
   "mimetype": "text/x-python",
   "name": "python",
   "nbconvert_exporter": "python",
   "pygments_lexer": "ipython3",
   "version": "3.7.4"
  }
 },
 "nbformat": 4,
 "nbformat_minor": 2
}
