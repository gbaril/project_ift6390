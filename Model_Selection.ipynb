{
 "cells": [
  {
   "cell_type": "markdown",
   "metadata": {},
   "source": [
    "# IFT6390 Project - Data Exploration snippets"
   ]
  },
  {
   "cell_type": "markdown",
   "metadata": {},
   "source": [
    "## Useful piece of code"
   ]
  },
  {
   "cell_type": "markdown",
   "metadata": {},
   "source": [
    "## Setup - data"
   ]
  },
  {
   "cell_type": "code",
   "execution_count": 2,
   "metadata": {},
   "outputs": [],
   "source": [
    "import pandas as pd\n",
    "import numpy as np"
   ]
  },
  {
   "cell_type": "markdown",
   "metadata": {},
   "source": [
    "## Import cleaned dataframe"
   ]
  },
  {
   "cell_type": "code",
   "execution_count": 4,
   "metadata": {},
   "outputs": [],
   "source": [
    "s140=pd.read_pickle('data/s140_clean_28nov.pkl')\n",
    "mr=pd.read_pickle('data/mr_clean_28nov.pkl')\n",
    "cc=pd.read_pickle('data/cc_clean_28nov.pkl')"
   ]
  },
  {
   "cell_type": "code",
   "execution_count": 7,
   "metadata": {},
   "outputs": [],
   "source": [
    "from sklearn.feature_extraction.text import TfidfVectorizer \n",
    "\n",
    "def make_tfidf(df):\n",
    "    tf_vect=TfidfVectorizer(use_idf=False,stop_words=stopw)\n",
    "    tf=tf_vect.fit_transform(df.tolist())\n",
    "    \n",
    "    l=tf.shape[0]\n",
    "    \n",
    "    w_count=np.array(tf.sum(axis=0,))[0]/l\n",
    "    #wcm=w_count.max()\n",
    "    #w_count=w_count/wcm\n",
    "    wcr=w_count.argsort()[::-1].argsort()\n",
    "\n",
    "    \n",
    "    idf_vect=TfidfVectorizer(use_idf=True,stop_words=stopw)\n",
    "    idf=idf_vect.fit_transform(df.tolist())\n",
    "    \n",
    "    w_marker=np.array(idf.sum(axis=0))[0]/l\n",
    "    #wmm=w_marker.max()\n",
    "    #w_marker=w_marker/wmm\n",
    "    wmr=w_marker.argsort()[::-1].argsort()\n",
    "    \n",
    "    \n",
    "    # SRC -> https://kavita-ganesan.com/tfidftransformer-tfidfvectorizer-usage-differences/\n",
    "    feature_names=tf_vect.get_feature_names()\n",
    "    \n",
    "    tf_idf = pd.DataFrame(np.array([w_count, w_marker, wcr, wmr]).T, index=feature_names, columns=[\"tf\", \"idf\", \"rank_tf\", \"rank_idf\"])\n",
    "    tf_idf = tf_idf.sort_values(by=[\"tf\"],ascending=False)\n",
    "\n",
    "    tf_idf.rank_tf=tf_idf.rank_tf.astype('int64')\n",
    "    tf_idf.rank_idf=tf_idf.rank_idf.astype('int64')\n",
    "\n",
    "    return tf_idf\n"
   ]
  },
  {
   "cell_type": "code",
   "execution_count": 8,
   "metadata": {},
   "outputs": [],
   "source": [
    "all=make_tfidf(s140['trimmed'])"
   ]
  },
  {
   "cell_type": "code",
   "execution_count": 9,
   "metadata": {},
   "outputs": [],
   "source": [
    "tf_idf_vect=TfidfVectorizer(use_idf=True,stop_words=stopw)\n",
    "tf_idf=tf_idf_vect.fit_transform(s140['trimmed'].tolist())"
   ]
  },
  {
   "cell_type": "markdown",
   "metadata": {},
   "source": [
    "## Train s140"
   ]
  },
  {
   "cell_type": "code",
   "execution_count": 12,
   "metadata": {},
   "outputs": [
    {
     "name": "stdout",
     "output_type": "stream",
     "text": [
      "Requirement already satisfied: scikit-plot in /home/rd/miniconda3/envs/UdeM/lib/python3.7/site-packages (0.3.7)\n",
      "Requirement already satisfied: scipy>=0.9 in /home/rd/miniconda3/envs/UdeM/lib/python3.7/site-packages (from scikit-plot) (1.3.1)\n",
      "Requirement already satisfied: scikit-learn>=0.18 in /home/rd/miniconda3/envs/UdeM/lib/python3.7/site-packages (from scikit-plot) (0.21.3)\n",
      "Requirement already satisfied: matplotlib>=1.4.0 in /home/rd/miniconda3/envs/UdeM/lib/python3.7/site-packages (from scikit-plot) (3.1.1)\n",
      "Requirement already satisfied: joblib>=0.10 in /home/rd/miniconda3/envs/UdeM/lib/python3.7/site-packages (from scikit-plot) (0.14.0)\n",
      "Requirement already satisfied: numpy>=1.11.0 in /home/rd/miniconda3/envs/UdeM/lib/python3.7/site-packages (from scikit-learn>=0.18->scikit-plot) (1.16.5)\n",
      "Requirement already satisfied: cycler>=0.10 in /home/rd/miniconda3/envs/UdeM/lib/python3.7/site-packages (from matplotlib>=1.4.0->scikit-plot) (0.10.0)\n",
      "Requirement already satisfied: kiwisolver>=1.0.1 in /home/rd/miniconda3/envs/UdeM/lib/python3.7/site-packages (from matplotlib>=1.4.0->scikit-plot) (1.1.0)\n",
      "Requirement already satisfied: pyparsing!=2.0.4,!=2.1.2,!=2.1.6,>=2.0.1 in /home/rd/miniconda3/envs/UdeM/lib/python3.7/site-packages (from matplotlib>=1.4.0->scikit-plot) (2.4.2)\n",
      "Requirement already satisfied: python-dateutil>=2.1 in /home/rd/miniconda3/envs/UdeM/lib/python3.7/site-packages (from matplotlib>=1.4.0->scikit-plot) (2.8.0)\n",
      "Requirement already satisfied: six in /home/rd/miniconda3/envs/UdeM/lib/python3.7/site-packages (from cycler>=0.10->matplotlib>=1.4.0->scikit-plot) (1.12.0)\n",
      "Requirement already satisfied: setuptools in /home/rd/miniconda3/envs/UdeM/lib/python3.7/site-packages (from kiwisolver>=1.0.1->matplotlib>=1.4.0->scikit-plot) (41.0.1)\n"
     ]
    }
   ],
   "source": [
    "import sys\n",
    "!{sys.executable} -m pip install scikit-plot\n",
    "\n",
    "import scikitplot#.plotters as skplt"
   ]
  },
  {
   "cell_type": "markdown",
   "metadata": {},
   "source": [
    "## Model testing"
   ]
  },
  {
   "cell_type": "code",
   "execution_count": 10,
   "metadata": {},
   "outputs": [],
   "source": [
    "import matplotlib.pyplot as plt\n",
    "from sklearn.model_selection import train_test_split\n",
    "from sklearn.model_selection import cross_val_score\n",
    "\n",
    "#The mean score and the 95% confidence interval of the score estimate are hence given by:\n",
    "\n",
    "def TryModel(model, x, y):    \n",
    "    if True:\n",
    "        X_train, X_valid, y_train, y_valid = train_test_split(x, y, test_size=0.10, random_state=42)\n",
    "        \n",
    "        clf = model.fit(X_train, y_train)\n",
    "        \n",
    "        predicted = clf.predict(X_valid)\n",
    "\n",
    "        from sklearn.metrics import accuracy_score\n",
    "        acc=accuracy_score(y_valid, predicted)\n",
    "        print(f\"Accuracy: {acc}\")\n",
    "    else:\n",
    "        scores = cross_val_score(model, x, y, cv=5)\n",
    "        print(\"Accuracy: %0.2f (+/- %0.2f)\" % (scores.mean(), scores.std() * 2))\n",
    "\n",
    "    scikitplot.metrics.plot_confusion_matrix(y_valid, predicted,x_tick_rotation=90,figsize=(9,9))#, normalize=True)\n",
    "    \n",
    "    plt.show()"
   ]
  },
  {
   "cell_type": "code",
   "execution_count": null,
   "metadata": {},
   "outputs": [],
   "source": [
    "from sklearn.naive_bayes import MultinomialNB\n",
    "from sklearn import linear_model\n",
    "from sklearn.neural_network import MLPClassifier\n",
    "from sklearn.ensemble import RandomForestClassifier, VotingClassifier, AdaBoostClassifier\n",
    "from sklearn.tree import DecisionTreeClassifier\n",
    "from sklearn import svm\n",
    "\n",
    "x,y = tf_idf, s140['target']\n",
    "\n",
    "#TryModel(MultinomialNB(), x, y)\n",
    "#TryModel(linear_model.SGDClassifier(max_iter=1000, tol=1e-3), x, y)\n",
    "TryModel(MLPClassifier(alpha=0.25, max_iter=25,epsilon=1e-02,verbose=True), x, y)\n",
    "#TryModel(AdaBoostClassifier(DecisionTreeClassifier(max_depth=10)), x, y)\n",
    "#vch = VotingClassifier(estimators=[('NB25', clf1), ('SGDp', clf2), ('SGDlog', clf3),('NB35', clf4)], voting='hard')\n",
    "#vcs = VotingClassifier(estimators=[('NB10', clf1), ('SGD', clf2), ('SGDlog', clf3),('NB35', clf4)], voting='soft')\n",
    "#TryModel(svm.SVC(kernel='linear', C=1), x, y)\n"
   ]
  }
 ],
 "metadata": {
  "kernelspec": {
   "display_name": "Python 3",
   "language": "python",
   "name": "python3"
  },
  "language_info": {
   "codemirror_mode": {
    "name": "ipython",
    "version": 3
   },
   "file_extension": ".py",
   "mimetype": "text/x-python",
   "name": "python",
   "nbconvert_exporter": "python",
   "pygments_lexer": "ipython3",
   "version": "3.7.4"
  }
 },
 "nbformat": 4,
 "nbformat_minor": 2
}
