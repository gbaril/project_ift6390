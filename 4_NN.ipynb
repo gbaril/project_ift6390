{
 "cells": [
  {
   "cell_type": "markdown",
   "metadata": {},
   "source": [
    "# IFT6390 Project - Data Exploration snippets"
   ]
  },
  {
   "cell_type": "markdown",
   "metadata": {},
   "source": [
    "## Useful piece of code"
   ]
  },
  {
   "cell_type": "markdown",
   "metadata": {},
   "source": [
    "## Setup - data"
   ]
  },
  {
   "cell_type": "code",
   "execution_count": 13,
   "metadata": {},
   "outputs": [
    {
     "name": "stdout",
     "output_type": "stream",
     "text": [
      "Automatically created module for IPython interactive environment\n",
      "Collecting keras\n",
      "\u001b[?25l  Downloading https://files.pythonhosted.org/packages/ad/fd/6bfe87920d7f4fd475acd28500a42482b6b84479832bdc0fe9e589a60ceb/Keras-2.3.1-py2.py3-none-any.whl (377kB)\n",
      "\u001b[K     |████████████████████████████████| 378kB 1.3MB/s eta 0:00:01\n",
      "\u001b[?25hRequirement already satisfied: h5py in /home/rd/miniconda3/envs/UdeM/lib/python3.7/site-packages (from keras) (2.9.0)\n",
      "Requirement already satisfied: numpy>=1.9.1 in /home/rd/miniconda3/envs/UdeM/lib/python3.7/site-packages (from keras) (1.16.5)\n",
      "Requirement already satisfied: keras-preprocessing>=1.0.5 in /home/rd/miniconda3/envs/UdeM/lib/python3.7/site-packages (from keras) (1.1.0)\n",
      "Requirement already satisfied: six>=1.9.0 in /home/rd/miniconda3/envs/UdeM/lib/python3.7/site-packages (from keras) (1.12.0)\n",
      "Requirement already satisfied: scipy>=0.14 in /home/rd/miniconda3/envs/UdeM/lib/python3.7/site-packages (from keras) (1.3.1)\n",
      "Requirement already satisfied: keras-applications>=1.0.6 in /home/rd/miniconda3/envs/UdeM/lib/python3.7/site-packages (from keras) (1.0.8)\n",
      "Requirement already satisfied: pyyaml in /home/rd/miniconda3/envs/UdeM/lib/python3.7/site-packages (from keras) (5.1.2)\n",
      "Installing collected packages: keras\n",
      "Successfully installed keras-2.3.1\n"
     ]
    },
    {
     "name": "stderr",
     "output_type": "stream",
     "text": [
      "Using TensorFlow backend.\n",
      "[nltk_data] Downloading package stopwords to /home/rd/nltk_data...\n",
      "[nltk_data]   Package stopwords is already up-to-date!\n"
     ]
    }
   ],
   "source": [
    "print(__doc__)\n",
    "\n",
    "!pip install keras\n",
    "!{sys.executable} -m pip install scikit-plot\n",
    "\n",
    "import keras\n",
    "import scikitplot as skplt\n",
    "\n",
    "import pandas as pd\n",
    "import numpy as np\n",
    "import datetime\n",
    "import seaborn as sns\n",
    "import sys\n",
    "\n",
    "\n",
    "#Natural Language Toolkit\n",
    "import nltk\n",
    "nltk.download('stopwords')\n",
    "from nltk.corpus import stopwords\n",
    "\n",
    "#identifies words which are not adding semantic value to the sentence\n",
    "stopw = set(stopwords.words('english'))"
   ]
  },
  {
   "cell_type": "markdown",
   "metadata": {},
   "source": [
    "## Import cleaned dataframe"
   ]
  },
  {
   "cell_type": "code",
   "execution_count": 155,
   "metadata": {},
   "outputs": [
    {
     "name": "stdout",
     "output_type": "stream",
     "text": [
      "0:00:06.579116\n"
     ]
    }
   ],
   "source": [
    "a=datetime.datetime.now()\n",
    "\n",
    "s140=pd.read_pickle('data/s140_clean_28nov.pkl')\n",
    "mr=pd.read_pickle('data/mr_clean_28nov.pkl')\n",
    "cc=pd.read_pickle('data/cc_clean_28nov.pkl')\n",
    "\n",
    "print(datetime.datetime.now()-a)"
   ]
  },
  {
   "cell_type": "code",
   "execution_count": 184,
   "metadata": {},
   "outputs": [
    {
     "data": {
      "text/plain": [
       "0          -1\n",
       "1          -1\n",
       "2          -1\n",
       "3          -1\n",
       "4          -1\n",
       "           ..\n",
       "1600493     1\n",
       "1600494     1\n",
       "1600495     1\n",
       "1600496     1\n",
       "1600497     1\n",
       "Name: target, Length: 1600498, dtype: object"
      ]
     },
     "execution_count": 184,
     "metadata": {},
     "output_type": "execute_result"
    }
   ],
   "source": [
    "s140.target"
   ]
  },
  {
   "cell_type": "code",
   "execution_count": 185,
   "metadata": {},
   "outputs": [
    {
     "name": "stdout",
     "output_type": "stream",
     "text": [
      "NaN before replace:  0\n",
      "NaN after replace:  0\n"
     ]
    }
   ],
   "source": [
    "print('NaN before replace: ', cc.target.isna().sum())\n",
    "cc=cc.replace({'target': {np.nan: 'Not Sure'}})\n",
    "print('NaN after replace: ', cc.target.isna().sum())\n",
    "\n",
    "def nnlabel(df):\n",
    "    return df.replace({'target': {'positive':1,'Not Sure':0,'neutral':0,'negative':2}})\n",
    "\n",
    "cc=nnlabel(cc)\n",
    "mr=nnlabel(mr)\n",
    "s140=nnlabel(s140)"
   ]
  },
  {
   "cell_type": "code",
   "execution_count": 157,
   "metadata": {},
   "outputs": [],
   "source": [
    "from sklearn.feature_extraction.text import TfidfVectorizer \n",
    "\n",
    "def make_tfidf(df):\n",
    "    tf_vect=TfidfVectorizer(use_idf=False,stop_words=stopw)\n",
    "    tf=tf_vect.fit_transform(df.tolist())\n",
    "    \n",
    "    l=tf.shape[0]\n",
    "    \n",
    "    w_count=np.array(tf.sum(axis=0,))[0]/l\n",
    "    #wcm=w_count.max()\n",
    "    #w_count=w_count/wcm\n",
    "    wcr=w_count.argsort()[::-1].argsort()\n",
    "\n",
    "    \n",
    "    idf_vect=TfidfVectorizer(use_idf=True,stop_words=stopw)\n",
    "    idf=idf_vect.fit_transform(df.tolist())\n",
    "    \n",
    "    w_marker=np.array(idf.sum(axis=0))[0]/l\n",
    "    #wmm=w_marker.max()\n",
    "    #w_marker=w_marker/wmm\n",
    "    wmr=w_marker.argsort()[::-1].argsort()\n",
    "    \n",
    "    \n",
    "    # SRC -> https://kavita-ganesan.com/tfidftransformer-tfidfvectorizer-usage-differences/\n",
    "    feature_names=tf_vect.get_feature_names()\n",
    "    \n",
    "    tf_idf = pd.DataFrame(np.array([w_count, w_marker, wcr, wmr]).T, index=feature_names, columns=[\"tf\", \"idf\", \"rank_tf\", \"rank_idf\"])\n",
    "    tf_idf = tf_idf.sort_values(by=[\"tf\"],ascending=False)\n",
    "\n",
    "    tf_idf.rank_tf=tf_idf.rank_tf.astype('int64')\n",
    "    tf_idf.rank_idf=tf_idf.rank_idf.astype('int64')\n",
    "\n",
    "    return tf_idf\n"
   ]
  },
  {
   "cell_type": "markdown",
   "metadata": {},
   "source": [
    "## Transform s140"
   ]
  },
  {
   "cell_type": "code",
   "execution_count": 6,
   "metadata": {},
   "outputs": [],
   "source": [
    "#all=make_tfidf(s140['trimmed'])"
   ]
  },
  {
   "cell_type": "code",
   "execution_count": 158,
   "metadata": {},
   "outputs": [
    {
     "name": "stdout",
     "output_type": "stream",
     "text": [
      "0:00:29.179505\n"
     ]
    }
   ],
   "source": [
    "a=datetime.datetime.now()\n",
    "\n",
    "tf_idf_vect=TfidfVectorizer(use_idf=True,stop_words=stopw)\n",
    "s140_tf_idf=tf_idf_vect.fit_transform(s140['trimmed'].tolist())\n",
    "\n",
    "print(datetime.datetime.now()-a)"
   ]
  },
  {
   "cell_type": "markdown",
   "metadata": {},
   "source": [
    "## Transform MR"
   ]
  },
  {
   "cell_type": "code",
   "execution_count": 159,
   "metadata": {},
   "outputs": [
    {
     "name": "stdout",
     "output_type": "stream",
     "text": [
      "0:00:07.134736\n"
     ]
    }
   ],
   "source": [
    "a=datetime.datetime.now()\n",
    "\n",
    "tf_idf_vect=TfidfVectorizer(use_idf=True,stop_words=stopw)\n",
    "mr_tf_idf=tf_idf_vect.fit_transform(mr['trimmed'].tolist())\n",
    "\n",
    "print(datetime.datetime.now()-a)"
   ]
  },
  {
   "cell_type": "markdown",
   "metadata": {},
   "source": [
    "## Transform CC"
   ]
  },
  {
   "cell_type": "code",
   "execution_count": 160,
   "metadata": {},
   "outputs": [
    {
     "name": "stdout",
     "output_type": "stream",
     "text": [
      "0:00:00.145637\n"
     ]
    }
   ],
   "source": [
    "a=datetime.datetime.now()\n",
    "\n",
    "tf_idf_vect=TfidfVectorizer(use_idf=True,stop_words=stopw)\n",
    "cc_tf_idf=tf_idf_vect.fit_transform(cc['trimmed'].tolist())\n",
    "\n",
    "print(datetime.datetime.now()-a)"
   ]
  },
  {
   "cell_type": "markdown",
   "metadata": {},
   "source": [
    "## Model testing"
   ]
  },
  {
   "cell_type": "code",
   "execution_count": 176,
   "metadata": {},
   "outputs": [],
   "source": [
    "#import scikitplot as skplt\n",
    "#import scikitplot#.plotters as skplt\n",
    "\n",
    "import matplotlib.pyplot as plt\n",
    "from sklearn.model_selection import train_test_split\n",
    "from sklearn.model_selection import cross_val_score\n",
    "from sklearn.metrics import accuracy_score\n",
    "\n",
    "#The mean score and the 95% confidence interval of the score estimate are hence given by:\n",
    "\n",
    "def crossval(model, x, y):    \n",
    "    scores = cross_val_score(model, x, y, cv=5)\n",
    "    print(\"Accuracy: %0.2f (+/- %0.2f)\" % (scores.mean(), scores.std() * 2))\n",
    "\n",
    "def confusion(y_valid,predicted):\n",
    "    if len(y_valid.shape)!=1 or len(predicted.shape)!=1:\n",
    "        y_v=np.argmax(y_valid,axis=1)\n",
    "        pred=np.argmax(predicted,axis=1)\n",
    "    skplt.metrics.plot_confusion_matrix(y_v, pred,x_tick_rotation=90,figsize=(3,6))#, normalize=True)\n",
    "    plt.show()  \n",
    "    \n",
    "def TryModel(model, xt, yt,xv=0,yv=0, selfie=True):  \n",
    "    if selfie:\n",
    "        X_train, X_valid, y_train, y_valid = train_test_split(x, y, test_size=0.20, random_state=42)\n",
    "    else:\n",
    "        X_train, X_valid, y_train, y_valid=xt,xv,yt,yv\n",
    "\n",
    "    clf = model.fit(X_train, y_train)\n",
    "\n",
    "    predicted = clf.predict(X_valid)\n",
    "\n",
    "    acc=accuracy_score(y_valid, predicted)\n",
    "    print(f\"Accuracy: {acc}\")\n",
    "\n",
    "    confusion(y_valid,predicted)\n",
    "\n",
    "    return y_valid,predicted\n",
    "\n",
    "\n",
    "from dataclasses import dataclass\n",
    "from keras.models import Sequential\n",
    "from keras.layers import Dense\n",
    "from keras.utils import to_categorical\n",
    "\n",
    "## Data\n",
    "#data = np.random.random((1000,100))\n",
    "#labels = np.random.randint(2,size=(1000,1))\n",
    "\n",
    "class nn:\n",
    "    def __init__(self):\n",
    "        pass\n",
    "        \n",
    "    def train(x,y,epoch=1,layers=16):\n",
    "        # Define network (model)\n",
    "        nn.model = Sequential() \n",
    "\n",
    "        nn.y = to_categorical(y,3)\n",
    "        nn.model.add(Dense(layers, activation='relu', input_dim=x.shape[1]))\n",
    "        nn.model.add(Dense(nn.y.shape[1], activation='sigmoid'))\n",
    "\n",
    "        # Configure training\n",
    "        nn.model.compile(optimizer='rmsprop', loss='categorical_crossentropy', metrics=['accuracy'])\n",
    "\n",
    "        # Fit model by training\n",
    "        nn.model.fit(x,nn.y,epochs=epoch,batch_size=32)\n",
    "        \n",
    "    def predict(x_test):\n",
    "        # Make predictions\n",
    "        return nn.y,nn.model.predict(x_test)\n",
    "    \n",
    "    def eval(x,y):\n",
    "        test_loss, test_acc = network.evaluate(x,y)\n",
    "        return test_loss, test_acc"
   ]
  },
  {
   "cell_type": "markdown",
   "metadata": {},
   "source": [
    "## Trained and tested on the same dataset (selfie)"
   ]
  },
  {
   "cell_type": "markdown",
   "metadata": {},
   "source": [
    "### mr"
   ]
  },
  {
   "cell_type": "code",
   "execution_count": 171,
   "metadata": {},
   "outputs": [
    {
     "name": "stdout",
     "output_type": "stream",
     "text": [
      "Epoch 1/1\n",
      "50000/50000 [==============================] - 91s 2ms/step - loss: 0.4392 - accuracy: 0.8625\n"
     ]
    },
    {
     "data": {
      "image/png": "[encoded data removed]",
      "text/plain": [
       "<Figure size 144x432 with 2 Axes>"
      ]
     },
     "metadata": {
      "needs_background": "light"
     },
     "output_type": "display_data"
    }
   ],
   "source": [
    "a=datetime.datetime.now()\n",
    "\n",
    "#x,y = s140_tf_idf, s140['target']\n",
    "x,y = mr_tf_idf, mr['target']\n",
    "#x,y = cc_tf_idf, cc['target']\n",
    "\n",
    "mrNN=nn\n",
    "mrNN.train(x, y)\n",
    "mr_y,mr_pred=mrNN.predict(x)\n",
    "confusion(mr_y,mr_pred)\n",
    "\n",
    "#print(datetime.datetime.now()-a)"
   ]
  },
  {
   "cell_type": "markdown",
   "metadata": {},
   "source": [
    "### cc"
   ]
  },
  {
   "cell_type": "code",
   "execution_count": 177,
   "metadata": {},
   "outputs": [
    {
     "name": "stdout",
     "output_type": "stream",
     "text": [
      "Epoch 1/5\n",
      "6027/6027 [==============================] - 3s 572us/step - loss: 1.0211 - accuracy: 0.5125\n",
      "Epoch 2/5\n",
      "6027/6027 [==============================] - 3s 480us/step - loss: 0.9161 - accuracy: 0.5323\n",
      "Epoch 3/5\n",
      "6027/6027 [==============================] - 3s 459us/step - loss: 0.8236 - accuracy: 0.5902\n",
      "Epoch 4/5\n",
      "6027/6027 [==============================] - 3s 460us/step - loss: 0.7331 - accuracy: 0.6753\n",
      "Epoch 5/5\n",
      "6027/6027 [==============================] - 3s 420us/step - loss: 0.6554 - accuracy: 0.7456\n"
     ]
    },
    {
     "data": {
      "image/png": "[encoded data removed]",
      "text/plain": [
       "<Figure size 216x432 with 2 Axes>"
      ]
     },
     "metadata": {
      "needs_background": "light"
     },
     "output_type": "display_data"
    },
    {
     "name": "stdout",
     "output_type": "stream",
     "text": [
      "0:00:16.984275\n"
     ]
    }
   ],
   "source": [
    "a=datetime.datetime.now()\n",
    "\n",
    "#x,y = s140_tf_idf, s140['target']\n",
    "#x,y = mr_tf_idf, mr['target']\n",
    "x,y = cc_tf_idf, cc['target']\n",
    "\n",
    "ccNN=nn\n",
    "ccNN.train(x, y, 5)\n",
    "cc_y, cc_pred=ccNN.predict(x)\n",
    "confusion(cc_y,cc_pred)\n",
    "\n",
    "print(datetime.datetime.now()-a)"
   ]
  },
  {
   "cell_type": "markdown",
   "metadata": {},
   "source": [
    "### s140"
   ]
  },
  {
   "cell_type": "code",
   "execution_count": null,
   "metadata": {},
   "outputs": [
    {
     "name": "stdout",
     "output_type": "stream",
     "text": [
      "Epoch 1/1\n",
      "  43680/1600498 [..............................] - ETA: 3:43:39 - loss: 0.6751 - accuracy: 0.6745"
     ]
    }
   ],
   "source": [
    "a=datetime.datetime.now()\n",
    "\n",
    "x,y = s140_tf_idf, s140['target']\n",
    "#x,y = mr_tf_idf, mr['target']\n",
    "#x,y = cc_tf_idf, cc['target']\n",
    "\n",
    "s140NN=nn\n",
    "s140NN.train(x, y)\n",
    "s140_y,s140_pred=s140NN.predict(x)\n",
    "confusion(s140_y,s140_pred)\n",
    "\n",
    "print(datetime.datetime.now()-a)"
   ]
  },
  {
   "cell_type": "markdown",
   "metadata": {},
   "source": [
    "# Cross-Trained"
   ]
  },
  {
   "cell_type": "markdown",
   "metadata": {},
   "source": [
    "## NN Movies trained w S140"
   ]
  },
  {
   "cell_type": "code",
   "execution_count": null,
   "metadata": {},
   "outputs": [],
   "source": [
    "a=datetime.datetime.now()\n",
    "\n",
    "#x,y = s140_tf_idf, s140['target']\n",
    "x,y = mr_tf_idf, mr['target']\n",
    "#x,y = cc_tf_idf, cc['target']\n",
    "\n",
    "pred=s140NN.predict(x)\n",
    "confusion(y,pred)\n",
    "\n",
    "print(datetime.datetime.now()-a)"
   ]
  },
  {
   "cell_type": "markdown",
   "metadata": {},
   "source": [
    "## NN CC trained w S140"
   ]
  },
  {
   "cell_type": "code",
   "execution_count": null,
   "metadata": {},
   "outputs": [],
   "source": [
    "a=datetime.datetime.now()\n",
    "\n",
    "#x,y = s140_tf_idf, s140['target']\n",
    "#x,y = mr_tf_idf, mr['target']\n",
    "x,y = cc_tf_idf, cc['target']\n",
    "\n",
    "pred=s140NN.predict(x)\n",
    "confusion(y,pred)\n",
    "\n",
    "print(datetime.datetime.now()-a)"
   ]
  },
  {
   "cell_type": "markdown",
   "metadata": {},
   "source": [
    "## NN Movies trained w CC"
   ]
  },
  {
   "cell_type": "code",
   "execution_count": null,
   "metadata": {},
   "outputs": [],
   "source": [
    "a=datetime.datetime.now()\n",
    "\n",
    "#x,y = s140_tf_idf, s140['target']\n",
    "x,y = mr_tf_idf, mr['target']\n",
    "#x,y = cc_tf_idf, cc['target']\n",
    "\n",
    "pred=ccNN.predict(x)\n",
    "confusion(y,pred)\n",
    "\n",
    "print(datetime.datetime.now()-a)"
   ]
  },
  {
   "cell_type": "markdown",
   "metadata": {},
   "source": [
    "## NN CC trained w Movies"
   ]
  },
  {
   "cell_type": "code",
   "execution_count": null,
   "metadata": {},
   "outputs": [],
   "source": [
    "a=datetime.datetime.now()\n",
    "\n",
    "#x,y = s140_tf_idf, s140['target']\n",
    "#x,y = mr_tf_idf, mr['target']\n",
    "x,y = cc_tf_idf, cc['target']\n",
    "\n",
    "pred=mrNN.predict(x)\n",
    "confusion(y,pred)\n",
    "\n",
    "print(datetime.datetime.now()-a)"
   ]
  },
  {
   "cell_type": "markdown",
   "metadata": {},
   "source": [
    "## NN s140 trained w CC"
   ]
  },
  {
   "cell_type": "code",
   "execution_count": null,
   "metadata": {},
   "outputs": [],
   "source": [
    "a=datetime.datetime.now()\n",
    "\n",
    "x,y = s140_tf_idf, s140['target']\n",
    "#x,y = mr_tf_idf, mr['target']\n",
    "#x,y = cc_tf_idf, cc['target']\n",
    "\n",
    "pred=ccNN.predict(x)\n",
    "confusion(y,pred)\n",
    "\n",
    "print(datetime.datetime.now()-a)"
   ]
  },
  {
   "cell_type": "markdown",
   "metadata": {},
   "source": [
    "## NN s140 trained w Movies"
   ]
  },
  {
   "cell_type": "code",
   "execution_count": null,
   "metadata": {},
   "outputs": [],
   "source": [
    "a=datetime.datetime.now()\n",
    "\n",
    "x,y = s140_tf_idf, s140['target']\n",
    "#x,y = mr_tf_idf, mr['target']\n",
    "#x,y = cc_tf_idf, cc['target']\n",
    "\n",
    "pred=mrNN.predict(x)\n",
    "confusion(y,pred)\n",
    "\n",
    "print(datetime.datetime.now()-a)"
   ]
  },
  {
   "cell_type": "code",
   "execution_count": 109,
   "metadata": {},
   "outputs": [
    {
     "data": {
      "text/plain": [
       "array([[779., 779.],\n",
       "       [779., 779.],\n",
       "       [779., 779.],\n",
       "       ...,\n",
       "       [779., 779.],\n",
       "       [779., 779.],\n",
       "       [779., 779.]], dtype=float32)"
      ]
     },
     "execution_count": 109,
     "metadata": {},
     "output_type": "execute_result"
    }
   ],
   "source": [
    "y123=np.argmax(pred,axis=1)\n",
    "y123[y123!=0]\n",
    "pred"
   ]
  }
 ],
 "metadata": {
  "kernelspec": {
   "display_name": "Python 3",
   "language": "python",
   "name": "python3"
  },
  "language_info": {
   "codemirror_mode": {
    "name": "ipython",
    "version": 3
   },
   "file_extension": ".py",
   "mimetype": "text/x-python",
   "name": "python",
   "nbconvert_exporter": "python",
   "pygments_lexer": "ipython3",
   "version": "3.7.4"
  }
 },
 "nbformat": 4,
 "nbformat_minor": 2
}
