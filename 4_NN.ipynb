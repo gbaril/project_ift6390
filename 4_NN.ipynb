{
 "cells": [
  {
   "cell_type": "markdown",
   "metadata": {},
   "source": [
    "# IFT6390 Project - Data Exploration snippets"
   ]
  },
  {
   "cell_type": "markdown",
   "metadata": {},
   "source": [
    "## Useful piece of code"
   ]
  },
  {
   "cell_type": "markdown",
   "metadata": {},
   "source": [
    "## Setup - data"
   ]
  },
  {
   "cell_type": "code",
   "execution_count": 203,
   "metadata": {},
   "outputs": [
    {
     "name": "stdout",
     "output_type": "stream",
     "text": [
      "Automatically created module for IPython interactive environment\n",
      "Requirement already satisfied: keras in /home/rd/miniconda3/envs/UdeM/lib/python3.7/site-packages (2.3.1)\n",
      "Requirement already satisfied: keras-applications>=1.0.6 in /home/rd/miniconda3/envs/UdeM/lib/python3.7/site-packages (from keras) (1.0.8)\n",
      "Requirement already satisfied: keras-preprocessing>=1.0.5 in /home/rd/miniconda3/envs/UdeM/lib/python3.7/site-packages (from keras) (1.1.0)\n",
      "Requirement already satisfied: scipy>=0.14 in /home/rd/miniconda3/envs/UdeM/lib/python3.7/site-packages (from keras) (1.3.1)\n",
      "Requirement already satisfied: six>=1.9.0 in /home/rd/miniconda3/envs/UdeM/lib/python3.7/site-packages (from keras) (1.12.0)\n",
      "Requirement already satisfied: numpy>=1.9.1 in /home/rd/miniconda3/envs/UdeM/lib/python3.7/site-packages (from keras) (1.16.5)\n",
      "Requirement already satisfied: h5py in /home/rd/miniconda3/envs/UdeM/lib/python3.7/site-packages (from keras) (2.9.0)\n",
      "Requirement already satisfied: pyyaml in /home/rd/miniconda3/envs/UdeM/lib/python3.7/site-packages (from keras) (5.1.2)\n",
      "Requirement already satisfied: scikit-plot in /home/rd/miniconda3/envs/UdeM/lib/python3.7/site-packages (0.3.7)\n",
      "Requirement already satisfied: scikit-learn>=0.18 in /home/rd/miniconda3/envs/UdeM/lib/python3.7/site-packages (from scikit-plot) (0.21.3)\n",
      "Requirement already satisfied: joblib>=0.10 in /home/rd/miniconda3/envs/UdeM/lib/python3.7/site-packages (from scikit-plot) (0.14.0)\n",
      "Requirement already satisfied: scipy>=0.9 in /home/rd/miniconda3/envs/UdeM/lib/python3.7/site-packages (from scikit-plot) (1.3.1)\n",
      "Requirement already satisfied: matplotlib>=1.4.0 in /home/rd/miniconda3/envs/UdeM/lib/python3.7/site-packages (from scikit-plot) (3.1.1)\n",
      "Requirement already satisfied: numpy>=1.11.0 in /home/rd/miniconda3/envs/UdeM/lib/python3.7/site-packages (from scikit-learn>=0.18->scikit-plot) (1.16.5)\n",
      "Requirement already satisfied: cycler>=0.10 in /home/rd/miniconda3/envs/UdeM/lib/python3.7/site-packages (from matplotlib>=1.4.0->scikit-plot) (0.10.0)\n",
      "Requirement already satisfied: kiwisolver>=1.0.1 in /home/rd/miniconda3/envs/UdeM/lib/python3.7/site-packages (from matplotlib>=1.4.0->scikit-plot) (1.1.0)\n",
      "Requirement already satisfied: pyparsing!=2.0.4,!=2.1.2,!=2.1.6,>=2.0.1 in /home/rd/miniconda3/envs/UdeM/lib/python3.7/site-packages (from matplotlib>=1.4.0->scikit-plot) (2.4.2)\n",
      "Requirement already satisfied: python-dateutil>=2.1 in /home/rd/miniconda3/envs/UdeM/lib/python3.7/site-packages (from matplotlib>=1.4.0->scikit-plot) (2.8.0)\n",
      "Requirement already satisfied: six in /home/rd/miniconda3/envs/UdeM/lib/python3.7/site-packages (from cycler>=0.10->matplotlib>=1.4.0->scikit-plot) (1.12.0)\n",
      "Requirement already satisfied: setuptools in /home/rd/miniconda3/envs/UdeM/lib/python3.7/site-packages (from kiwisolver>=1.0.1->matplotlib>=1.4.0->scikit-plot) (41.0.1)\n"
     ]
    },
    {
     "name": "stderr",
     "output_type": "stream",
     "text": [
      "[nltk_data] Downloading package stopwords to /home/rd/nltk_data...\n",
      "[nltk_data]   Package stopwords is already up-to-date!\n"
     ]
    }
   ],
   "source": [
    "print(__doc__)\n",
    "\n",
    "!pip install keras\n",
    "!{sys.executable} -m pip install scikit-plot\n",
    "\n",
    "import keras\n",
    "import scikitplot as skplt\n",
    "\n",
    "import pandas as pd\n",
    "import numpy as np\n",
    "import datetime\n",
    "import seaborn as sns\n",
    "import sys\n",
    "\n",
    "\n",
    "#Natural Language Toolkit\n",
    "import nltk\n",
    "nltk.download('stopwords')\n",
    "from nltk.corpus import stopwords\n",
    "\n",
    "#identifies words which are not adding semantic value to the sentence\n",
    "stopw = set(stopwords.words('english'))"
   ]
  },
  {
   "cell_type": "markdown",
   "metadata": {},
   "source": [
    "## Import cleaned dataframe"
   ]
  },
  {
   "cell_type": "code",
   "execution_count": 204,
   "metadata": {},
   "outputs": [
    {
     "name": "stdout",
     "output_type": "stream",
     "text": [
      "0:00:06.817698\n"
     ]
    }
   ],
   "source": [
    "a=datetime.datetime.now()\n",
    "\n",
    "s140=pd.read_pickle('data/s140_clean_28nov.pkl')\n",
    "mr=pd.read_pickle('data/mr_clean_28nov.pkl')\n",
    "cc=pd.read_pickle('data/cc_clean_28nov.pkl')\n",
    "\n",
    "print(datetime.datetime.now()-a)"
   ]
  },
  {
   "cell_type": "code",
   "execution_count": 205,
   "metadata": {},
   "outputs": [
    {
     "data": {
      "text/plain": [
       "0          negative\n",
       "1          negative\n",
       "2          negative\n",
       "3          negative\n",
       "4          negative\n",
       "             ...   \n",
       "1600493    positive\n",
       "1600494    positive\n",
       "1600495    positive\n",
       "1600496    positive\n",
       "1600497    positive\n",
       "Name: target, Length: 1600498, dtype: object"
      ]
     },
     "execution_count": 205,
     "metadata": {},
     "output_type": "execute_result"
    }
   ],
   "source": [
    "s140.target"
   ]
  },
  {
   "cell_type": "code",
   "execution_count": 206,
   "metadata": {},
   "outputs": [
    {
     "name": "stdout",
     "output_type": "stream",
     "text": [
      "NaN before replace:  1840\n",
      "NaN after replace:  0\n"
     ]
    }
   ],
   "source": [
    "print('NaN before replace: ', cc.target.isna().sum())\n",
    "cc=cc.replace({'target': {np.nan: 'Not Sure'}})\n",
    "print('NaN after replace: ', cc.target.isna().sum())\n",
    "\n",
    "def nnlabel(df):\n",
    "    return df.replace({'target': {'positive':1,'Not Sure':0,'neutral':0,'negative':2}})\n",
    "\n",
    "cc=nnlabel(cc)\n",
    "mr=nnlabel(mr)\n",
    "s140=nnlabel(s140)"
   ]
  },
  {
   "cell_type": "code",
   "execution_count": 207,
   "metadata": {},
   "outputs": [],
   "source": [
    "from sklearn.feature_extraction.text import TfidfVectorizer \n",
    "\n",
    "def make_tfidf(df):\n",
    "    tf_vect=TfidfVectorizer(use_idf=False,stop_words=stopw)\n",
    "    tf=tf_vect.fit_transform(df.tolist())\n",
    "    \n",
    "    l=tf.shape[0]\n",
    "    \n",
    "    w_count=np.array(tf.sum(axis=0,))[0]/l\n",
    "    #wcm=w_count.max()\n",
    "    #w_count=w_count/wcm\n",
    "    wcr=w_count.argsort()[::-1].argsort()\n",
    "\n",
    "    \n",
    "    idf_vect=TfidfVectorizer(use_idf=True,stop_words=stopw)\n",
    "    idf=idf_vect.fit_transform(df.tolist())\n",
    "    \n",
    "    w_marker=np.array(idf.sum(axis=0))[0]/l\n",
    "    #wmm=w_marker.max()\n",
    "    #w_marker=w_marker/wmm\n",
    "    wmr=w_marker.argsort()[::-1].argsort()\n",
    "    \n",
    "    \n",
    "    # SRC -> https://kavita-ganesan.com/tfidftransformer-tfidfvectorizer-usage-differences/\n",
    "    feature_names=tf_vect.get_feature_names()\n",
    "    \n",
    "    tf_idf = pd.DataFrame(np.array([w_count, w_marker, wcr, wmr]).T, index=feature_names, columns=[\"tf\", \"idf\", \"rank_tf\", \"rank_idf\"])\n",
    "    tf_idf = tf_idf.sort_values(by=[\"tf\"],ascending=False)\n",
    "\n",
    "    tf_idf.rank_tf=tf_idf.rank_tf.astype('int64')\n",
    "    tf_idf.rank_idf=tf_idf.rank_idf.astype('int64')\n",
    "\n",
    "    return tf_idf\n"
   ]
  },
  {
   "cell_type": "markdown",
   "metadata": {},
   "source": [
    "## Transform s140"
   ]
  },
  {
   "cell_type": "code",
   "execution_count": 208,
   "metadata": {},
   "outputs": [],
   "source": [
    "#all=make_tfidf(s140['trimmed'])"
   ]
  },
  {
   "cell_type": "code",
   "execution_count": 209,
   "metadata": {},
   "outputs": [
    {
     "name": "stdout",
     "output_type": "stream",
     "text": [
      "0:00:28.192165\n"
     ]
    }
   ],
   "source": [
    "a=datetime.datetime.now()\n",
    "\n",
    "tf_idf_vect=TfidfVectorizer(use_idf=True,stop_words=stopw)\n",
    "s140_tf_idf=tf_idf_vect.fit_transform(s140['trimmed'].tolist())\n",
    "\n",
    "print(datetime.datetime.now()-a)"
   ]
  },
  {
   "cell_type": "markdown",
   "metadata": {},
   "source": [
    "## Transform MR"
   ]
  },
  {
   "cell_type": "code",
   "execution_count": 210,
   "metadata": {},
   "outputs": [
    {
     "name": "stdout",
     "output_type": "stream",
     "text": [
      "0:00:07.257397\n"
     ]
    }
   ],
   "source": [
    "a=datetime.datetime.now()\n",
    "\n",
    "tf_idf_vect=TfidfVectorizer(use_idf=True,stop_words=stopw)\n",
    "mr_tf_idf=tf_idf_vect.fit_transform(mr['trimmed'].tolist())\n",
    "\n",
    "print(datetime.datetime.now()-a)"
   ]
  },
  {
   "cell_type": "markdown",
   "metadata": {},
   "source": [
    "## Transform CC"
   ]
  },
  {
   "cell_type": "code",
   "execution_count": 211,
   "metadata": {},
   "outputs": [
    {
     "name": "stdout",
     "output_type": "stream",
     "text": [
      "0:00:00.182701\n"
     ]
    }
   ],
   "source": [
    "a=datetime.datetime.now()\n",
    "\n",
    "tf_idf_vect=TfidfVectorizer(use_idf=True,stop_words=stopw)\n",
    "cc_tf_idf=tf_idf_vect.fit_transform(cc['trimmed'].tolist())\n",
    "\n",
    "print(datetime.datetime.now()-a)"
   ]
  },
  {
   "cell_type": "markdown",
   "metadata": {},
   "source": [
    "## Model testing"
   ]
  },
  {
   "cell_type": "code",
   "execution_count": 299,
   "metadata": {},
   "outputs": [],
   "source": [
    "#import scikitplot as skplt\n",
    "#import scikitplot#.plotters as skplt\n",
    "\n",
    "import matplotlib.pyplot as plt\n",
    "from sklearn.model_selection import train_test_split\n",
    "from sklearn.model_selection import cross_val_score\n",
    "from sklearn.metrics import accuracy_score\n",
    "\n",
    "#The mean score and the 95% confidence interval of the score estimate are hence given by:\n",
    "\n",
    "def crossval(model, x, y):    \n",
    "    scores = cross_val_score(model, x, y, cv=5)\n",
    "    print(\"Accuracy: %0.2f (+/- %0.2f)\" % (scores.mean(), scores.std() * 2))\n",
    "\n",
    "def confusion(y_valid,predicted):\n",
    "    if len(y_valid.shape)!=1 or len(predicted.shape)!=1:\n",
    "        y_v=np.argmax(y_valid,axis=1)\n",
    "        pred=np.argmax(predicted,axis=1)\n",
    "    skplt.metrics.plot_confusion_matrix(y_v, pred,x_tick_rotation=90,figsize=(3,6), normalize=True)\n",
    "    plt.show()  \n",
    "    \n",
    "def TryModel(model, xt, yt,xv=0,yv=0, selfie=True):  \n",
    "    if selfie:\n",
    "        X_train, X_valid, y_train, y_valid = train_test_split(x, y, test_size=0.20, random_state=42)\n",
    "    else:\n",
    "        X_train, X_valid, y_train, y_valid=xt,xv,yt,yv\n",
    "\n",
    "    clf = model.fit(X_train, y_train)\n",
    "\n",
    "    predicted = clf.predict(X_valid)\n",
    "\n",
    "    acc=accuracy_score(y_valid, predicted)\n",
    "    print(f\"Accuracy: {acc}\")\n",
    "\n",
    "    confusion(y_valid,predicted)\n",
    "\n",
    "    return y_valid,predicted\n",
    "\n",
    "\n",
    "from dataclasses import dataclass\n",
    "from keras.models import Sequential\n",
    "from keras.layers import Dense\n",
    "from keras.utils import to_categorical\n",
    "\n",
    "## Data\n",
    "#data = np.random.random((1000,100))\n",
    "#labels = np.random.randint(2,size=(1000,1))\n",
    "\n",
    "class nn:\n",
    "    def __init__(self, model=None, pred=None,y=None):\n",
    "        self.model = model\n",
    "        self.pred = pred\n",
    "        self.y = y\n",
    "        \n",
    "    def train(self, x,y,epoch=1,layers=16):\n",
    "        # Define network (model)\n",
    "        self.model = Sequential() \n",
    "\n",
    "        self.y = to_categorical(y,3)\n",
    "        self.model.add(Dense(layers, activation='relu', input_dim=x.shape[1]))\n",
    "        self.model.add(Dense(self.y.shape[1], activation='sigmoid'))\n",
    "\n",
    "        # Configure training\n",
    "        self.model.compile(optimizer='rmsprop', loss='categorical_crossentropy', metrics=['accuracy'])\n",
    "\n",
    "        # Fit model by training\n",
    "        self.model.fit(x,self.y,epochs=epoch,batch_size=32)\n",
    "        \n",
    "    def predict(self, x_test, y_test=None):\n",
    "        # Make predictions\n",
    "        if not not list(y_test):\n",
    "            self.y=to_categorical(y_test,3)\n",
    "        self.pred=self.model.predict(x_test)\n",
    "        return self.y,self.model.predict(x_test)\n",
    "    \n",
    "    def evalnn(self,x,y):\n",
    "        test_loss, test_acc = self.model.evaluate(x,y)\n",
    "        return test_loss, test_acc\n",
    "    \n",
    "    def plot(self):\n",
    "        plt.plot(self.model.history['loss'])\n",
    "        plt.plot(self.model.history['val_loss'])\n",
    "        plt.title('Model loss')\n",
    "        plt.ylabel('Loss')\n",
    "        plt.xlabel('Epoch')\n",
    "        plt.legend(['Train', 'Val'], loc='upper right')\n",
    "        plt.show()"
   ]
  },
  {
   "cell_type": "markdown",
   "metadata": {},
   "source": [
    "## Trained and tested on the same dataset (selfie)"
   ]
  },
  {
   "cell_type": "markdown",
   "metadata": {},
   "source": [
    "### mr"
   ]
  },
  {
   "cell_type": "code",
   "execution_count": 220,
   "metadata": {},
   "outputs": [
    {
     "name": "stdout",
     "output_type": "stream",
     "text": [
      "Epoch 1/2\n",
      "50000/50000 [==============================] - 83s 2ms/step - loss: 0.4461 - accuracy: 0.8567\n",
      "Epoch 2/2\n",
      "50000/50000 [==============================] - 83s 2ms/step - loss: 0.2124 - accuracy: 0.9158\n"
     ]
    },
    {
     "data": {
      "image/png": "[encoded data removed]",
      "text/plain": [
       "<Figure size 216x432 with 2 Axes>"
      ]
     },
     "metadata": {
      "needs_background": "light"
     },
     "output_type": "display_data"
    }
   ],
   "source": [
    "a=datetime.datetime.now()\n",
    "\n",
    "#x,y = s140_tf_idf, s140['target']\n",
    "x,y = mr_tf_idf, mr['target']\n",
    "#x,y = cc_tf_idf, cc['target']\n",
    "\n",
    "mrNN=nn()\n",
    "mrNN.train(x, y,2)\n",
    "mr_y,mr_pred=mrNN.predict(x)\n",
    "confusion(mr_y,mr_pred)\n",
    "\n",
    "#print(datetime.datetime.now()-a)"
   ]
  },
  {
   "cell_type": "markdown",
   "metadata": {},
   "source": [
    "### cc"
   ]
  },
  {
   "cell_type": "code",
   "execution_count": 218,
   "metadata": {},
   "outputs": [
    {
     "name": "stdout",
     "output_type": "stream",
     "text": [
      "Epoch 1/10\n",
      "6027/6027 [==============================] - 3s 545us/step - loss: 1.0300 - accuracy: 0.5090\n",
      "Epoch 2/10\n",
      "6027/6027 [==============================] - 3s 461us/step - loss: 0.9291 - accuracy: 0.5228\n",
      "Epoch 3/10\n",
      "6027/6027 [==============================] - 2s 387us/step - loss: 0.8420 - accuracy: 0.5852\n",
      "Epoch 4/10\n",
      "6027/6027 [==============================] - 2s 399us/step - loss: 0.7503 - accuracy: 0.6784\n",
      "Epoch 5/10\n",
      "6027/6027 [==============================] - 3s 459us/step - loss: 0.6676 - accuracy: 0.7420\n",
      "Epoch 6/10\n",
      "6027/6027 [==============================] - 2s 387us/step - loss: 0.6046 - accuracy: 0.7710\n",
      "Epoch 7/10\n",
      "6027/6027 [==============================] - 3s 418us/step - loss: 0.5591 - accuracy: 0.7870\n",
      "Epoch 8/10\n",
      "6027/6027 [==============================] - 2s 402us/step - loss: 0.5255 - accuracy: 0.7976\n",
      "Epoch 9/10\n",
      "6027/6027 [==============================] - 3s 417us/step - loss: 0.4979 - accuracy: 0.8075\n",
      "Epoch 10/10\n",
      "6027/6027 [==============================] - 2s 407us/step - loss: 0.4748 - accuracy: 0.8163\n"
     ]
    },
    {
     "data": {
      "image/png": "[encoded data removed]",
      "text/plain": [
       "<Figure size 216x432 with 2 Axes>"
      ]
     },
     "metadata": {
      "needs_background": "light"
     },
     "output_type": "display_data"
    },
    {
     "name": "stdout",
     "output_type": "stream",
     "text": [
      "0:00:28.336454\n"
     ]
    }
   ],
   "source": [
    "a=datetime.datetime.now()\n",
    "\n",
    "#x,y = s140_tf_idf, s140['target']\n",
    "#x,y = mr_tf_idf, mr['target']\n",
    "x,y = cc_tf_idf, cc['target']\n",
    "\n",
    "ccNN=nn()\n",
    "ccNN.train(x, y, 10)\n",
    "cc_y, cc_pred=ccNN.predict(x)\n",
    "confusion(cc_y,cc_pred)\n",
    "\n",
    "import pickle\n",
    "\n",
    "pickling_on = open(\"ccNN.pkl\",\"wb\")\n",
    "pickle.dump(ccNN, pickling_on)\n",
    "pickling_on.close()\n",
    "\n",
    "pickling_on = open(\"trained_on_CC_tested_on_CC.pkl\",\"wb\")\n",
    "pickle.dump((cc_y,cc_pred), pickling_on)\n",
    "pickling_on.close()\n",
    "\n",
    "print(datetime.datetime.now()-a)"
   ]
  },
  {
   "cell_type": "markdown",
   "metadata": {},
   "source": [
    "### s140"
   ]
  },
  {
   "cell_type": "code",
   "execution_count": 298,
   "metadata": {},
   "outputs": [
    {
     "data": {
      "image/png": "[encoded data removed]",
      "text/plain": [
       "<Figure size 216x432 with 2 Axes>"
      ]
     },
     "metadata": {
      "needs_background": "light"
     },
     "output_type": "display_data"
    },
    {
     "name": "stdout",
     "output_type": "stream",
     "text": [
      "0:00:00.266848\n"
     ]
    }
   ],
   "source": [
    "a=datetime.datetime.now()\n",
    "\n",
    "x,y = s140_tf_idf, s140['target']\n",
    "\n",
    "\n",
    "k=int(0.01*y.shape[0])\n",
    "np.random.seed(99)\n",
    "sample=np.random.randint(0,y.shape[0],k)\n",
    "\n",
    "x_test=x[sample]\n",
    "y_test=y[sample]\n",
    "\n",
    "np.random.seed(199)\n",
    "sample=np.random.randint(0,y.shape[0],k)\n",
    "\n",
    "x=x[sample]\n",
    "y=y[sample]\n",
    "\n",
    "#x,y = mr_tf_idf, mr['target']\n",
    "#x,y = cc_tf_idf, cc['target']\n",
    "\n",
    "s140NN=nn()\n",
    "s140NN.train(x, y)\n",
    "s140_y,s140_pred=s140NN.predict(x_test,y_test)\n",
    "confusion(s140_y,s140_pred)\n",
    "\n",
    "print(datetime.datetime.now()-a)"
   ]
  },
  {
   "cell_type": "markdown",
   "metadata": {},
   "source": [
    "## Pickling"
   ]
  },
  {
   "cell_type": "code",
   "execution_count": null,
   "metadata": {},
   "outputs": [],
   "source": [
    "import pickle\n",
    "\n",
    "pickling_on = open(\"s140NN.pkl\",\"wb\")\n",
    "pickle.dump(s140NN, pickling_on)\n",
    "pickling_on.close()\n",
    "\n",
    "pickling_on = open(\"trained_on_s140_tested_on_s140.pkl\",\"wb\")\n",
    "pickle.dump((s140_y,s140_pred), pickling_on)\n",
    "pickling_on.close()"
   ]
  },
  {
   "cell_type": "code",
   "execution_count": 195,
   "metadata": {},
   "outputs": [],
   "source": [
    "import pickle\n",
    "\n",
    "pickling_on = open(\"ccNN.pkl\",\"wb\")\n",
    "pickle.dump(ccNN, pickling_on)\n",
    "pickling_on.close()\n",
    "\n",
    "pickling_on = open(\"trained_on_CC_tested_on_CC.pkl\",\"wb\")\n",
    "pickle.dump((cc_y,cc_pred), pickling_on)\n",
    "pickling_on.close()"
   ]
  },
  {
   "cell_type": "code",
   "execution_count": 221,
   "metadata": {},
   "outputs": [],
   "source": [
    "pickling_on = open(\"mrNN.pkl\",\"wb\")\n",
    "pickle.dump(mrNN, pickling_on)\n",
    "pickling_on.close()\n",
    "\n",
    "pickling_on = open(\"trained_on_MR_tested_on_MR.pkl\",\"wb\")\n",
    "pickle.dump((mr_y,mr_pred), pickling_on)\n",
    "pickling_on.close()"
   ]
  },
  {
   "cell_type": "code",
   "execution_count": null,
   "metadata": {},
   "outputs": [],
   "source": [
    "pickle_off = open(\"mrNN.pkl\",\"rb\")\n",
    "mrNN2 = pickle.load(pickle_off)"
   ]
  },
  {
   "cell_type": "markdown",
   "metadata": {},
   "source": [
    "# Cross-Trained"
   ]
  },
  {
   "cell_type": "markdown",
   "metadata": {},
   "source": [
    "## NN Movies trained w S140"
   ]
  },
  {
   "cell_type": "code",
   "execution_count": null,
   "metadata": {},
   "outputs": [],
   "source": [
    "a=datetime.datetime.now()\n",
    "\n",
    "#x,y = s140_tf_idf, s140['target']\n",
    "x,y = mr_tf_idf, mr['target']\n",
    "#x,y = cc_tf_idf, cc['target']\n",
    "\n",
    "pred=s140NN.predict(x)\n",
    "confusion(y,pred)\n",
    "\n",
    "print(datetime.datetime.now()-a)"
   ]
  },
  {
   "cell_type": "markdown",
   "metadata": {},
   "source": [
    "## NN CC trained w S140"
   ]
  },
  {
   "cell_type": "code",
   "execution_count": null,
   "metadata": {},
   "outputs": [],
   "source": [
    "a=datetime.datetime.now()\n",
    "\n",
    "#x,y = s140_tf_idf, s140['target']\n",
    "#x,y = mr_tf_idf, mr['target']\n",
    "x,y = cc_tf_idf, cc['target']\n",
    "\n",
    "pred=s140NN.predict(x)\n",
    "confusion(y,pred)\n",
    "\n",
    "print(datetime.datetime.now()-a)"
   ]
  },
  {
   "cell_type": "markdown",
   "metadata": {},
   "source": [
    "## NN Movies trained w CC"
   ]
  },
  {
   "cell_type": "code",
   "execution_count": null,
   "metadata": {},
   "outputs": [],
   "source": [
    "a=datetime.datetime.now()\n",
    "\n",
    "#x,y = s140_tf_idf, s140['target']\n",
    "x,y = mr_tf_idf, mr['target']\n",
    "#x,y = cc_tf_idf, cc['target']\n",
    "\n",
    "pred=ccNN.predict(x)\n",
    "confusion(y,pred)\n",
    "\n",
    "print(datetime.datetime.now()-a)"
   ]
  },
  {
   "cell_type": "markdown",
   "metadata": {},
   "source": [
    "## NN CC trained w Movies"
   ]
  },
  {
   "cell_type": "code",
   "execution_count": null,
   "metadata": {},
   "outputs": [],
   "source": [
    "a=datetime.datetime.now()\n",
    "\n",
    "#x,y = s140_tf_idf, s140['target']\n",
    "#x,y = mr_tf_idf, mr['target']\n",
    "x,y = cc_tf_idf, cc['target']\n",
    "\n",
    "pred=mrNN.predict(x)\n",
    "confusion(y,pred)\n",
    "\n",
    "print(datetime.datetime.now()-a)"
   ]
  },
  {
   "cell_type": "markdown",
   "metadata": {},
   "source": [
    "## NN s140 trained w CC"
   ]
  },
  {
   "cell_type": "code",
   "execution_count": null,
   "metadata": {},
   "outputs": [],
   "source": [
    "a=datetime.datetime.now()\n",
    "\n",
    "x,y = s140_tf_idf, s140['target']\n",
    "#x,y = mr_tf_idf, mr['target']\n",
    "#x,y = cc_tf_idf, cc['target']\n",
    "\n",
    "pred=ccNN.predict(x)\n",
    "confusion(y,pred)\n",
    "\n",
    "print(datetime.datetime.now()-a)"
   ]
  },
  {
   "cell_type": "markdown",
   "metadata": {},
   "source": [
    "## NN s140 trained w Movies"
   ]
  },
  {
   "cell_type": "code",
   "execution_count": null,
   "metadata": {},
   "outputs": [],
   "source": [
    "a=datetime.datetime.now()\n",
    "\n",
    "x,y = s140_tf_idf, s140['target']\n",
    "#x,y = mr_tf_idf, mr['target']\n",
    "#x,y = cc_tf_idf, cc['target']\n",
    "\n",
    "pred=mrNN.predict(x)\n",
    "confusion(y,pred)\n",
    "\n",
    "print(datetime.datetime.now()-a)"
   ]
  }
 ],
 "metadata": {
  "kernelspec": {
   "display_name": "Python 3",
   "language": "python",
   "name": "python3"
  },
  "language_info": {
   "codemirror_mode": {
    "name": "ipython",
    "version": 3
   },
   "file_extension": ".py",
   "mimetype": "text/x-python",
   "name": "python",
   "nbconvert_exporter": "python",
   "pygments_lexer": "ipython3",
   "version": "3.7.4"
  }
 },
 "nbformat": 4,
 "nbformat_minor": 2
}
