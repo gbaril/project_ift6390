{
 "cells": [
  {
   "cell_type": "markdown",
   "metadata": {},
   "source": [
    "## Import data"
   ]
  },
  {
   "cell_type": "code",
   "execution_count": 1,
   "metadata": {},
   "outputs": [],
   "source": [
    "import pandas as pd\n",
    "import numpy as np\n",
    "from nltk.corpus import stopwords\n",
    "from sklearn.pipeline import Pipeline\n",
    "from sklearn.model_selection import GridSearchCV\n",
    "from sklearn.feature_extraction.text import TfidfTransformer\n",
    "from sklearn.feature_extraction.text import CountVectorizer\n",
    "from nltk.stem import PorterStemmer \n",
    "from sklearn.metrics import accuracy_score\n",
    "from sklearn.svm import SVC\n",
    "import re\n",
    "\n",
    "stop_words = set(stopwords.words('english')) \n",
    "\n",
    "sentiment140=pd.read_pickle('data/s140_clean_28nov.pkl')\n",
    "moviereview=pd.read_pickle('data/mr_clean_28nov.pkl')\n",
    "climatechange=pd.read_pickle('data/cc_clean_28nov.pkl')"
   ]
  },
  {
   "cell_type": "markdown",
   "metadata": {},
   "source": [
    "## Train S140 + MR and Test on CC"
   ]
  },
  {
   "cell_type": "code",
   "execution_count": 3,
   "metadata": {},
   "outputs": [],
   "source": [
    "data =  pd.concat([sentiment140, moviereview], ignore_index=True)"
   ]
  },
  {
   "cell_type": "code",
   "execution_count": 13,
   "metadata": {},
   "outputs": [
    {
     "name": "stdout",
     "output_type": "stream",
     "text": [
      "                                                      text    target  \\\n",
      "1620538  How in the name of decency did this film ever ...  negative   \n",
      "1124046  leland grant replies to me on facebook!  hehe ...  positive   \n",
      "114862   feel asleep all day on the beach with my beach...  negative   \n",
      "1447345  @kimkardashian; going 2 Dash on Monday 2 meet ...  positive   \n",
      "1108576  has little black dots floating thru his brain....  positive   \n",
      "...                                                    ...       ...   \n",
      "957355   Another beautiful day  Looking forward to writ...  positive   \n",
      "302311   @michelle_wells Thanks Michelle!  Actually, th...  negative   \n",
      "1343167  @Mattdavelewis I hope you took some pictures. ...  positive   \n",
      "1481083                   @faulko1 good morning, lovely  x  positive   \n",
      "1104652                    @Teacoa do some jumpping jacks   positive   \n",
      "\n",
      "                                                     lemma  length  \\\n",
      "1620538  [name, decency, film, ever, get, made, br, br,...      90   \n",
      "1124046  [leland, grant, reply, facebook, hehe, jealous...       7   \n",
      "114862   [feel, asleep, day, beach, beach, cover, quite...       9   \n",
      "1447345  [kimkardashian, going, _number_, dash, monday,...      12   \n",
      "1108576  [little, black, dot, floating, thru, brain, 'r...      15   \n",
      "...                                                    ...     ...   \n",
      "957355   [another, beautiful, day, looking, forward, wr...       9   \n",
      "302311   [michelle_wells, thanks, michelle, actually, s...      10   \n",
      "1343167       [mattdavelewis, hope, took, picture, g'nite]       5   \n",
      "1481083          [faulko, _number_, good, morning, lovely]       5   \n",
      "1104652                           [teacoa, jumpping, jack]       3   \n",
      "\n",
      "                                                   trimmed  \n",
      "1620538  name decency film ever get made br br one pres...  \n",
      "1124046      leland grant reply facebook hehe jealous lol   \n",
      "114862   feel asleep day beach beach cover quite intere...  \n",
      "1447345  kimkardashian going _number_ dash monday _numb...  \n",
      "1108576  little black dot floating thru brain 're attac...  \n",
      "...                                                    ...  \n",
      "957355   another beautiful day looking forward writing ...  \n",
      "302311   michelle_wells thanks michelle actually sun po...  \n",
      "1343167            mattdavelewis hope took picture g'nite   \n",
      "1481083               faulko _number_ good morning lovely   \n",
      "1104652                              teacoa jumpping jack   \n",
      "\n",
      "[10000 rows x 5 columns]\n"
     ]
    }
   ],
   "source": [
    "data_small = data.sample(10000)\n",
    "print(data_small)"
   ]
  },
  {
   "cell_type": "code",
   "execution_count": 14,
   "metadata": {},
   "outputs": [],
   "source": [
    "X_train = data_small.iloc[:, 4]\n",
    "y_train = data_small.iloc[:, 1]\n",
    "\n",
    "climatechange_transf = climatechange.dropna()\n",
    "\n",
    "X_test = climatechange_transf.iloc[:, 5]\n",
    "\n",
    "y_test = climatechange_transf.iloc[:, 2]"
   ]
  },
  {
   "cell_type": "code",
   "execution_count": null,
   "metadata": {},
   "outputs": [],
   "source": []
  },
  {
   "cell_type": "code",
   "execution_count": 4,
   "metadata": {},
   "outputs": [
    {
     "name": "stderr",
     "output_type": "stream",
     "text": [
      "/Users/jordisaleilles/miniconda3/lib/python3.7/site-packages/sklearn/svm/base.py:193: FutureWarning: The default value of gamma will change from 'auto' to 'scale' in version 0.22 to account better for unscaled features. Set gamma explicitly to 'auto' or 'scale' to avoid this warning.\n",
      "  \"avoid this warning.\", FutureWarning)\n"
     ]
    },
    {
     "name": "stdout",
     "output_type": "stream",
     "text": [
      "0.6849773107236685\n"
     ]
    },
    {
     "name": "stderr",
     "output_type": "stream",
     "text": [
      "/Users/jordisaleilles/miniconda3/lib/python3.7/site-packages/sklearn/svm/base.py:193: FutureWarning: The default value of gamma will change from 'auto' to 'scale' in version 0.22 to account better for unscaled features. Set gamma explicitly to 'auto' or 'scale' to avoid this warning.\n",
      "  \"avoid this warning.\", FutureWarning)\n"
     ]
    },
    {
     "name": "stdout",
     "output_type": "stream",
     "text": [
      "0.7227131597802723\n"
     ]
    },
    {
     "name": "stderr",
     "output_type": "stream",
     "text": [
      "/Users/jordisaleilles/miniconda3/lib/python3.7/site-packages/sklearn/svm/base.py:193: FutureWarning: The default value of gamma will change from 'auto' to 'scale' in version 0.22 to account better for unscaled features. Set gamma explicitly to 'auto' or 'scale' to avoid this warning.\n",
      "  \"avoid this warning.\", FutureWarning)\n"
     ]
    },
    {
     "name": "stdout",
     "output_type": "stream",
     "text": [
      "0.7219966563171722\n"
     ]
    },
    {
     "name": "stderr",
     "output_type": "stream",
     "text": [
      "/Users/jordisaleilles/miniconda3/lib/python3.7/site-packages/sklearn/svm/base.py:193: FutureWarning: The default value of gamma will change from 'auto' to 'scale' in version 0.22 to account better for unscaled features. Set gamma explicitly to 'auto' or 'scale' to avoid this warning.\n",
      "  \"avoid this warning.\", FutureWarning)\n"
     ]
    },
    {
     "name": "stdout",
     "output_type": "stream",
     "text": [
      "0.6966802006209697\n"
     ]
    },
    {
     "name": "stderr",
     "output_type": "stream",
     "text": [
      "/Users/jordisaleilles/miniconda3/lib/python3.7/site-packages/sklearn/svm/base.py:193: FutureWarning: The default value of gamma will change from 'auto' to 'scale' in version 0.22 to account better for unscaled features. Set gamma explicitly to 'auto' or 'scale' to avoid this warning.\n",
      "  \"avoid this warning.\", FutureWarning)\n"
     ]
    },
    {
     "name": "stdout",
     "output_type": "stream",
     "text": [
      "0.6947695247193695\n",
      "[0.6849773107236685, 0.7227131597802723, 0.7219966563171722, 0.6966802006209697, 0.6947695247193695]\n"
     ]
    }
   ],
   "source": [
    "from sklearn.metrics import confusion_matrix\n",
    "\n",
    "result = []\n",
    "conf = np.matrix([[0, 0], [0, 0]])\n",
    "y_pred = []\n",
    "for i in range(0, 5):\n",
    "    data_small = data.sample(10000)\n",
    "\n",
    "    X_train = data_small.iloc[:, 4]\n",
    "    y_train = data_small.iloc[:, 1]\n",
    "\n",
    "    climatechange_transf = climatechange.dropna()\n",
    "\n",
    "    X_test = climatechange_transf.iloc[:, 5]\n",
    "\n",
    "    y_test = climatechange_transf.iloc[:, 2]\n",
    "    \n",
    "    \n",
    "    svc = Pipeline([('vect', CountVectorizer()),\n",
    "        ('tfidf', TfidfTransformer()),\n",
    "        ('clf', SVC(C=1000, tol=1, kernel='rbf')),\n",
    "    ])\n",
    "\n",
    "    svc.fit(X_train, y_train)\n",
    "\n",
    "\n",
    "    y_pred = svc.predict(X_test)\n",
    "    result.append(accuracy_score(y_test, y_pred))\n",
    "    print(accuracy_score(y_test, y_pred))\n",
    "    conf += np.matrix(confusion_matrix(y_test, y_pred))\n",
    "\n",
    "print(result)"
   ]
  },
  {
   "cell_type": "code",
   "execution_count": 42,
   "metadata": {},
   "outputs": [
    {
     "data": {
      "image/png": "[encoded data removed]",
      "text/plain": [
       "<Figure size 432x288 with 1 Axes>"
      ]
     },
     "metadata": {
      "needs_background": "light"
     },
     "output_type": "display_data"
    }
   ],
   "source": [
    "import matplotlib.pyplot as plt\n",
    "from mlxtend.plotting import plot_confusion_matrix\n",
    "\n",
    "fig, ax = plot_confusion_matrix(conf_mat=np.array(conf))\n",
    "\n",
    "# labels, title and ticks\n",
    "ax.set_xlabel('Predicted labels')\n",
    "ax.set_ylabel('True labels');\n",
    "ax.set_title('Confusion Matrix on Climate change with S140 + MR training')\n",
    "ax.set_xticks([0,1])\n",
    "ax.set_xticklabels([\"positive\", \"negative\"])\n",
    "\n",
    "plt.show()\n"
   ]
  },
  {
   "cell_type": "code",
   "execution_count": 30,
   "metadata": {},
   "outputs": [
    {
     "name": "stderr",
     "output_type": "stream",
     "text": [
      "/Users/jordisaleilles/miniconda3/lib/python3.7/site-packages/sklearn/svm/base.py:193: FutureWarning: The default value of gamma will change from 'auto' to 'scale' in version 0.22 to account better for unscaled features. Set gamma explicitly to 'auto' or 'scale' to avoid this warning.\n",
      "  \"avoid this warning.\", FutureWarning)\n",
      "/Users/jordisaleilles/miniconda3/lib/python3.7/site-packages/sklearn/svm/base.py:193: FutureWarning: The default value of gamma will change from 'auto' to 'scale' in version 0.22 to account better for unscaled features. Set gamma explicitly to 'auto' or 'scale' to avoid this warning.\n",
      "  \"avoid this warning.\", FutureWarning)\n",
      "/Users/jordisaleilles/miniconda3/lib/python3.7/site-packages/sklearn/svm/base.py:193: FutureWarning: The default value of gamma will change from 'auto' to 'scale' in version 0.22 to account better for unscaled features. Set gamma explicitly to 'auto' or 'scale' to avoid this warning.\n",
      "  \"avoid this warning.\", FutureWarning)\n",
      "/Users/jordisaleilles/miniconda3/lib/python3.7/site-packages/sklearn/svm/base.py:193: FutureWarning: The default value of gamma will change from 'auto' to 'scale' in version 0.22 to account better for unscaled features. Set gamma explicitly to 'auto' or 'scale' to avoid this warning.\n",
      "  \"avoid this warning.\", FutureWarning)\n",
      "/Users/jordisaleilles/miniconda3/lib/python3.7/site-packages/sklearn/svm/base.py:193: FutureWarning: The default value of gamma will change from 'auto' to 'scale' in version 0.22 to account better for unscaled features. Set gamma explicitly to 'auto' or 'scale' to avoid this warning.\n",
      "  \"avoid this warning.\", FutureWarning)\n",
      "/Users/jordisaleilles/miniconda3/lib/python3.7/site-packages/sklearn/svm/base.py:193: FutureWarning: The default value of gamma will change from 'auto' to 'scale' in version 0.22 to account better for unscaled features. Set gamma explicitly to 'auto' or 'scale' to avoid this warning.\n",
      "  \"avoid this warning.\", FutureWarning)\n",
      "/Users/jordisaleilles/miniconda3/lib/python3.7/site-packages/sklearn/svm/base.py:193: FutureWarning: The default value of gamma will change from 'auto' to 'scale' in version 0.22 to account better for unscaled features. Set gamma explicitly to 'auto' or 'scale' to avoid this warning.\n",
      "  \"avoid this warning.\", FutureWarning)\n",
      "/Users/jordisaleilles/miniconda3/lib/python3.7/site-packages/sklearn/svm/base.py:193: FutureWarning: The default value of gamma will change from 'auto' to 'scale' in version 0.22 to account better for unscaled features. Set gamma explicitly to 'auto' or 'scale' to avoid this warning.\n",
      "  \"avoid this warning.\", FutureWarning)\n",
      "/Users/jordisaleilles/miniconda3/lib/python3.7/site-packages/sklearn/svm/base.py:193: FutureWarning: The default value of gamma will change from 'auto' to 'scale' in version 0.22 to account better for unscaled features. Set gamma explicitly to 'auto' or 'scale' to avoid this warning.\n",
      "  \"avoid this warning.\", FutureWarning)\n",
      "/Users/jordisaleilles/miniconda3/lib/python3.7/site-packages/sklearn/svm/base.py:193: FutureWarning: The default value of gamma will change from 'auto' to 'scale' in version 0.22 to account better for unscaled features. Set gamma explicitly to 'auto' or 'scale' to avoid this warning.\n",
      "  \"avoid this warning.\", FutureWarning)\n",
      "/Users/jordisaleilles/miniconda3/lib/python3.7/site-packages/sklearn/svm/base.py:193: FutureWarning: The default value of gamma will change from 'auto' to 'scale' in version 0.22 to account better for unscaled features. Set gamma explicitly to 'auto' or 'scale' to avoid this warning.\n",
      "  \"avoid this warning.\", FutureWarning)\n",
      "/Users/jordisaleilles/miniconda3/lib/python3.7/site-packages/sklearn/svm/base.py:193: FutureWarning: The default value of gamma will change from 'auto' to 'scale' in version 0.22 to account better for unscaled features. Set gamma explicitly to 'auto' or 'scale' to avoid this warning.\n",
      "  \"avoid this warning.\", FutureWarning)\n",
      "/Users/jordisaleilles/miniconda3/lib/python3.7/site-packages/sklearn/svm/base.py:193: FutureWarning: The default value of gamma will change from 'auto' to 'scale' in version 0.22 to account better for unscaled features. Set gamma explicitly to 'auto' or 'scale' to avoid this warning.\n",
      "  \"avoid this warning.\", FutureWarning)\n"
     ]
    },
    {
     "name": "stdout",
     "output_type": "stream",
     "text": [
      "Best Params:  {'clf__tol': 1, 'tfidf__norm': 'l2'}\n"
     ]
    }
   ],
   "source": [
    "data_small = data.sample(10000)\n",
    "\n",
    "X_train = data_small.iloc[:, 4]\n",
    "y_train = data_small.iloc[:, 1]\n",
    "\n",
    "climatechange_transf = climatechange.dropna()\n",
    "\n",
    "X_test = climatechange_transf.iloc[:, 5]\n",
    "\n",
    "y_test = climatechange_transf.iloc[:, 2]\n",
    "    \n",
    "param = {\n",
    "    'tfidf__norm': ['l2'],\n",
    "    # sigmoid\n",
    "    'clf__tol':[1, 1e-1, 1e-2, 1e-3]\n",
    "    }\n",
    "\n",
    "svc = Pipeline([('vect', CountVectorizer()),\n",
    "        ('tfidf', TfidfTransformer()),\n",
    "        ('clf', SVC(C=1000, kernel='rbf')),\n",
    "        ])\n",
    "\n",
    "clf = GridSearchCV(svc, param, cv=3)\n",
    "\n",
    "clf.fit(X_train, y_train)\n",
    "\n",
    "\n",
    "sorted(clf.cv_results_.keys())\n",
    "scores_mean = clf.cv_results_['mean_test_score']\n",
    "print('Best Params: ', clf.best_params_)"
   ]
  },
  {
   "cell_type": "code",
   "execution_count": 47,
   "metadata": {},
   "outputs": [
    {
     "data": {
      "image/png": "[encoded data removed]",
      "text/plain": [
       "<Figure size 432x288 with 1 Axes>"
      ]
     },
     "metadata": {
      "needs_background": "light"
     },
     "output_type": "display_data"
    }
   ],
   "source": [
    "import matplotlib.pyplot as plt\n",
    "\n",
    "fig, ax = plt.subplots()\n",
    "\n",
    "tol_tick = [0, 1, '', 1e-1, '', 1e-2, '', 1e-3]\n",
    "tol = [1, 2, 3, 4]\n",
    "plt.plot(tol, scores_mean)\n",
    "ax.set_xticklabels(tol_tick)\n",
    "plt.title(\"Mean accuracy of SVC depending the value of tol \")\n",
    "plt.xlabel(\"tol value\")\n",
    "plt.ylabel(\"Mean Accuracy\")\n",
    "plt.show()"
   ]
  },
  {
   "cell_type": "code",
   "execution_count": 44,
   "metadata": {},
   "outputs": [
    {
     "name": "stdout",
     "output_type": "stream",
     "text": [
      "0.26247910198232627\n",
      "0.7375208980176737\n",
      "0.26247910198232627\n",
      "0.7375208980176737\n",
      "0.7375208980176737\n",
      "[0.26247910198232627, 0.7375208980176737, 0.26247910198232627, 0.7375208980176737, 0.7375208980176737]\n"
     ]
    }
   ],
   "source": [
    "result = []\n",
    "\n",
    "for i in range(0, 5):\n",
    "    data_small = data.sample(10000)\n",
    "\n",
    "    X_train = data_small.iloc[:, 4]\n",
    "    y_train = data_small.iloc[:, 1]\n",
    "\n",
    "    climatechange_transf = climatechange.dropna()\n",
    "\n",
    "    X_test = climatechange_transf.iloc[:, 5]\n",
    "\n",
    "    y_test = climatechange_transf.iloc[:, 2]\n",
    "    \n",
    "    y_test2.extend(y_test)\n",
    "    \n",
    "    svc = Pipeline([('vect', CountVectorizer()),\n",
    "        ('tfidf', TfidfTransformer()),\n",
    "        ('clf', SVC(C=10, tol=1, kernel='rbf', gamma='auto')),\n",
    "    ])\n",
    "\n",
    "    svc.fit(X_train, y_train)\n",
    "\n",
    "\n",
    "    y_pred = svc.predict(X_test)\n",
    "    result.append(accuracy_score(y_test, y_pred))\n",
    "    print(accuracy_score(y_test, y_pred))\n",
    "\n",
    "print(result)"
   ]
  },
  {
   "cell_type": "code",
   "execution_count": 51,
   "metadata": {},
   "outputs": [
    {
     "data": {
      "image/png": "[encoded data removed]",
      "text/plain": [
       "<Figure size 432x288 with 1 Axes>"
      ]
     },
     "metadata": {
      "needs_background": "light"
     },
     "output_type": "display_data"
    }
   ],
   "source": [
    "fig, ax = plt.subplots()\n",
    "epoch_tick = [0, 1, '', 2, '', 3, '', 4, '', 5]\n",
    "\n",
    "plt.plot(np.arange(0,5), result)\n",
    "plt.title(\"Mean accuracy of SVC with C=10 in 5 epochs\")\n",
    "plt.xlabel(\"epoch\")\n",
    "plt.ylabel(\"Mean Accuracy\")\n",
    "ax.set_xticklabels(epoch_tick)\n",
    "\n",
    "plt.show()"
   ]
  },
  {
   "cell_type": "code",
   "execution_count": 52,
   "metadata": {},
   "outputs": [
    {
     "name": "stdout",
     "output_type": "stream",
     "text": [
      "0.26247910198232627\n",
      "0.7375208980176737\n",
      "0.26247910198232627\n",
      "0.7375208980176737\n",
      "0.26247910198232627\n",
      "[0.26247910198232627, 0.7375208980176737, 0.26247910198232627, 0.7375208980176737, 0.26247910198232627]\n"
     ]
    }
   ],
   "source": [
    "result = []\n",
    "y_pred = []\n",
    "for i in range(0, 5):\n",
    "    data_small = data.sample(10000)\n",
    "\n",
    "    X_train = data_small.iloc[:, 4]\n",
    "    y_train = data_small.iloc[:, 1]\n",
    "\n",
    "    climatechange_transf = climatechange.dropna()\n",
    "\n",
    "    X_test = climatechange_transf.iloc[:, 5]\n",
    "\n",
    "    y_test = climatechange_transf.iloc[:, 2]\n",
    "    \n",
    "    y_test2.extend(y_test)\n",
    "    \n",
    "    svc = Pipeline([('vect', CountVectorizer()),\n",
    "        ('tfidf', TfidfTransformer()),\n",
    "        ('clf', SVC(C=100, tol=1, kernel='rbf', gamma='auto')),\n",
    "    ])\n",
    "\n",
    "    svc.fit(X_train, y_train)\n",
    "\n",
    "\n",
    "    y_pred = svc.predict(X_test)\n",
    "    result.append(accuracy_score(y_test, y_pred))\n",
    "    print(accuracy_score(y_test, y_pred))\n",
    "\n",
    "print(result)"
   ]
  },
  {
   "cell_type": "code",
   "execution_count": 53,
   "metadata": {},
   "outputs": [
    {
     "data": {
      "image/png": "[encoded data removed]",
      "text/plain": [
       "<Figure size 432x288 with 1 Axes>"
      ]
     },
     "metadata": {
      "needs_background": "light"
     },
     "output_type": "display_data"
    }
   ],
   "source": [
    "fig, ax = plt.subplots()\n",
    "epoch_tick = [0, 1, '', 2, '', 3, '', 4, '', 5]\n",
    "\n",
    "plt.plot(np.arange(0,5), result)\n",
    "plt.title(\"Mean accuracy of SVC with C=100 in 5 epochs\")\n",
    "plt.xlabel(\"epoch\")\n",
    "plt.ylabel(\"Mean Accuracy\")\n",
    "ax.set_xticklabels(epoch_tick)\n",
    "\n",
    "plt.show()"
   ]
  },
  {
   "cell_type": "code",
   "execution_count": 54,
   "metadata": {},
   "outputs": [
    {
     "name": "stdout",
     "output_type": "stream",
     "text": [
      "0.7162646286123716\n",
      "0.7179364700262718\n",
      "0.7112491043706711\n",
      "0.6864103176498686\n",
      "0.6754239312156676\n",
      "[0.7162646286123716, 0.7179364700262718, 0.7112491043706711, 0.6864103176498686, 0.6754239312156676]\n"
     ]
    }
   ],
   "source": [
    "result = []\n",
    "y_pred = []\n",
    "for i in range(0, 5):\n",
    "    data_small = data.sample(10000)\n",
    "\n",
    "    X_train = data_small.iloc[:, 4]\n",
    "    y_train = data_small.iloc[:, 1]\n",
    "\n",
    "    climatechange_transf = climatechange.dropna()\n",
    "\n",
    "    X_test = climatechange_transf.iloc[:, 5]\n",
    "\n",
    "    y_test = climatechange_transf.iloc[:, 2]\n",
    "    \n",
    "    y_test2.extend(y_test)\n",
    "    \n",
    "    svc = Pipeline([('vect', CountVectorizer()),\n",
    "        ('tfidf', TfidfTransformer()),\n",
    "        ('clf', SVC(C=1000, tol=1, kernel='rbf', gamma='auto')),\n",
    "    ])\n",
    "\n",
    "    svc.fit(X_train, y_train)\n",
    "\n",
    "\n",
    "    y_pred = svc.predict(X_test)\n",
    "    result.append(accuracy_score(y_test, y_pred))\n",
    "    print(accuracy_score(y_test, y_pred))\n",
    "\n",
    "print(result)"
   ]
  },
  {
   "cell_type": "code",
   "execution_count": 55,
   "metadata": {},
   "outputs": [
    {
     "data": {
      "image/png": "[encoded data removed]",
      "text/plain": [
       "<Figure size 432x288 with 1 Axes>"
      ]
     },
     "metadata": {
      "needs_background": "light"
     },
     "output_type": "display_data"
    }
   ],
   "source": [
    "fig, ax = plt.subplots()\n",
    "epoch_tick = [0, 1, '', 2, '', 3, '', 4, '', 5]\n",
    "\n",
    "plt.plot(np.arange(0,5), result)\n",
    "plt.title(\"Mean accuracy of SVC with C=1000 in 5 epochs\")\n",
    "plt.xlabel(\"epoch\")\n",
    "plt.ylabel(\"Mean Accuracy\")\n",
    "ax.set_xticklabels(epoch_tick)\n",
    "\n",
    "plt.show()"
   ]
  },
  {
   "cell_type": "markdown",
   "metadata": {},
   "source": [
    "## Train and Test dataset separatly"
   ]
  },
  {
   "cell_type": "markdown",
   "metadata": {},
   "source": [
    "### Sentiment140"
   ]
  },
  {
   "cell_type": "code",
   "execution_count": 9,
   "metadata": {},
   "outputs": [
    {
     "name": "stdout",
     "output_type": "stream",
     "text": [
      "(1600498, 5)\n"
     ]
    }
   ],
   "source": [
    "print(sentiment140.shape)"
   ]
  },
  {
   "cell_type": "code",
   "execution_count": 2,
   "metadata": {},
   "outputs": [],
   "source": [
    "from sklearn.model_selection import train_test_split\n"
   ]
  },
  {
   "cell_type": "code",
   "execution_count": 5,
   "metadata": {},
   "outputs": [
    {
     "name": "stdout",
     "output_type": "stream",
     "text": [
      "0.733030303030303\n",
      "[[1046  557]\n",
      " [ 324 1373]]\n",
      "0.7284848484848485\n",
      "[[1111  516]\n",
      " [ 380 1293]]\n",
      "0.7281818181818182\n",
      "[[1168  478]\n",
      " [ 419 1235]]\n",
      "0.7175757575757575\n",
      "[[1145  509]\n",
      " [ 423 1223]]\n",
      "0.7121212121212122\n",
      "[[1124  512]\n",
      " [ 438 1226]]\n",
      "[0.733030303030303, 0.7284848484848485, 0.7281818181818182, 0.7175757575757575, 0.7121212121212122]\n"
     ]
    }
   ],
   "source": [
    "from sklearn.metrics import confusion_matrix\n",
    "\n",
    "result = []\n",
    "conf = np.matrix([[0, 0], [0, 0]])\n",
    "\n",
    "for i in range(0, 5):\n",
    "    data_small = sentiment140.sample(10000)\n",
    "\n",
    "    \n",
    "    X = data_small.iloc[:, 4]\n",
    "    y = data_small.iloc[:, 1]\n",
    "\n",
    "    X_train, X_test, y_train, y_test = train_test_split(X, y, test_size=0.33, random_state=42)\n",
    "\n",
    "    \n",
    "    svc = Pipeline([('vect', CountVectorizer()),\n",
    "        ('tfidf', TfidfTransformer()),\n",
    "        ('clf', SVC(C=1000, tol=1, kernel='rbf', gamma='auto')),\n",
    "    ])\n",
    "\n",
    "    svc.fit(X_train, y_train)\n",
    "\n",
    "\n",
    "    y_pred = svc.predict(X_test)\n",
    "    result.append(accuracy_score(y_test, y_pred))\n",
    "    print(accuracy_score(y_test, y_pred))\n",
    "    print(confusion_matrix(y_test, y_pred))\n",
    "    conf += np.matrix(confusion_matrix(y_test, y_pred))\n",
    "\n",
    "print(result)"
   ]
  },
  {
   "cell_type": "code",
   "execution_count": 7,
   "metadata": {},
   "outputs": [
    {
     "data": {
      "image/png": "[encoded data removed]",
      "text/plain": [
       "<Figure size 432x288 with 1 Axes>"
      ]
     },
     "metadata": {
      "needs_background": "light"
     },
     "output_type": "display_data"
    }
   ],
   "source": [
    "import matplotlib.pyplot as plt\n",
    "from mlxtend.plotting import plot_confusion_matrix\n",
    "\n",
    "fig, ax = plot_confusion_matrix(conf_mat=np.array(conf))\n",
    "\n",
    "# labels, title and ticks\n",
    "ax.set_xlabel('Predicted labels')\n",
    "ax.set_ylabel('True labels');\n",
    "ax.set_title('Confusion Matrix on Sentiment140 corpus')\n",
    "ax.set_xticks([0,1])\n",
    "ax.set_xticklabels([\"positive\", \"negative\"])\n",
    "\n",
    "plt.show()"
   ]
  },
  {
   "cell_type": "markdown",
   "metadata": {},
   "source": [
    "### MovieReview"
   ]
  },
  {
   "cell_type": "code",
   "execution_count": 8,
   "metadata": {},
   "outputs": [
    {
     "name": "stdout",
     "output_type": "stream",
     "text": [
      "(50000, 5)\n"
     ]
    }
   ],
   "source": [
    "print(moviereview.shape)"
   ]
  },
  {
   "cell_type": "code",
   "execution_count": 8,
   "metadata": {},
   "outputs": [
    {
     "name": "stdout",
     "output_type": "stream",
     "text": [
      "0.8187878787878788\n",
      "[[1176  449]\n",
      " [ 149 1526]]\n",
      "0.8290909090909091\n",
      "[[1212  433]\n",
      " [ 131 1524]]\n",
      "0.8187878787878788\n",
      "[[1207  460]\n",
      " [ 138 1495]]\n",
      "0.8342424242424242\n",
      "[[1218  412]\n",
      " [ 135 1535]]\n",
      "0.8312121212121212\n",
      "[[1211  434]\n",
      " [ 123 1532]]\n",
      "[0.8187878787878788, 0.8290909090909091, 0.8187878787878788, 0.8342424242424242, 0.8312121212121212]\n"
     ]
    }
   ],
   "source": [
    "from sklearn.metrics import confusion_matrix\n",
    "\n",
    "result = []\n",
    "conf = np.matrix([[0, 0], [0, 0]])\n",
    "\n",
    "for i in range(0, 5):\n",
    "    data_small = moviereview.sample(10000)\n",
    "\n",
    "    \n",
    "    X = data_small.iloc[:, 4]\n",
    "    y = data_small.iloc[:, 1]\n",
    "\n",
    "    X_train, X_test, y_train, y_test = train_test_split(X, y, test_size=0.33, random_state=42)\n",
    "\n",
    "    \n",
    "    svc = Pipeline([('vect', CountVectorizer()),\n",
    "        ('tfidf', TfidfTransformer()),\n",
    "        ('clf', SVC(C=1000, tol=1, kernel='rbf', gamma='auto')),\n",
    "    ])\n",
    "\n",
    "    svc.fit(X_train, y_train)\n",
    "\n",
    "\n",
    "    y_pred = svc.predict(X_test)\n",
    "    result.append(accuracy_score(y_test, y_pred))\n",
    "    print(accuracy_score(y_test, y_pred))\n",
    "    print(confusion_matrix(y_test, y_pred))\n",
    "    conf += np.matrix(confusion_matrix(y_test, y_pred))\n",
    "\n",
    "print(result)"
   ]
  },
  {
   "cell_type": "code",
   "execution_count": 9,
   "metadata": {},
   "outputs": [
    {
     "data": {
      "image/png": "[encoded data removed]",
      "text/plain": [
       "<Figure size 432x288 with 1 Axes>"
      ]
     },
     "metadata": {
      "needs_background": "light"
     },
     "output_type": "display_data"
    }
   ],
   "source": [
    "import matplotlib.pyplot as plt\n",
    "from mlxtend.plotting import plot_confusion_matrix\n",
    "\n",
    "fig, ax = plot_confusion_matrix(conf_mat=np.array(conf))\n",
    "\n",
    "# labels, title and ticks\n",
    "ax.set_xlabel('Predicted labels')\n",
    "ax.set_ylabel('True labels');\n",
    "ax.set_title('Confusion Matrix on MovieReview corpus')\n",
    "ax.set_xticks([0,1])\n",
    "ax.set_xticklabels([\"positive\", \"negative\"])\n",
    "\n",
    "plt.show()"
   ]
  },
  {
   "cell_type": "markdown",
   "metadata": {},
   "source": [
    "### Climate Change"
   ]
  },
  {
   "cell_type": "code",
   "execution_count": 10,
   "metadata": {},
   "outputs": [
    {
     "name": "stdout",
     "output_type": "stream",
     "text": [
      "(6027, 7)\n"
     ]
    }
   ],
   "source": [
    "print(climatechange.shape)"
   ]
  },
  {
   "cell_type": "code",
   "execution_count": 20,
   "metadata": {},
   "outputs": [
    {
     "name": "stdout",
     "output_type": "stream",
     "text": [
      "0.8198263386396527\n",
      "[[150 210]\n",
      " [ 39 983]]\n"
     ]
    }
   ],
   "source": [
    "from sklearn.metrics import confusion_matrix\n",
    "\n",
    "climatechange_transf = climatechange.dropna()\n",
    "\n",
    "X = climatechange_transf.iloc[:, 5]\n",
    "y = climatechange_transf.iloc[:, 2]\n",
    "\n",
    "\n",
    "X_train, X_test, y_train, y_test = train_test_split(X, y, test_size=0.33, random_state=42)\n",
    "\n",
    "    \n",
    "svc = Pipeline([('vect', CountVectorizer()),\n",
    "    ('tfidf', TfidfTransformer()),\n",
    "    ('clf', SVC(C=1000, tol=1, kernel='rbf', gamma='auto')),\n",
    "])\n",
    "\n",
    "svc.fit(X_train, y_train)\n",
    "\n",
    "\n",
    "y_pred = svc.predict(X_test)\n",
    "print(accuracy_score(y_test, y_pred))\n",
    "print(confusion_matrix(y_test, y_pred))\n",
    "conf = confusion_matrix(y_test, y_pred)\n"
   ]
  },
  {
   "cell_type": "code",
   "execution_count": null,
   "metadata": {},
   "outputs": [],
   "source": []
  }
 ],
 "metadata": {
  "kernelspec": {
   "display_name": "Python 3",
   "language": "python",
   "name": "python3"
  },
  "language_info": {
   "codemirror_mode": {
    "name": "ipython",
    "version": 3
   },
   "file_extension": ".py",
   "mimetype": "text/x-python",
   "name": "python",
   "nbconvert_exporter": "python",
   "pygments_lexer": "ipython3",
   "version": "3.7.3"
  }
 },
 "nbformat": 4,
 "nbformat_minor": 2
}
