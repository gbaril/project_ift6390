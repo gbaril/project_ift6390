{
 "cells": [
  {
   "cell_type": "markdown",
   "metadata": {},
   "source": [
    "# IFT6390 Project - Data Exploration snippets"
   ]
  },
  {
   "cell_type": "markdown",
   "metadata": {},
   "source": [
    "## Useful piece of code"
   ]
  },
  {
   "cell_type": "markdown",
   "metadata": {},
   "source": [
    "## Setup - data"
   ]
  },
  {
   "cell_type": "code",
   "execution_count": 1,
   "metadata": {},
   "outputs": [
    {
     "name": "stdout",
     "output_type": "stream",
     "text": [
      "Automatically created module for IPython interactive environment\n"
     ]
    },
    {
     "name": "stderr",
     "output_type": "stream",
     "text": [
      "Using TensorFlow backend.\n",
      "[nltk_data] Downloading package stopwords to\n",
      "[nltk_data]     C:\\Users\\Guillaume\\AppData\\Roaming\\nltk_data...\n",
      "[nltk_data]   Package stopwords is already up-to-date!\n"
     ]
    }
   ],
   "source": [
    "print(__doc__)\n",
    "\n",
    "#!pip install keras\n",
    "#!{sys.executable} -m pip install scikit-plot\n",
    "\n",
    "import keras\n",
    "import scikitplot as skplt\n",
    "\n",
    "import pandas as pd\n",
    "import numpy as np\n",
    "import datetime\n",
    "import seaborn as sns\n",
    "import sys\n",
    "\n",
    "\n",
    "#Natural Language Toolkit\n",
    "import nltk\n",
    "nltk.download('stopwords')\n",
    "from nltk.corpus import stopwords\n",
    "\n",
    "#identifies words which are not adding semantic value to the sentence\n",
    "stopw = set(stopwords.words('english'))"
   ]
  },
  {
   "cell_type": "markdown",
   "metadata": {},
   "source": [
    "## Import cleaned dataframe"
   ]
  },
  {
   "cell_type": "code",
   "execution_count": 4,
   "metadata": {},
   "outputs": [
    {
     "name": "stdout",
     "output_type": "stream",
     "text": [
      "0:00:07.033978\n"
     ]
    }
   ],
   "source": [
    "a=datetime.datetime.now()\n",
    "\n",
    "s140=pd.read_pickle('ds_28nov/s140_clean_28nov.pkl')\n",
    "mr=pd.read_pickle('ds_28nov/mr_clean_28nov.pkl')\n",
    "cc=pd.read_pickle('ds_28nov/cc_clean_28nov.pkl')\n",
    "\n",
    "print(datetime.datetime.now()-a)"
   ]
  },
  {
   "cell_type": "code",
   "execution_count": 5,
   "metadata": {},
   "outputs": [
    {
     "data": {
      "text/plain": [
       "0          negative\n",
       "1          negative\n",
       "2          negative\n",
       "3          negative\n",
       "4          negative\n",
       "             ...   \n",
       "1600493    positive\n",
       "1600494    positive\n",
       "1600495    positive\n",
       "1600496    positive\n",
       "1600497    positive\n",
       "Name: target, Length: 1600498, dtype: object"
      ]
     },
     "execution_count": 5,
     "metadata": {},
     "output_type": "execute_result"
    }
   ],
   "source": [
    "s140.target"
   ]
  },
  {
   "cell_type": "code",
   "execution_count": 6,
   "metadata": {},
   "outputs": [
    {
     "name": "stdout",
     "output_type": "stream",
     "text": [
      "NaN before replace:  1840\n",
      "NaN after replace:  0\n"
     ]
    }
   ],
   "source": [
    "print('NaN before replace: ', cc.target.isna().sum())\n",
    "cc=cc.replace({'target': {np.nan: 'Not Sure'}})\n",
    "print('NaN after replace: ', cc.target.isna().sum())\n",
    "\n",
    "def nnlabel(df):\n",
    "    return df.replace({'target': {'positive':1,'Not Sure':0,'neutral':0,'negative':2}})\n",
    "\n",
    "cc=nnlabel(cc)\n",
    "mr=nnlabel(mr)\n",
    "s140=nnlabel(s140)"
   ]
  },
  {
   "cell_type": "code",
   "execution_count": 7,
   "metadata": {},
   "outputs": [],
   "source": [
    "from sklearn.feature_extraction.text import TfidfVectorizer \n",
    "\n",
    "def make_tfidf(df):\n",
    "    tf_vect=TfidfVectorizer(use_idf=False,stop_words=stopw)\n",
    "    tf=tf_vect.fit_transform(df.tolist())\n",
    "    \n",
    "    l=tf.shape[0]\n",
    "    \n",
    "    w_count=np.array(tf.sum(axis=0,))[0]/l\n",
    "    #wcm=w_count.max()\n",
    "    #w_count=w_count/wcm\n",
    "    wcr=w_count.argsort()[::-1].argsort()\n",
    "\n",
    "    \n",
    "    idf_vect=TfidfVectorizer(use_idf=True,stop_words=stopw)\n",
    "    idf=idf_vect.fit_transform(df.tolist())\n",
    "    \n",
    "    w_marker=np.array(idf.sum(axis=0))[0]/l\n",
    "    #wmm=w_marker.max()\n",
    "    #w_marker=w_marker/wmm\n",
    "    wmr=w_marker.argsort()[::-1].argsort()\n",
    "    \n",
    "    \n",
    "    # SRC -> https://kavita-ganesan.com/tfidftransformer-tfidfvectorizer-usage-differences/\n",
    "    feature_names=tf_vect.get_feature_names()\n",
    "    \n",
    "    tf_idf = pd.DataFrame(np.array([w_count, w_marker, wcr, wmr]).T, index=feature_names, columns=[\"tf\", \"idf\", \"rank_tf\", \"rank_idf\"])\n",
    "    tf_idf = tf_idf.sort_values(by=[\"tf\"],ascending=False)\n",
    "\n",
    "    tf_idf.rank_tf=tf_idf.rank_tf.astype('int64')\n",
    "    tf_idf.rank_idf=tf_idf.rank_idf.astype('int64')\n",
    "\n",
    "    return tf_idf\n"
   ]
  },
  {
   "cell_type": "markdown",
   "metadata": {},
   "source": [
    "## Transform s140"
   ]
  },
  {
   "cell_type": "code",
   "execution_count": 8,
   "metadata": {},
   "outputs": [],
   "source": [
    "#all=make_tfidf(s140['trimmed'])"
   ]
  },
  {
   "cell_type": "code",
   "execution_count": 42,
   "metadata": {},
   "outputs": [
    {
     "name": "stdout",
     "output_type": "stream",
     "text": [
      "0:00:14.945347\n"
     ]
    }
   ],
   "source": [
    "a=datetime.datetime.now()\n",
    "\n",
    "s140_tf_idf_vect=TfidfVectorizer(use_idf=True,stop_words=stopw)\n",
    "s140_tf_idf=s140_tf_idf_vect.fit_transform(s140['trimmed'].tolist())\n",
    "\n",
    "print(datetime.datetime.now()-a)"
   ]
  },
  {
   "cell_type": "markdown",
   "metadata": {},
   "source": [
    "## Transform MR"
   ]
  },
  {
   "cell_type": "code",
   "execution_count": 43,
   "metadata": {},
   "outputs": [
    {
     "name": "stdout",
     "output_type": "stream",
     "text": [
      "0:00:04.948728\n"
     ]
    }
   ],
   "source": [
    "a=datetime.datetime.now()\n",
    "\n",
    "mr_tf_idf_vect=TfidfVectorizer(use_idf=True,stop_words=stopw)\n",
    "mr_tf_idf=mr_tf_idf_vect.fit_transform(mr['trimmed'].tolist())\n",
    "\n",
    "print(datetime.datetime.now()-a)"
   ]
  },
  {
   "cell_type": "markdown",
   "metadata": {},
   "source": [
    "## Transform CC"
   ]
  },
  {
   "cell_type": "code",
   "execution_count": 70,
   "metadata": {},
   "outputs": [
    {
     "name": "stdout",
     "output_type": "stream",
     "text": [
      "0:00:00.069699\n"
     ]
    }
   ],
   "source": [
    "a=datetime.datetime.now()\n",
    "\n",
    "cc_tf_idf_vect=TfidfVectorizer(use_idf=True,stop_words=stopw)\n",
    "cc_tf_idf=cc_tf_idf_vect.fit_transform(cc['trimmed'].tolist())\n",
    "\n",
    "print(datetime.datetime.now()-a)"
   ]
  },
  {
   "cell_type": "markdown",
   "metadata": {},
   "source": [
    "## Model testing"
   ]
  },
  {
   "cell_type": "code",
   "execution_count": 109,
   "metadata": {},
   "outputs": [],
   "source": [
    "#import scikitplot as skplt\n",
    "#import scikitplot#.plotters as skplt\n",
    "\n",
    "import matplotlib.pyplot as plt\n",
    "from sklearn.model_selection import train_test_split\n",
    "from sklearn.model_selection import cross_val_score\n",
    "from sklearn.metrics import accuracy_score\n",
    "\n",
    "#The mean score and the 95% confidence interval of the score estimate are hence given by:\n",
    "\n",
    "def crossval(model, x, y):  \n",
    "    scores = cross_val_score(model, x, y, cv=5)\n",
    "    print(\"Accuracy: %0.2f (+/- %0.2f)\" % (scores.mean(), scores.std() * 2))\n",
    "\n",
    "def confusion(y_valid,predicted):\n",
    "    if len(y_valid.shape)!=1 or len(predicted.shape)!=1:\n",
    "        y_v=np.argmax(y_valid,axis=1)\n",
    "        pred=np.argmax(predicted,axis=1)\n",
    "    skplt.metrics.plot_confusion_matrix(y_v, pred,x_tick_rotation=90,figsize=(3,6), normalize=True)\n",
    "    plt.show()  \n",
    "    \n",
    "def TryModel(model, xt, yt,xv=0,yv=0, selfie=True):  \n",
    "    if selfie:\n",
    "        X_train, X_valid, y_train, y_valid = train_test_split(x, y, test_size=0.20, random_state=42)\n",
    "    else:\n",
    "        X_train, X_valid, y_train, y_valid=xt,xv,yt,yv\n",
    "\n",
    "    clf = model.fit(X_train, y_train)\n",
    "\n",
    "    predicted = clf.predict(X_valid)\n",
    "\n",
    "    acc=accuracy_score(y_valid, predicted)\n",
    "    print(f\"Accuracy: {acc}\")\n",
    "\n",
    "    confusion(y_valid,predicted)\n",
    "\n",
    "    return y_valid,predicted\n",
    "\n",
    "\n",
    "from dataclasses import dataclass\n",
    "from keras.models import Sequential\n",
    "from keras.layers import Dense\n",
    "from keras.utils import to_categorical\n",
    "\n",
    "## Data\n",
    "#data = np.random.random((1000,100))\n",
    "#labels = np.random.randint(2,size=(1000,1))\n",
    "\n",
    "class nn:\n",
    "    def __init__(self):\n",
    "        self.model = None\n",
    "        self.x = None\n",
    "        self.y = None\n",
    "        \n",
    "    def train(self, x,y,epoch=1,layers=16):\n",
    "        # Define network (model)\n",
    "        self.model = Sequential() \n",
    "\n",
    "        self.y = to_categorical(y,3)\n",
    "        self.model.add(Dense(layers, activation='relu', input_dim=x.shape[1]))\n",
    "        self.model.add(Dense(self.y.shape[1], activation='sigmoid'))\n",
    "\n",
    "        # Configure training\n",
    "        self.model.compile(optimizer='rmsprop', loss='categorical_crossentropy', metrics=['accuracy'])\n",
    "\n",
    "        # Fit model by training\n",
    "        self.model.fit(x,self.y,epochs=epoch,batch_size=250)\n",
    "        \n",
    "    def predict(self, x_test):\n",
    "        # Make predictions\n",
    "        return self.y,self.model.predict(x_test)\n",
    "    \n",
    "    def eval(self, x,y):\n",
    "        test_loss, test_acc = network.evaluate(x,y)\n",
    "        return test_loss, test_acc"
   ]
  },
  {
   "cell_type": "code",
   "execution_count": 24,
   "metadata": {},
   "outputs": [
    {
     "name": "stdout",
     "output_type": "stream",
     "text": [
      "[name: \"/device:CPU:0\"\n",
      "device_type: \"CPU\"\n",
      "memory_limit: 268435456\n",
      "locality {\n",
      "}\n",
      "incarnation: 11564677703944379070\n",
      ", name: \"/device:GPU:0\"\n",
      "device_type: \"GPU\"\n",
      "memory_limit: 6618563871\n",
      "locality {\n",
      "  bus_id: 1\n",
      "  links {\n",
      "  }\n",
      "}\n",
      "incarnation: 6877460854710942424\n",
      "physical_device_desc: \"device: 0, name: GeForce RTX 2060 SUPER, pci bus id: 0000:29:00.0, compute capability: 7.5\"\n",
      "]\n"
     ]
    },
    {
     "ename": "AttributeError",
     "evalue": "module 'tensorflow' has no attribute 'Session'",
     "output_type": "error",
     "traceback": [
      "\u001b[1;31m---------------------------------------------------------------------------\u001b[0m",
      "\u001b[1;31mAttributeError\u001b[0m                            Traceback (most recent call last)",
      "\u001b[1;32m<ipython-input-24-c0deb5e04608>\u001b[0m in \u001b[0;36m<module>\u001b[1;34m\u001b[0m\n\u001b[0;32m      6\u001b[0m \u001b[1;33m\u001b[0m\u001b[0m\n\u001b[0;32m      7\u001b[0m \u001b[1;32mimport\u001b[0m \u001b[0mtensorflow\u001b[0m \u001b[1;32mas\u001b[0m \u001b[0mtf\u001b[0m\u001b[1;33m\u001b[0m\u001b[1;33m\u001b[0m\u001b[0m\n\u001b[1;32m----> 8\u001b[1;33m \u001b[0msess\u001b[0m \u001b[1;33m=\u001b[0m \u001b[0mtf\u001b[0m\u001b[1;33m.\u001b[0m\u001b[0mSession\u001b[0m\u001b[1;33m(\u001b[0m\u001b[0mconfig\u001b[0m\u001b[1;33m=\u001b[0m\u001b[0mtf\u001b[0m\u001b[1;33m.\u001b[0m\u001b[0mConfigProto\u001b[0m\u001b[1;33m(\u001b[0m\u001b[0mlog_device_placement\u001b[0m\u001b[1;33m=\u001b[0m\u001b[1;32mTrue\u001b[0m\u001b[1;33m)\u001b[0m\u001b[1;33m)\u001b[0m\u001b[1;33m\u001b[0m\u001b[1;33m\u001b[0m\u001b[0m\n\u001b[0m",
      "\u001b[1;31mAttributeError\u001b[0m: module 'tensorflow' has no attribute 'Session'"
     ]
    }
   ],
   "source": [
    "#import tensorflow as tf\n",
    "#sess = tf.Session(config=tf.ConfigProto(log_device_placement=True))\n",
    "\n",
    "from tensorflow.python.client import device_lib\n",
    "print(device_lib.list_local_devices())\n",
    "\n",
    "import tensorflow as tf\n",
    "sess = tf.Session(config=tf.ConfigProto(log_device_placement=True))"
   ]
  },
  {
   "cell_type": "markdown",
   "metadata": {},
   "source": [
    "## Trained and tested on the same dataset (selfie)"
   ]
  },
  {
   "cell_type": "markdown",
   "metadata": {},
   "source": [
    "### mr"
   ]
  },
  {
   "cell_type": "code",
   "execution_count": 98,
   "metadata": {},
   "outputs": [
    {
     "name": "stdout",
     "output_type": "stream",
     "text": [
      "Epoch 1/1\n",
      "50000/50000 [==============================] - 23s 453us/step - loss: 0.7790 - accuracy: 0.6368\n"
     ]
    },
    {
     "data": {
      "image/png": "[encoded data removed]",
      "text/plain": [
       "<Figure size 216x432 with 2 Axes>"
      ]
     },
     "metadata": {
      "needs_background": "light"
     },
     "output_type": "display_data"
    }
   ],
   "source": [
    "a=datetime.datetime.now()\n",
    "\n",
    "#x,y = s140_tf_idf, s140['target']\n",
    "x,y = mr_tf_idf, mr['target']\n",
    "#x,y = cc_tf_idf, cc['target']\n",
    "\n",
    "mrNN=nn()\n",
    "mrNN.train(x, y)\n",
    "mr_y,mr_pred=mrNN.predict(x)\n",
    "confusion(mr_y,mr_pred)\n",
    "\n",
    "#print(datetime.datetime.now()-a)"
   ]
  },
  {
   "cell_type": "markdown",
   "metadata": {},
   "source": [
    "### cc"
   ]
  },
  {
   "cell_type": "code",
   "execution_count": 99,
   "metadata": {},
   "outputs": [
    {
     "name": "stdout",
     "output_type": "stream",
     "text": [
      "Epoch 1/5\n",
      "6027/6027 [==============================] - 0s 57us/step - loss: 1.0780 - accuracy: 0.5178\n",
      "Epoch 2/5\n",
      "6027/6027 [==============================] - 0s 47us/step - loss: 1.0396 - accuracy: 0.5281\n",
      "Epoch 3/5\n",
      "6027/6027 [==============================] - 0s 49us/step - loss: 1.0033 - accuracy: 0.5382\n",
      "Epoch 4/5\n",
      "6027/6027 [==============================] - 0s 47us/step - loss: 0.9671 - accuracy: 0.5479\n",
      "Epoch 5/5\n",
      "6027/6027 [==============================] - 0s 49us/step - loss: 0.9320 - accuracy: 0.5567\n"
     ]
    },
    {
     "data": {
      "image/png": "[encoded data removed]",
      "text/plain": [
       "<Figure size 216x432 with 2 Axes>"
      ]
     },
     "metadata": {
      "needs_background": "light"
     },
     "output_type": "display_data"
    },
    {
     "name": "stdout",
     "output_type": "stream",
     "text": [
      "0:00:02.132393\n"
     ]
    }
   ],
   "source": [
    "a=datetime.datetime.now()\n",
    "\n",
    "#x,y = s140_tf_idf, s140['target']\n",
    "#x,y = mr_tf_idf, mr['target']\n",
    "x,y = cc_tf_idf, cc['target']\n",
    "with tf.device('/GPU:0'):\n",
    "    ccNN=nn()\n",
    "    ccNN.train(x, y, 5)\n",
    "    cc_y, cc_pred=ccNN.predict(x)\n",
    "    confusion(cc_y,cc_pred)\n",
    "\n",
    "    print(datetime.datetime.now()-a)"
   ]
  },
  {
   "cell_type": "markdown",
   "metadata": {},
   "source": [
    "### s140"
   ]
  },
  {
   "cell_type": "code",
   "execution_count": 110,
   "metadata": {},
   "outputs": [
    {
     "name": "stdout",
     "output_type": "stream",
     "text": [
      "Epoch 1/1\n",
      "1600498/1600498 [==============================] - 4266s 3ms/step - loss: 0.4996 - accuracy: 0.7730\n"
     ]
    },
    {
     "data": {
      "image/png": "[encoded data removed]",
      "text/plain": [
       "<Figure size 216x432 with 2 Axes>"
      ]
     },
     "metadata": {
      "needs_background": "light"
     },
     "output_type": "display_data"
    },
    {
     "name": "stdout",
     "output_type": "stream",
     "text": [
      "2:24:11.825133\n"
     ]
    }
   ],
   "source": [
    "a=datetime.datetime.now()\n",
    "\n",
    "x,y = s140_tf_idf, s140['target']\n",
    "#x,y = mr_tf_idf, mr['target']\n",
    "#x,y = cc_tf_idf, cc['target']\n",
    "with tf.device('/GPU:0'):\n",
    "    s140NN=nn()\n",
    "    s140NN.train(x, y)\n",
    "    s140_y,s140_pred=s140NN.predict(x)\n",
    "    confusion(s140_y,s140_pred)\n",
    "\n",
    "print(datetime.datetime.now()-a)"
   ]
  },
  {
   "cell_type": "markdown",
   "metadata": {},
   "source": [
    "# Cross-Trained"
   ]
  },
  {
   "cell_type": "markdown",
   "metadata": {},
   "source": [
    "## NN Movies trained w S140"
   ]
  },
  {
   "cell_type": "code",
   "execution_count": 111,
   "metadata": {},
   "outputs": [
    {
     "data": {
      "image/png": "[encoded data removed]",
      "text/plain": [
       "<Figure size 216x432 with 2 Axes>"
      ]
     },
     "metadata": {
      "needs_background": "light"
     },
     "output_type": "display_data"
    },
    {
     "name": "stdout",
     "output_type": "stream",
     "text": [
      "0:02:20.537636\n"
     ]
    }
   ],
   "source": [
    "a=datetime.datetime.now()\n",
    "\n",
    "#x,y = s140_tf_idf, s140['target']\n",
    "x,y = s140_tf_idf_vect.transform(mr['trimmed'].tolist()), mr['target']\n",
    "#x,y = cc_tf_idf, cc['target']\n",
    "\n",
    "_,pred=s140NN.predict(x)\n",
    "\n",
    "mronehot = np.zeros(pred.shape)\n",
    "for j, i in enumerate(y):\n",
    "    mronehot[j][i] = 1\n",
    "\n",
    "confusion(mronehot,pred)\n",
    "\n",
    "print(datetime.datetime.now()-a)"
   ]
  },
  {
   "cell_type": "markdown",
   "metadata": {},
   "source": [
    "## NN CC trained w S140"
   ]
  },
  {
   "cell_type": "code",
   "execution_count": 112,
   "metadata": {},
   "outputs": [
    {
     "data": {
      "image/png": "[encoded data removed]",
      "text/plain": [
       "<Figure size 216x432 with 2 Axes>"
      ]
     },
     "metadata": {
      "needs_background": "light"
     },
     "output_type": "display_data"
    },
    {
     "name": "stdout",
     "output_type": "stream",
     "text": [
      "0:00:16.450140\n"
     ]
    }
   ],
   "source": [
    "a=datetime.datetime.now()\n",
    "\n",
    "#x,y = s140_tf_idf, s140['target']\n",
    "#x,y = mr_tf_idf, mr['target']\n",
    "x,y = s140_tf_idf_vect.transform(cc['trimmed'].tolist()), cc['target']\n",
    "\n",
    "_,pred=s140NN.predict(x)\n",
    "\n",
    "cconehot = np.zeros(pred.shape)\n",
    "for j, i in enumerate(y):\n",
    "    cconehot[j][i] = 1\n",
    "\n",
    "confusion(cconehot,pred)\n",
    "\n",
    "print(datetime.datetime.now()-a)"
   ]
  },
  {
   "cell_type": "markdown",
   "metadata": {},
   "source": [
    "## NN Movies trained w CC"
   ]
  },
  {
   "cell_type": "code",
   "execution_count": 113,
   "metadata": {},
   "outputs": [
    {
     "name": "stdout",
     "output_type": "stream",
     "text": [
      "(6027, 549424)\n",
      "(6027, 8235)\n"
     ]
    }
   ],
   "source": [
    "print(x.shape)\n",
    "print(cc_tf_idf.shape)"
   ]
  },
  {
   "cell_type": "code",
   "execution_count": 114,
   "metadata": {},
   "outputs": [
    {
     "data": {
      "image/png": "[encoded data removed]",
      "text/plain": [
       "<Figure size 216x432 with 2 Axes>"
      ]
     },
     "metadata": {
      "needs_background": "light"
     },
     "output_type": "display_data"
    },
    {
     "name": "stdout",
     "output_type": "stream",
     "text": [
      "0:00:07.107153\n"
     ]
    }
   ],
   "source": [
    "a=datetime.datetime.now()\n",
    "\n",
    "#x,y = s140_tf_idf, s140['target']\n",
    "x,y = cc_tf_idf_vect.transform(mr['trimmed'].tolist()), mr['target']\n",
    "#x,y = cc_tf_idf, cc['target']\n",
    "\n",
    "_, pred = ccNN.predict(x)\n",
    "confusion(mronehot,pred)\n",
    "\n",
    "print(datetime.datetime.now()-a)"
   ]
  },
  {
   "cell_type": "markdown",
   "metadata": {},
   "source": [
    "## NN CC trained w Movies"
   ]
  },
  {
   "cell_type": "code",
   "execution_count": 115,
   "metadata": {},
   "outputs": [
    {
     "data": {
      "image/png": "[encoded data removed]",
      "text/plain": [
       "<Figure size 216x432 with 2 Axes>"
      ]
     },
     "metadata": {
      "needs_background": "light"
     },
     "output_type": "display_data"
    },
    {
     "name": "stdout",
     "output_type": "stream",
     "text": [
      "0:00:02.996207\n"
     ]
    }
   ],
   "source": [
    "a=datetime.datetime.now()\n",
    "\n",
    "#x,y = s140_tf_idf, s140['target']\n",
    "#x,y = mr_tf_idf, mr['target']\n",
    "x,y = mr_tf_idf_vect.transform(cc['trimmed'].tolist()), cc['target']\n",
    "\n",
    "_,pred=mrNN.predict(x)\n",
    "confusion(cconehot,pred)\n",
    "\n",
    "print(datetime.datetime.now()-a)"
   ]
  },
  {
   "cell_type": "markdown",
   "metadata": {},
   "source": [
    "## NN s140 trained w CC"
   ]
  },
  {
   "cell_type": "code",
   "execution_count": 116,
   "metadata": {},
   "outputs": [
    {
     "data": {
      "image/png": "[encoded data removed]",
      "text/plain": [
       "<Figure size 216x432 with 2 Axes>"
      ]
     },
     "metadata": {
      "needs_background": "light"
     },
     "output_type": "display_data"
    },
    {
     "name": "stdout",
     "output_type": "stream",
     "text": [
      "0:04:00.181404\n"
     ]
    }
   ],
   "source": [
    "a=datetime.datetime.now()\n",
    "\n",
    "x,y = cc_tf_idf_vect.transform(s140['trimmed'].tolist()), s140['target']\n",
    "#x,y = mr_tf_idf, mr['target']\n",
    "#x,y = cc_tf_idf, cc['target']\n",
    "\n",
    "_,pred=ccNN.predict(x)\n",
    "\n",
    "s140onehot = np.zeros(pred.shape)\n",
    "for j, i in enumerate(y):\n",
    "    s140onehot[j][i] = 1\n",
    "\n",
    "confusion(s140onehot,pred)\n",
    "\n",
    "print(datetime.datetime.now()-a)"
   ]
  },
  {
   "cell_type": "markdown",
   "metadata": {},
   "source": [
    "## NN s140 trained w Movies"
   ]
  },
  {
   "cell_type": "code",
   "execution_count": 117,
   "metadata": {},
   "outputs": [
    {
     "data": {
      "image/png": "[encoded data removed]",
      "text/plain": [
       "<Figure size 216x432 with 2 Axes>"
      ]
     },
     "metadata": {
      "needs_background": "light"
     },
     "output_type": "display_data"
    },
    {
     "name": "stdout",
     "output_type": "stream",
     "text": [
      "0:14:47.709653\n"
     ]
    }
   ],
   "source": [
    "a=datetime.datetime.now()\n",
    "\n",
    "x,y = mr_tf_idf_vect.transform(s140['trimmed'].tolist()), s140['target']\n",
    "#x,y = mr_tf_idf, mr['target']\n",
    "#x,y = cc_tf_idf, cc['target']\n",
    "\n",
    "_,pred=mrNN.predict(x)\n",
    "confusion(s140onehot,pred)\n",
    "\n",
    "print(datetime.datetime.now()-a)"
   ]
  },
  {
   "cell_type": "code",
   "execution_count": 128,
   "metadata": {},
   "outputs": [],
   "source": [
    "import pickle\n",
    "\n",
    "pickling_on = open(\"s140NN.pkl\",\"wb\")\n",
    "pickle.dump(s140NN, pickling_on)\n",
    "pickle.dump(mrNN, pickling_on)\n",
    "#pickling_on.close()"
   ]
  },
  {
   "cell_type": "code",
   "execution_count": 130,
   "metadata": {},
   "outputs": [
    {
     "ename": "PicklingError",
     "evalue": "Can't pickle <class '__main__.nn'>: it's not the same object as __main__.nn",
     "output_type": "error",
     "traceback": [
      "\u001b[1;31m---------------------------------------------------------------------------\u001b[0m",
      "\u001b[1;31mPicklingError\u001b[0m                             Traceback (most recent call last)",
      "\u001b[1;32m<ipython-input-130-bb806b92706c>\u001b[0m in \u001b[0;36m<module>\u001b[1;34m\u001b[0m\n\u001b[0;32m      1\u001b[0m \u001b[0mpickling_on2\u001b[0m \u001b[1;33m=\u001b[0m \u001b[0mopen\u001b[0m\u001b[1;33m(\u001b[0m\u001b[1;34m\"mrNN.pkl\"\u001b[0m\u001b[1;33m,\u001b[0m\u001b[1;34m\"w\"\u001b[0m\u001b[1;33m)\u001b[0m\u001b[1;33m\u001b[0m\u001b[1;33m\u001b[0m\u001b[0m\n\u001b[1;32m----> 2\u001b[1;33m \u001b[0mpickle\u001b[0m\u001b[1;33m.\u001b[0m\u001b[0mdump\u001b[0m\u001b[1;33m(\u001b[0m\u001b[0mmrNN\u001b[0m\u001b[1;33m,\u001b[0m \u001b[0mpickling_on2\u001b[0m\u001b[1;33m)\u001b[0m\u001b[1;33m\u001b[0m\u001b[1;33m\u001b[0m\u001b[0m\n\u001b[0m\u001b[0;32m      3\u001b[0m \u001b[0mpickling_on2\u001b[0m\u001b[1;33m.\u001b[0m\u001b[0mclose\u001b[0m\u001b[1;33m(\u001b[0m\u001b[1;33m)\u001b[0m\u001b[1;33m\u001b[0m\u001b[1;33m\u001b[0m\u001b[0m\n",
      "\u001b[1;31mPicklingError\u001b[0m: Can't pickle <class '__main__.nn'>: it's not the same object as __main__.nn"
     ]
    }
   ],
   "source": [
    "#pickling_on2 = open(\"mrNN.pkl\",\"w\")\n",
    "pickle.dump(mrNN, pickling_on2)\n",
    "pickling_on2.close()"
   ]
  },
  {
   "cell_type": "code",
   "execution_count": null,
   "metadata": {},
   "outputs": [],
   "source": [
    "#pickling_on3 = open(\"ccNN.pkl\",\"wb\")\n",
    "pickle.dump(ccNN, pickling_on3)\n",
    "pickling_on3.close()"
   ]
  },
  {
   "cell_type": "code",
   "execution_count": 127,
   "metadata": {},
   "outputs": [],
   "source": [
    "pickling_on.close()"
   ]
  },
  {
   "cell_type": "code",
   "execution_count": null,
   "metadata": {},
   "outputs": [],
   "source": []
  }
 ],
 "metadata": {
  "kernelspec": {
   "display_name": "Python 3",
   "language": "python",
   "name": "python3"
  },
  "language_info": {
   "codemirror_mode": {
    "name": "ipython",
    "version": 3
   },
   "file_extension": ".py",
   "mimetype": "text/x-python",
   "name": "python",
   "nbconvert_exporter": "python",
   "pygments_lexer": "ipython3",
   "version": "3.7.4"
  }
 },
 "nbformat": 4,
 "nbformat_minor": 2
}
