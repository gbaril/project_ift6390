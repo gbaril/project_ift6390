{
 "cells": [
  {
   "cell_type": "markdown",
   "metadata": {},
   "source": [
    "# IFT6390 Project\n",
    "### Jordi"
   ]
  },
  {
   "cell_type": "markdown",
   "metadata": {},
   "source": [
    "## Import data and libraries"
   ]
  },
  {
   "cell_type": "code",
   "execution_count": 6,
   "metadata": {},
   "outputs": [],
   "source": [
    "import pandas as pd\n",
    "import numpy as np\n",
    "from nltk.corpus import stopwords\n",
    "from sklearn.feature_extraction.text import CountVectorizer\n",
    "from nltk.stem import PorterStemmer \n",
    "\n",
    "stop_words = set(stopwords.words('english')) \n",
    "\n",
    "sentiment140 = pd.read_csv('data/sentiment140.csv')\n",
    "climatechange = pd.read_csv('data/climatechange.csv')\n",
    "moviereview = pd.read_csv('data/moviereview.csv')"
   ]
  },
  {
   "cell_type": "markdown",
   "metadata": {},
   "source": [
    "## Sentiment140 Analysis"
   ]
  },
  {
   "cell_type": "code",
   "execution_count": 3,
   "metadata": {},
   "outputs": [
    {
     "data": {
      "text/plain": [
       "(1600498, 2)"
      ]
     },
     "execution_count": 3,
     "metadata": {},
     "output_type": "execute_result"
    }
   ],
   "source": [
    "sentiment140.shape"
   ]
  },
  {
   "cell_type": "code",
   "execution_count": 2,
   "metadata": {},
   "outputs": [
    {
     "data": {
      "text/html": [
       "<div>\n",
       "<style scoped>\n",
       "    .dataframe tbody tr th:only-of-type {\n",
       "        vertical-align: middle;\n",
       "    }\n",
       "\n",
       "    .dataframe tbody tr th {\n",
       "        vertical-align: top;\n",
       "    }\n",
       "\n",
       "    .dataframe thead th {\n",
       "        text-align: right;\n",
       "    }\n",
       "</style>\n",
       "<table border=\"1\" class=\"dataframe\">\n",
       "  <thead>\n",
       "    <tr style=\"text-align: right;\">\n",
       "      <th></th>\n",
       "      <th>text</th>\n",
       "      <th>target</th>\n",
       "    </tr>\n",
       "  </thead>\n",
       "  <tbody>\n",
       "    <tr>\n",
       "      <th>0</th>\n",
       "      <td>@switchfoot http://twitpic.com/2y1zl - Awww, t...</td>\n",
       "      <td>negative</td>\n",
       "    </tr>\n",
       "    <tr>\n",
       "      <th>1</th>\n",
       "      <td>Got a headache :/ MC stop making music, you ca...</td>\n",
       "      <td>negative</td>\n",
       "    </tr>\n",
       "    <tr>\n",
       "      <th>2</th>\n",
       "      <td>lol still worked like crazy lol  . lol Your la...</td>\n",
       "      <td>negative</td>\n",
       "    </tr>\n",
       "    <tr>\n",
       "      <th>3</th>\n",
       "      <td>why won't netflix send me S. Darko? I know it'...</td>\n",
       "      <td>negative</td>\n",
       "    </tr>\n",
       "    <tr>\n",
       "      <th>4</th>\n",
       "      <td>[ToZ] Clan Website offline  http://www.theoutl...</td>\n",
       "      <td>negative</td>\n",
       "    </tr>\n",
       "  </tbody>\n",
       "</table>\n",
       "</div>"
      ],
      "text/plain": [
       "                                                text    target\n",
       "0  @switchfoot http://twitpic.com/2y1zl - Awww, t...  negative\n",
       "1  Got a headache :/ MC stop making music, you ca...  negative\n",
       "2  lol still worked like crazy lol  . lol Your la...  negative\n",
       "3  why won't netflix send me S. Darko? I know it'...  negative\n",
       "4  [ToZ] Clan Website offline  http://www.theoutl...  negative"
      ]
     },
     "execution_count": 2,
     "metadata": {},
     "output_type": "execute_result"
    }
   ],
   "source": [
    "sentiment140.head()"
   ]
  },
  {
   "cell_type": "code",
   "execution_count": 23,
   "metadata": {},
   "outputs": [],
   "source": [
    "# SRC -> https://stackoverflow.com/questions/29523254/python-remove-stop-words-from-pandas-dataframe\n",
    "text = sentiment140.iloc[:, 0]\n",
    "\n",
    "sentiment140.iloc[:, 0] = text.apply(lambda x: ' '.join([word for word in x.split() if word not in (stop_words)]))\n"
   ]
  },
  {
   "cell_type": "code",
   "execution_count": 24,
   "metadata": {},
   "outputs": [
    {
     "data": {
      "text/html": [
       "<div>\n",
       "<style scoped>\n",
       "    .dataframe tbody tr th:only-of-type {\n",
       "        vertical-align: middle;\n",
       "    }\n",
       "\n",
       "    .dataframe tbody tr th {\n",
       "        vertical-align: top;\n",
       "    }\n",
       "\n",
       "    .dataframe thead th {\n",
       "        text-align: right;\n",
       "    }\n",
       "</style>\n",
       "<table border=\"1\" class=\"dataframe\">\n",
       "  <thead>\n",
       "    <tr style=\"text-align: right;\">\n",
       "      <th></th>\n",
       "      <th>text</th>\n",
       "      <th>target</th>\n",
       "    </tr>\n",
       "  </thead>\n",
       "  <tbody>\n",
       "    <tr>\n",
       "      <th>0</th>\n",
       "      <td>@switchfoot http://twitpic.com/2y1zl - Awww, t...</td>\n",
       "      <td>negative</td>\n",
       "    </tr>\n",
       "    <tr>\n",
       "      <th>1</th>\n",
       "      <td>Got headache :/ MC stop making music, can't si...</td>\n",
       "      <td>negative</td>\n",
       "    </tr>\n",
       "    <tr>\n",
       "      <th>2</th>\n",
       "      <td>lol still worked like crazy lol . lol Your lak...</td>\n",
       "      <td>negative</td>\n",
       "    </tr>\n",
       "    <tr>\n",
       "      <th>3</th>\n",
       "      <td>netflix send S. Darko? I know going terrible I...</td>\n",
       "      <td>negative</td>\n",
       "    </tr>\n",
       "    <tr>\n",
       "      <th>4</th>\n",
       "      <td>[ToZ] Clan Website offline http://www.theoutla...</td>\n",
       "      <td>negative</td>\n",
       "    </tr>\n",
       "  </tbody>\n",
       "</table>\n",
       "</div>"
      ],
      "text/plain": [
       "                                                text    target\n",
       "0  @switchfoot http://twitpic.com/2y1zl - Awww, t...  negative\n",
       "1  Got headache :/ MC stop making music, can't si...  negative\n",
       "2  lol still worked like crazy lol . lol Your lak...  negative\n",
       "3  netflix send S. Darko? I know going terrible I...  negative\n",
       "4  [ToZ] Clan Website offline http://www.theoutla...  negative"
      ]
     },
     "execution_count": 24,
     "metadata": {},
     "output_type": "execute_result"
    }
   ],
   "source": [
    "sentiment140.head()"
   ]
  },
  {
   "cell_type": "code",
   "execution_count": 25,
   "metadata": {},
   "outputs": [
    {
     "data": {
      "text/plain": [
       "positive    0.499958\n",
       "negative    0.499955\n",
       "neutral     0.000087\n",
       "Name: target, dtype: float64"
      ]
     },
     "execution_count": 25,
     "metadata": {},
     "output_type": "execute_result"
    }
   ],
   "source": [
    "sentiment140['target'].value_counts(normalize=True)"
   ]
  },
  {
   "cell_type": "code",
   "execution_count": 26,
   "metadata": {},
   "outputs": [],
   "source": [
    "good = sentiment140[(sentiment140.target == 'positive')]\n",
    "bad = sentiment140[(sentiment140.target == 'negative')]"
   ]
  },
  {
   "cell_type": "code",
   "execution_count": 27,
   "metadata": {},
   "outputs": [
    {
     "name": "stdout",
     "output_type": "stream",
     "text": [
      "                text    target\n",
      "count         800182    800182\n",
      "unique        791999         1\n",
      "top     good morning  positive\n",
      "freq             131    800182\n"
     ]
    }
   ],
   "source": [
    "print(good.describe())"
   ]
  },
  {
   "cell_type": "code",
   "execution_count": 28,
   "metadata": {},
   "outputs": [
    {
     "name": "stdout",
     "output_type": "stream",
     "text": [
      "                            text    target\n",
      "count                     800177    800177\n",
      "unique                    786612         1\n",
      "top     isPlayer Has Died! Sorry  negative\n",
      "freq                         210    800177\n"
     ]
    }
   ],
   "source": [
    "print(bad.describe())"
   ]
  },
  {
   "cell_type": "code",
   "execution_count": 29,
   "metadata": {},
   "outputs": [
    {
     "name": "stdout",
     "output_type": "stream",
     "text": [
      "[('good', 62861), ('love', 60870), ('go', 59310), ('day', 55817), ('thank', 51085), ('it', 50859), ('get', 49210), ('http', 47298), ('quot', 47000), ('you', 45390)]\n"
     ]
    }
   ],
   "source": [
    "analyzer = CountVectorizer().build_analyzer()\n",
    "ps = PorterStemmer() \n",
    "\n",
    "def stemmed_words(doc):\n",
    "    return (ps.stem(w) for w in analyzer(doc))\n",
    "\n",
    "vectorizer = CountVectorizer(analyzer=stemmed_words, stop_words='english')\n",
    "\n",
    "data= good.iloc[:,0].ravel()\n",
    "transformed_data =vectorizer.fit_transform(data)\n",
    "vocab= {a: b for a, b in zip(vectorizer.get_feature_names(), np.ravel(transformed_data.sum(axis=0)))}\n",
    "\n",
    "print(sorted(vocab.items(), key=lambda x: x[1], reverse=True)[:10])"
   ]
  },
  {
   "cell_type": "code",
   "execution_count": 30,
   "metadata": {},
   "outputs": [
    {
     "name": "stdout",
     "output_type": "stream",
     "text": [
      "[('go', 79300), ('get', 61516), ('work', 59033), ('day', 50489), ('it', 48261), ('miss', 47577), ('like', 43264), ('want', 40275), ('today', 38370), ('feel', 36921)]\n"
     ]
    }
   ],
   "source": [
    "analyzer = CountVectorizer().build_analyzer()\n",
    "ps = PorterStemmer() \n",
    "\n",
    "def stemmed_words(doc):\n",
    "    return (ps.stem(w) for w in analyzer(doc))\n",
    "\n",
    "vectorizer = CountVectorizer(analyzer=stemmed_words, stop_words='english')\n",
    "\n",
    "data= bad.iloc[:,0].ravel()\n",
    "transformed_data =vectorizer.fit_transform(data)\n",
    "vocab= {a: b for a, b in zip(vectorizer.get_feature_names(), np.ravel(transformed_data.sum(axis=0)))}\n",
    "\n",
    "print(sorted(vocab.items(), key=lambda x: x[1], reverse=True)[:10])"
   ]
  },
  {
   "cell_type": "markdown",
   "metadata": {},
   "source": [
    "## ClimateChange Analysis"
   ]
  },
  {
   "cell_type": "code",
   "execution_count": 6,
   "metadata": {},
   "outputs": [
    {
     "data": {
      "text/plain": [
       "(6027, 3)"
      ]
     },
     "execution_count": 6,
     "metadata": {},
     "output_type": "execute_result"
    }
   ],
   "source": [
    "climatechange.shape"
   ]
  },
  {
   "cell_type": "code",
   "execution_count": 7,
   "metadata": {},
   "outputs": [
    {
     "data": {
      "text/plain": [
       "Index(['text', 'confidence', 'target'], dtype='object')"
      ]
     },
     "execution_count": 7,
     "metadata": {},
     "output_type": "execute_result"
    }
   ],
   "source": [
    "climatechange.columns"
   ]
  },
  {
   "cell_type": "code",
   "execution_count": 8,
   "metadata": {},
   "outputs": [
    {
     "data": {
      "text/html": [
       "<div>\n",
       "<style scoped>\n",
       "    .dataframe tbody tr th:only-of-type {\n",
       "        vertical-align: middle;\n",
       "    }\n",
       "\n",
       "    .dataframe tbody tr th {\n",
       "        vertical-align: top;\n",
       "    }\n",
       "\n",
       "    .dataframe thead th {\n",
       "        text-align: right;\n",
       "    }\n",
       "</style>\n",
       "<table border=\"1\" class=\"dataframe\">\n",
       "  <thead>\n",
       "    <tr style=\"text-align: right;\">\n",
       "      <th></th>\n",
       "      <th>text</th>\n",
       "      <th>confidence</th>\n",
       "      <th>target</th>\n",
       "    </tr>\n",
       "  </thead>\n",
       "  <tbody>\n",
       "    <tr>\n",
       "      <th>0</th>\n",
       "      <td>Global warming report urges governments to act...</td>\n",
       "      <td>1.0000</td>\n",
       "      <td>Yes</td>\n",
       "    </tr>\n",
       "    <tr>\n",
       "      <th>1</th>\n",
       "      <td>Fighting poverty and global warming in Africa ...</td>\n",
       "      <td>1.0000</td>\n",
       "      <td>Yes</td>\n",
       "    </tr>\n",
       "    <tr>\n",
       "      <th>2</th>\n",
       "      <td>Carbon offsets: How a Vatican forest failed to...</td>\n",
       "      <td>0.8786</td>\n",
       "      <td>Yes</td>\n",
       "    </tr>\n",
       "    <tr>\n",
       "      <th>3</th>\n",
       "      <td>Carbon offsets: How a Vatican forest failed to...</td>\n",
       "      <td>1.0000</td>\n",
       "      <td>Yes</td>\n",
       "    </tr>\n",
       "    <tr>\n",
       "      <th>4</th>\n",
       "      <td>URUGUAY: Tools Needed for Those Most Vulnerabl...</td>\n",
       "      <td>0.8087</td>\n",
       "      <td>Yes</td>\n",
       "    </tr>\n",
       "  </tbody>\n",
       "</table>\n",
       "</div>"
      ],
      "text/plain": [
       "                                                text  confidence target\n",
       "0  Global warming report urges governments to act...      1.0000    Yes\n",
       "1  Fighting poverty and global warming in Africa ...      1.0000    Yes\n",
       "2  Carbon offsets: How a Vatican forest failed to...      0.8786    Yes\n",
       "3  Carbon offsets: How a Vatican forest failed to...      1.0000    Yes\n",
       "4  URUGUAY: Tools Needed for Those Most Vulnerabl...      0.8087    Yes"
      ]
     },
     "execution_count": 8,
     "metadata": {},
     "output_type": "execute_result"
    }
   ],
   "source": [
    "climatechange.head()"
   ]
  },
  {
   "cell_type": "code",
   "execution_count": 31,
   "metadata": {},
   "outputs": [],
   "source": [
    "# SRC -> https://stackoverflow.com/questions/29523254/python-remove-stop-words-from-pandas-dataframe\n",
    "text = climatechange.iloc[:, 0]\n",
    "\n",
    "climatechange.iloc[:, 0] = text.apply(lambda x: ' '.join([word for word in x.split() if word not in (stop_words)]))\n"
   ]
  },
  {
   "cell_type": "code",
   "execution_count": 32,
   "metadata": {},
   "outputs": [
    {
     "data": {
      "text/plain": [
       "Y      0.605207\n",
       "N      0.248627\n",
       "Yes    0.132314\n",
       "No     0.013852\n",
       "Name: target, dtype: float64"
      ]
     },
     "execution_count": 32,
     "metadata": {},
     "output_type": "execute_result"
    }
   ],
   "source": [
    "climatechange['target'].value_counts(normalize=True)"
   ]
  },
  {
   "cell_type": "code",
   "execution_count": 33,
   "metadata": {},
   "outputs": [],
   "source": [
    "exist = climatechange[(climatechange.target == 'Y') | (climatechange.target == 'Yes')]\n",
    "not_exist = climatechange[(climatechange.target == 'N') | (climatechange.target == 'No')]\n"
   ]
  },
  {
   "cell_type": "code",
   "execution_count": 34,
   "metadata": {},
   "outputs": [
    {
     "name": "stdout",
     "output_type": "stream",
     "text": [
      "        confidence\n",
      "count  3088.000000\n",
      "mean      0.821351\n",
      "std       0.178079\n",
      "min       0.343400\n",
      "25%       0.662800\n",
      "50%       0.806050\n",
      "75%       1.000000\n",
      "max       1.000000\n"
     ]
    }
   ],
   "source": [
    "print(exist.describe())"
   ]
  },
  {
   "cell_type": "code",
   "execution_count": 35,
   "metadata": {},
   "outputs": [
    {
     "name": "stdout",
     "output_type": "stream",
     "text": [
      "        confidence\n",
      "count  1099.000000\n",
      "mean      0.762216\n",
      "std       0.190782\n",
      "min       0.345100\n",
      "25%       0.650100\n",
      "50%       0.688000\n",
      "75%       1.000000\n",
      "max       1.000000\n"
     ]
    }
   ],
   "source": [
    "print(not_exist.describe())"
   ]
  },
  {
   "cell_type": "code",
   "execution_count": 36,
   "metadata": {},
   "outputs": [
    {
     "name": "stdout",
     "output_type": "stream",
     "text": [
      "[('http', 2101), ('climat', 2015), ('chang', 1902), ('global', 1561), ('warm', 1506), ('ly', 1294), ('bit', 1184), ('link', 523), ('rt', 522), ('com', 328)]\n"
     ]
    }
   ],
   "source": [
    "analyzer = CountVectorizer().build_analyzer()\n",
    "ps = PorterStemmer() \n",
    "\n",
    "def stemmed_words(doc):\n",
    "    return (ps.stem(w) for w in analyzer(doc))\n",
    "\n",
    "vectorizer = CountVectorizer(analyzer=stemmed_words, stop_words='english')\n",
    "\n",
    "data= exist.iloc[:,0].ravel()\n",
    "transformed_data =vectorizer.fit_transform(data)\n",
    "vocab= {a: b for a, b in zip(vectorizer.get_feature_names(), np.ravel(transformed_data.sum(axis=0)))}\n",
    "\n",
    "print(sorted(vocab.items(), key=lambda x: x[1], reverse=True)[:10])"
   ]
  },
  {
   "cell_type": "code",
   "execution_count": 37,
   "metadata": {},
   "outputs": [
    {
     "name": "stdout",
     "output_type": "stream",
     "text": [
      "[('global', 913), ('warm', 906), ('http', 602), ('climat', 368), ('ly', 354), ('bit', 325), ('chang', 323), ('rt', 229), ('snow', 155), ('the', 132)]\n"
     ]
    }
   ],
   "source": [
    "analyzer = CountVectorizer().build_analyzer()\n",
    "ps = PorterStemmer() \n",
    "\n",
    "def stemmed_words(doc):\n",
    "    return (ps.stem(w) for w in analyzer(doc))\n",
    "\n",
    "vectorizer = CountVectorizer(analyzer=stemmed_words, stop_words='english')\n",
    "\n",
    "data= not_exist.iloc[:,0].ravel()\n",
    "transformed_data =vectorizer.fit_transform(data)\n",
    "vocab= {a: b for a, b in zip(vectorizer.get_feature_names(), np.ravel(transformed_data.sum(axis=0)))}\n",
    "\n",
    "print(sorted(vocab.items(), key=lambda x: x[1], reverse=True)[:10])"
   ]
  },
  {
   "cell_type": "markdown",
   "metadata": {},
   "source": [
    "## MovieReview Analysis"
   ]
  },
  {
   "cell_type": "code",
   "execution_count": 14,
   "metadata": {},
   "outputs": [
    {
     "data": {
      "text/plain": [
       "(50000, 2)"
      ]
     },
     "execution_count": 14,
     "metadata": {},
     "output_type": "execute_result"
    }
   ],
   "source": [
    "moviereview.shape"
   ]
  },
  {
   "cell_type": "code",
   "execution_count": 15,
   "metadata": {},
   "outputs": [
    {
     "data": {
      "text/html": [
       "<div>\n",
       "<style scoped>\n",
       "    .dataframe tbody tr th:only-of-type {\n",
       "        vertical-align: middle;\n",
       "    }\n",
       "\n",
       "    .dataframe tbody tr th {\n",
       "        vertical-align: top;\n",
       "    }\n",
       "\n",
       "    .dataframe thead th {\n",
       "        text-align: right;\n",
       "    }\n",
       "</style>\n",
       "<table border=\"1\" class=\"dataframe\">\n",
       "  <thead>\n",
       "    <tr style=\"text-align: right;\">\n",
       "      <th></th>\n",
       "      <th>text</th>\n",
       "      <th>target</th>\n",
       "    </tr>\n",
       "  </thead>\n",
       "  <tbody>\n",
       "    <tr>\n",
       "      <th>0</th>\n",
       "      <td>Story of a man who has unnatural feelings for ...</td>\n",
       "      <td>negative</td>\n",
       "    </tr>\n",
       "    <tr>\n",
       "      <th>1</th>\n",
       "      <td>Airport '77 starts as a brand new luxury 747 p...</td>\n",
       "      <td>negative</td>\n",
       "    </tr>\n",
       "    <tr>\n",
       "      <th>2</th>\n",
       "      <td>This film lacked something I couldn't put my f...</td>\n",
       "      <td>negative</td>\n",
       "    </tr>\n",
       "    <tr>\n",
       "      <th>3</th>\n",
       "      <td>Sorry everyone,,, I know this is supposed to b...</td>\n",
       "      <td>negative</td>\n",
       "    </tr>\n",
       "    <tr>\n",
       "      <th>4</th>\n",
       "      <td>When I was little my parents took me along to ...</td>\n",
       "      <td>negative</td>\n",
       "    </tr>\n",
       "  </tbody>\n",
       "</table>\n",
       "</div>"
      ],
      "text/plain": [
       "                                                text    target\n",
       "0  Story of a man who has unnatural feelings for ...  negative\n",
       "1  Airport '77 starts as a brand new luxury 747 p...  negative\n",
       "2  This film lacked something I couldn't put my f...  negative\n",
       "3  Sorry everyone,,, I know this is supposed to b...  negative\n",
       "4  When I was little my parents took me along to ...  negative"
      ]
     },
     "execution_count": 15,
     "metadata": {},
     "output_type": "execute_result"
    }
   ],
   "source": [
    "moviereview.head()"
   ]
  },
  {
   "cell_type": "code",
   "execution_count": 38,
   "metadata": {},
   "outputs": [],
   "source": [
    "# SRC -> https://stackoverflow.com/questions/29523254/python-remove-stop-words-from-pandas-dataframe\n",
    "text = moviereview.iloc[:, 0]\n",
    "\n",
    "moviereview.iloc[:, 0] = text.apply(lambda x: ' '.join([word for word in x.split() if word not in (stop_words)]))\n"
   ]
  },
  {
   "cell_type": "code",
   "execution_count": 39,
   "metadata": {},
   "outputs": [
    {
     "data": {
      "text/plain": [
       "positive    0.5\n",
       "negative    0.5\n",
       "Name: target, dtype: float64"
      ]
     },
     "execution_count": 39,
     "metadata": {},
     "output_type": "execute_result"
    }
   ],
   "source": [
    "moviereview['target'].value_counts(normalize=True)"
   ]
  },
  {
   "cell_type": "code",
   "execution_count": 40,
   "metadata": {},
   "outputs": [],
   "source": [
    "good = moviereview[(moviereview.target == 'positive')]\n",
    "bad = moviereview[(moviereview.target == 'negative')]\n"
   ]
  },
  {
   "cell_type": "code",
   "execution_count": 41,
   "metadata": {},
   "outputs": [
    {
     "name": "stdout",
     "output_type": "stream",
     "text": [
      "                                                     text    target\n",
      "count                                               25000     25000\n",
      "unique                                              24883         1\n",
      "top     Loved today's show!!! It variety solely cookin...  positive\n",
      "freq                                                    5     25000\n"
     ]
    }
   ],
   "source": [
    "print(good.describe())"
   ]
  },
  {
   "cell_type": "code",
   "execution_count": 42,
   "metadata": {},
   "outputs": [
    {
     "name": "stdout",
     "output_type": "stream",
     "text": [
      "                                                     text    target\n",
      "count                                               25000     25000\n",
      "unique                                              24698         1\n",
      "top     Nickelodeon gone toilet. They kids saying thin...  negative\n",
      "freq                                                    3     25000\n"
     ]
    }
   ],
   "source": [
    "print(bad.describe())"
   ]
  },
  {
   "cell_type": "code",
   "execution_count": 43,
   "metadata": {},
   "outputs": [
    {
     "name": "stdout",
     "output_type": "stream",
     "text": [
      "[('br', 97954), ('film', 50897), ('the', 49355), ('movi', 44851), ('it', 32281), ('one', 28290), ('like', 20562), ('thi', 18049), ('time', 16631), ('good', 15262)]\n"
     ]
    }
   ],
   "source": [
    "from sklearn.feature_extraction.text import CountVectorizer\n",
    "from nltk.stem import PorterStemmer \n",
    "\n",
    "analyzer = CountVectorizer().build_analyzer()\n",
    "ps = PorterStemmer() \n",
    "\n",
    "def stemmed_words(doc):\n",
    "    return (ps.stem(w) for w in analyzer(doc))\n",
    "\n",
    "vectorizer = CountVectorizer(analyzer=stemmed_words, stop_words='english')\n",
    "\n",
    "data= good.iloc[:,0].ravel()\n",
    "transformed_data =vectorizer.fit_transform(data)\n",
    "vocab= {a: b for a, b in zip(vectorizer.get_feature_names(), np.ravel(transformed_data.sum(axis=0)))}\n",
    "\n",
    "print (sorted(vocab.items(), key=lambda x: x[1], reverse=True)[:10])"
   ]
  },
  {
   "cell_type": "code",
   "execution_count": 44,
   "metadata": {},
   "outputs": [
    {
     "name": "stdout",
     "output_type": "stream",
     "text": [
      "[('br', 103997), ('movi', 58431), ('the', 49904), ('film', 44990), ('it', 31388), ('one', 27163), ('like', 24648), ('thi', 19255), ('make', 16221), ('even', 15440)]\n"
     ]
    }
   ],
   "source": [
    "from sklearn.feature_extraction.text import CountVectorizer\n",
    "from nltk.stem import PorterStemmer \n",
    "\n",
    "analyzer = CountVectorizer().build_analyzer()\n",
    "ps = PorterStemmer() \n",
    "\n",
    "def stemmed_words(doc):\n",
    "    return (ps.stem(w) for w in analyzer(doc))\n",
    "\n",
    "vectorizer = CountVectorizer(analyzer=stemmed_words, stop_words='english')\n",
    "\n",
    "data= bad.iloc[:,0].ravel()\n",
    "transformed_data =vectorizer.fit_transform(data)\n",
    "vocab= {a: b for a, b in zip(vectorizer.get_feature_names(), np.ravel(transformed_data.sum(axis=0)))}\n",
    "\n",
    "print (sorted(vocab.items(), key=lambda x: x[1], reverse=True)[:10])"
   ]
  },
  {
   "cell_type": "markdown",
   "metadata": {},
   "source": [
    "## Define sets"
   ]
  },
  {
   "cell_type": "code",
   "execution_count": 45,
   "metadata": {},
   "outputs": [],
   "source": [
    "data =  pd.concat([sentiment140, moviereview], ignore_index=True)\n",
    "\n",
    "X_train = data.iloc[:, 0]\n",
    "y_train = data.iloc[:, 1]\n",
    "\n",
    "climatechange_transf = climatechange.dropna()\n",
    "\n",
    "X_test = climatechange_transf.iloc[:, 0]\n",
    "\n",
    "y_test = climatechange_transf.iloc[:, 2]\n",
    "y_test = y_test.apply({'N':'negative', 'Y':'positive', 'No': 'negative', 'Yes':'positive'}.get)\n"
   ]
  },
  {
   "cell_type": "code",
   "execution_count": 46,
   "metadata": {},
   "outputs": [],
   "source": [
    "from sklearn.svm import LinearSVC\n",
    "from sklearn.pipeline import Pipeline\n",
    "from sklearn.feature_extraction.text import TfidfTransformer\n",
    "from sklearn.feature_extraction.text import CountVectorizer\n",
    "from sklearn.metrics import accuracy_score\n",
    "from nltk.stem import PorterStemmer \n",
    "\n",
    "analyzer = CountVectorizer().build_analyzer()\n",
    "ps = PorterStemmer() \n",
    "\n",
    "# FROM - https://stackoverflow.com/questions/36182502/add-stemming-support-to-countvectorizer-sklearn\n",
    "def stemmed_words(doc):\n",
    "    return (ps.stem(w) for w in analyzer(doc))"
   ]
  },
  {
   "cell_type": "code",
   "execution_count": 47,
   "metadata": {},
   "outputs": [
    {
     "name": "stdout",
     "output_type": "stream",
     "text": [
      "                                                      text    target\n",
      "939957                                       sunny day yet  positive\n",
      "43064        fanna head bac brockett cant wait mistied yal  negative\n",
      "1014256  @sunnybrooke1207 Thanks concern, I'm great! la...  positive\n",
      "1001639                                           showerd!  positive\n",
      "830805   @Natashaax wait got black dress! know wont car...  positive\n",
      "...                                                    ...       ...\n",
      "968789   Yayyy! Got phone back! They kept SIM card &amp...  positive\n",
      "1115662         @MyCatIsOnFire suppose I'm poor uneducated  positive\n",
      "832707   @maxchangmin JaeJoong, Please read this!! http...  positive\n",
      "754637   @Ramiii Rami! u guys schedule Nile FM's new sh...  negative\n",
      "1332558  Bom dia The Colliding Spiral Galaxies Arp 274 ...  positive\n",
      "\n",
      "[10000 rows x 2 columns]\n"
     ]
    }
   ],
   "source": [
    "data_small = data.sample(10000)\n",
    "print(data_small)"
   ]
  },
  {
   "cell_type": "code",
   "execution_count": 48,
   "metadata": {},
   "outputs": [
    {
     "name": "stdout",
     "output_type": "stream",
     "text": [
      "0.6560783377119656\n"
     ]
    }
   ],
   "source": [
    "svc = Pipeline([('vect', CountVectorizer(analyzer=stemmed_words)),\n",
    "        ('tfidf', TfidfTransformer()),\n",
    "        ('clf', LinearSVC(C=0.1)),\n",
    "        ])\n",
    "\n",
    "svc.fit(data_small.iloc[:,0],data_small.iloc[:,1])\n",
    "\n",
    "\n",
    "y_pred = svc.predict(X_test)\n",
    "\n",
    "print(accuracy_score(y_test, y_pred))"
   ]
  },
  {
   "cell_type": "code",
   "execution_count": null,
   "metadata": {},
   "outputs": [],
   "source": []
  }
 ],
 "metadata": {
  "kernelspec": {
   "display_name": "Python 3",
   "language": "python",
   "name": "python3"
  },
  "language_info": {
   "codemirror_mode": {
    "name": "ipython",
    "version": 3
   },
   "file_extension": ".py",
   "mimetype": "text/x-python",
   "name": "python",
   "nbconvert_exporter": "python",
   "pygments_lexer": "ipython3",
   "version": "3.7.3"
  }
 },
 "nbformat": 4,
 "nbformat_minor": 2
}
