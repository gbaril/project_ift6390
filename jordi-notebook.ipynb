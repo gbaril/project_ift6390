{
 "cells": [
  {
   "cell_type": "markdown",
   "metadata": {},
   "source": [
    "# IFT6390 Project\n",
    "### Jordi"
   ]
  },
  {
   "cell_type": "markdown",
   "metadata": {},
   "source": [
    "## Import data and libraries"
   ]
  },
  {
   "cell_type": "code",
   "execution_count": 1,
   "metadata": {},
   "outputs": [],
   "source": [
    "import pandas as pd\n",
    "import numpy as np\n",
    "from nltk.corpus import stopwords\n",
    "from sklearn.feature_extraction.text import CountVectorizer\n",
    "from nltk.stem import PorterStemmer \n",
    "import re\n",
    "\n",
    "stop_words = set(stopwords.words('english')) \n",
    "\n",
    "sentiment140=pd.read_pickle('data/s140_clean_28nov.pkl')\n",
    "moviereview=pd.read_pickle('data/mr_clean_28nov.pkl')\n",
    "climatechange=pd.read_pickle('data/cc_clean_28nov.pkl')"
   ]
  },
  {
   "cell_type": "markdown",
   "metadata": {},
   "source": [
    "## Sentiment140 Analysis"
   ]
  },
  {
   "cell_type": "code",
   "execution_count": 2,
   "metadata": {},
   "outputs": [],
   "source": [
    "# SRC -> https://stackoverflow.com/questions/29523254/python-remove-stop-words-from-pandas-dataframe\n",
    "text = sentiment140.iloc[:, 0]\n",
    "\n",
    "# SRC -> https://stackoverflow.com/questions/51994254/removing-url-from-a-column-in-pandas-dataframe\n",
    "text = text.str.replace('http\\S+|www.\\S+', '[link]', case=False)\n",
    "\n",
    "sentiment140.iloc[:, 0] = text.apply(lambda x: ' '.join([word for word in x.split() if word not in (stop_words)]))\n"
   ]
  },
  {
   "cell_type": "code",
   "execution_count": 3,
   "metadata": {},
   "outputs": [],
   "source": [
    "good = sentiment140[(sentiment140.target == 'positive')]\n",
    "bad = sentiment140[(sentiment140.target == 'negative')]"
   ]
  },
  {
   "cell_type": "code",
   "execution_count": 7,
   "metadata": {},
   "outputs": [
    {
     "name": "stdout",
     "output_type": "stream",
     "text": [
      "[('good', 62840), ('love', 60849), ('go', 59291), ('link', 57941), ('day', 55810), ('thank', 50836), ('it', 50799), ('get', 49201), ('quot', 46959), ('you', 45372)]\n"
     ]
    }
   ],
   "source": [
    "analyzer = CountVectorizer().build_analyzer()\n",
    "ps = PorterStemmer() \n",
    "\n",
    "def stemmed_words(doc):\n",
    "    return (ps.stem(w) for w in analyzer(doc))\n",
    "\n",
    "vectorizer = CountVectorizer(analyzer=stemmed_words, stop_words='english')\n",
    "\n",
    "data= good.iloc[:,0].ravel()\n",
    "transformed_data =vectorizer.fit_transform(data)\n",
    "vocab= {a: b for a, b in zip(vectorizer.get_feature_names(), np.ravel(transformed_data.sum(axis=0)))}\n",
    "\n",
    "print(sorted(vocab.items(), key=lambda x: x[1], reverse=True)[:10])"
   ]
  },
  {
   "cell_type": "code",
   "execution_count": 8,
   "metadata": {},
   "outputs": [
    {
     "name": "stdout",
     "output_type": "stream",
     "text": [
      "[('go', 79289), ('get', 61510), ('work', 59029), ('day', 50487), ('it', 48231), ('miss', 47571), ('like', 43261), ('want', 40272), ('today', 38363), ('feel', 36919)]\n"
     ]
    }
   ],
   "source": [
    "analyzer = CountVectorizer().build_analyzer()\n",
    "ps = PorterStemmer() \n",
    "\n",
    "def stemmed_words(doc):\n",
    "    return (ps.stem(w) for w in analyzer(doc))\n",
    "\n",
    "vectorizer = CountVectorizer(analyzer=stemmed_words, stop_words='english')\n",
    "\n",
    "data= bad.iloc[:,0].ravel()\n",
    "transformed_data =vectorizer.fit_transform(data)\n",
    "vocab= {a: b for a, b in zip(vectorizer.get_feature_names(), np.ravel(transformed_data.sum(axis=0)))}\n",
    "\n",
    "print(sorted(vocab.items(), key=lambda x: x[1], reverse=True)[:10])"
   ]
  },
  {
   "cell_type": "markdown",
   "metadata": {},
   "source": [
    "## ClimateChange Analysis"
   ]
  },
  {
   "cell_type": "code",
   "execution_count": 4,
   "metadata": {},
   "outputs": [],
   "source": [
    "# SRC -> https://stackoverflow.com/questions/29523254/python-remove-stop-words-from-pandas-dataframe\n",
    "text = climatechange.iloc[:, 0]\n",
    "\n",
    "# SRC -> https://stackoverflow.com/questions/51994254/removing-url-from-a-column-in-pandas-dataframe\n",
    "text = text.str.replace('http\\S+|www.\\S+', '[link]', case=False)\n",
    "\n",
    "climatechange.iloc[:, 0] = text.apply(lambda x: ' '.join([word for word in x.split() if word not in (stop_words)]))\n"
   ]
  },
  {
   "cell_type": "code",
   "execution_count": 5,
   "metadata": {},
   "outputs": [],
   "source": [
    "exist = climatechange[(climatechange.target == 'positive')]\n",
    "not_exist = climatechange[(climatechange.target == 'negative')]\n"
   ]
  },
  {
   "cell_type": "code",
   "execution_count": 18,
   "metadata": {},
   "outputs": [
    {
     "name": "stdout",
     "output_type": "stream",
     "text": [
      "[('link', 2640), ('climat', 2001), ('chang', 1896), ('global', 1556), ('warm', 1503), ('rt', 522), ('the', 317), ('via', 281), ('new', 176), ('news', 147)]\n"
     ]
    }
   ],
   "source": [
    "analyzer = CountVectorizer().build_analyzer()\n",
    "ps = PorterStemmer() \n",
    "\n",
    "def stemmed_words(doc):\n",
    "    return (ps.stem(w) for w in analyzer(doc))\n",
    "\n",
    "vectorizer = CountVectorizer(analyzer=stemmed_words, stop_words='english')\n",
    "\n",
    "data= exist.iloc[:,0].ravel()\n",
    "transformed_data =vectorizer.fit_transform(data)\n",
    "vocab= {a: b for a, b in zip(vectorizer.get_feature_names(), np.ravel(transformed_data.sum(axis=0)))}\n",
    "\n",
    "print(sorted(vocab.items(), key=lambda x: x[1], reverse=True)[:10])"
   ]
  },
  {
   "cell_type": "code",
   "execution_count": 19,
   "metadata": {},
   "outputs": [
    {
     "name": "stdout",
     "output_type": "stream",
     "text": [
      "[('global', 911), ('warm', 904), ('link', 638), ('climat', 367), ('chang', 322), ('rt', 229), ('snow', 155), ('the', 131), ('tcot', 114), ('gore', 99)]\n"
     ]
    }
   ],
   "source": [
    "analyzer = CountVectorizer().build_analyzer()\n",
    "ps = PorterStemmer() \n",
    "\n",
    "def stemmed_words(doc):\n",
    "    return (ps.stem(w) for w in analyzer(doc))\n",
    "\n",
    "vectorizer = CountVectorizer(analyzer=stemmed_words, stop_words='english')\n",
    "\n",
    "data= not_exist.iloc[:,0].ravel()\n",
    "transformed_data =vectorizer.fit_transform(data)\n",
    "vocab= {a: b for a, b in zip(vectorizer.get_feature_names(), np.ravel(transformed_data.sum(axis=0)))}\n",
    "\n",
    "print(sorted(vocab.items(), key=lambda x: x[1], reverse=True)[:10])"
   ]
  },
  {
   "cell_type": "markdown",
   "metadata": {},
   "source": [
    "## MovieReview Analysis"
   ]
  },
  {
   "cell_type": "code",
   "execution_count": 6,
   "metadata": {},
   "outputs": [],
   "source": [
    "# SRC -> https://stackoverflow.com/questions/29523254/python-remove-stop-words-from-pandas-dataframe\n",
    "text = moviereview.iloc[:, 0]\n",
    "\n",
    "text = text.str.replace('<br />', ' ', case=False)\n",
    "\n",
    "# SRC -> https://stackoverflow.com/questions/51994254/removing-url-from-a-column-in-pandas-dataframe\n",
    "text = text.str.replace('http\\S+|www.\\S+', '[link]', case=False)\n",
    "\n",
    "moviereview.iloc[:, 0] = text.apply(lambda x: ' '.join([word for word in x.split() if word not in (stop_words)]))\n"
   ]
  },
  {
   "cell_type": "code",
   "execution_count": 7,
   "metadata": {},
   "outputs": [],
   "source": [
    "good = moviereview[(moviereview.target == 'positive')]\n",
    "bad = moviereview[(moviereview.target == 'negative')]\n"
   ]
  },
  {
   "cell_type": "code",
   "execution_count": 22,
   "metadata": {},
   "outputs": [
    {
     "name": "stdout",
     "output_type": "stream",
     "text": [
      "[('film', 50894), ('the', 49203), ('movi', 44850), ('it', 32237), ('one', 28290), ('like', 20562), ('thi', 18000), ('time', 16630), ('good', 15262), ('see', 15141)]\n"
     ]
    }
   ],
   "source": [
    "from sklearn.feature_extraction.text import CountVectorizer\n",
    "from nltk.stem import PorterStemmer \n",
    "\n",
    "analyzer = CountVectorizer().build_analyzer()\n",
    "ps = PorterStemmer() \n",
    "\n",
    "def stemmed_words(doc):\n",
    "    return (ps.stem(w) for w in analyzer(doc))\n",
    "\n",
    "vectorizer = CountVectorizer(analyzer=stemmed_words, stop_words='english')\n",
    "\n",
    "data= good.iloc[:,0].ravel()\n",
    "transformed_data =vectorizer.fit_transform(data)\n",
    "vocab= {a: b for a, b in zip(vectorizer.get_feature_names(), np.ravel(transformed_data.sum(axis=0)))}\n",
    "\n",
    "print (sorted(vocab.items(), key=lambda x: x[1], reverse=True)[:10])"
   ]
  },
  {
   "cell_type": "code",
   "execution_count": 23,
   "metadata": {},
   "outputs": [
    {
     "name": "stdout",
     "output_type": "stream",
     "text": [
      "[('movi', 58431), ('the', 49707), ('film', 44988), ('it', 31346), ('one', 27163), ('like', 24648), ('thi', 19196), ('make', 16221), ('even', 15440), ('time', 15335)]\n"
     ]
    }
   ],
   "source": [
    "from sklearn.feature_extraction.text import CountVectorizer\n",
    "from nltk.stem import PorterStemmer \n",
    "\n",
    "analyzer = CountVectorizer().build_analyzer()\n",
    "ps = PorterStemmer() \n",
    "\n",
    "def stemmed_words(doc):\n",
    "    return (ps.stem(w) for w in analyzer(doc))\n",
    "\n",
    "vectorizer = CountVectorizer(analyzer=stemmed_words, stop_words='english')\n",
    "\n",
    "data= bad.iloc[:,0].ravel()\n",
    "transformed_data =vectorizer.fit_transform(data)\n",
    "vocab= {a: b for a, b in zip(vectorizer.get_feature_names(), np.ravel(transformed_data.sum(axis=0)))}\n",
    "\n",
    "print (sorted(vocab.items(), key=lambda x: x[1], reverse=True)[:10])"
   ]
  },
  {
   "cell_type": "markdown",
   "metadata": {},
   "source": [
    "## Define sets"
   ]
  },
  {
   "cell_type": "code",
   "execution_count": 42,
   "metadata": {},
   "outputs": [],
   "source": [
    "data =  pd.concat([sentiment140, moviereview], ignore_index=True)\n",
    "\n",
    "X_train = data.iloc[:, 0]\n",
    "y_train = data.iloc[:, 1]\n",
    "\n",
    "climatechange_transf = climatechange.dropna()\n",
    "\n",
    "X_test = climatechange_transf.iloc[:, 0]\n",
    "\n",
    "y_test = climatechange_transf.iloc[:, 2]\n"
   ]
  },
  {
   "cell_type": "code",
   "execution_count": 43,
   "metadata": {},
   "outputs": [],
   "source": [
    "good = data[(data.target == 'positive')]\n",
    "bad = data[(data.target == 'negative')]"
   ]
  },
  {
   "cell_type": "code",
   "execution_count": 44,
   "metadata": {},
   "outputs": [
    {
     "name": "stdout",
     "output_type": "stream",
     "text": [
      "[('it', 83036), ('good', 78102), ('love', 73315), ('the', 68713), ('go', 67629), ('get', 61894), ('like', 61134), ('day', 60250), ('link', 58305), ('one', 56599)]\n"
     ]
    }
   ],
   "source": [
    "analyzer = CountVectorizer().build_analyzer()\n",
    "ps = PorterStemmer() \n",
    "\n",
    "def stemmed_words(doc):\n",
    "    return (ps.stem(w) for w in analyzer(doc))\n",
    "\n",
    "vectorizer = CountVectorizer(analyzer=stemmed_words, stop_words='english')\n",
    "\n",
    "data= good.iloc[:,0].ravel()\n",
    "transformed_data =vectorizer.fit_transform(data)\n",
    "vocab= {a: b for a, b in zip(vectorizer.get_feature_names(), np.ravel(transformed_data.sum(axis=0)))}\n",
    "\n",
    "print(sorted(vocab.items(), key=lambda x: x[1], reverse=True)[:10])"
   ]
  },
  {
   "cell_type": "code",
   "execution_count": 46,
   "metadata": {},
   "outputs": [
    {
     "name": "stdout",
     "output_type": "stream",
     "text": [
      "[(('can', 't', 'wait'), 7781), (('i', 'can', 't'), 4632), (('i', 'm', 'going'), 3805), (('i', 'think', 'i'), 2948), (('i', 'm', 'sure'), 2629), (('i', 'm', 'glad'), 1849), (('m', 'gon', 'na'), 1842), (('i', 'm', 'gon'), 1841), (('i', 'know', 'i'), 1625), (('i', 've', 'seen'), 1556)]\n"
     ]
    }
   ],
   "source": [
    "from nltk.probability import FreqDist\n",
    "\n",
    "gram_good = ngrams(get_all_words(list(good.iloc[:, 0])), 3)\n",
    "freq_words_tri = FreqDist()\n",
    "for word in list(gram_good):\n",
    "    freq_words_tri[word] += 1\n",
    "\n",
    "print(freq_words_tri.most_common(10))"
   ]
  },
  {
   "cell_type": "code",
   "execution_count": 45,
   "metadata": {},
   "outputs": [
    {
     "name": "stdout",
     "output_type": "stream",
     "text": [
      "[('go', 89204), ('it', 79577), ('get', 76789), ('like', 67909), ('the', 66568), ('work', 65297), ('movi', 64364), ('one', 56201), ('day', 53894), ('miss', 49554)]\n"
     ]
    }
   ],
   "source": [
    "analyzer = CountVectorizer().build_analyzer()\n",
    "ps = PorterStemmer() \n",
    "\n",
    "def stemmed_words(doc):\n",
    "    return (ps.stem(w) for w in analyzer(doc))\n",
    "\n",
    "vectorizer = CountVectorizer(analyzer=stemmed_words, stop_words='english')\n",
    "\n",
    "data= bad.iloc[:,0].ravel()\n",
    "transformed_data =vectorizer.fit_transform(data)\n",
    "vocab= {a: b for a, b in zip(vectorizer.get_feature_names(), np.ravel(transformed_data.sum(axis=0)))}\n",
    "\n",
    "print(sorted(vocab.items(), key=lambda x: x[1], reverse=True)[:10])"
   ]
  },
  {
   "cell_type": "code",
   "execution_count": 49,
   "metadata": {},
   "outputs": [
    {
     "name": "stdout",
     "output_type": "stream",
     "text": [
      "[(('i', 'can', 't'), 13914), (('i', 'wish', 'i'), 4861), (('i', 'm', 'sorry'), 4691), (('i', 'wan', 'na'), 4654), (('i', 'm', 'going'), 4545), (('i', 'think', 'i'), 4395), (('wan', 'na', 'go'), 3459), (('wish', 'i', 'could'), 3355), (('can', 't', 'believe'), 2906), (('i', 'm', 'gon'), 2710)]\n"
     ]
    }
   ],
   "source": [
    "from nltk.probability import FreqDist\n",
    "\n",
    "gram_bad = ngrams(get_all_words(list(bad.iloc[:, 0])), 3)\n",
    "freq_words_tri = FreqDist()\n",
    "for word in list(gram_bad):\n",
    "    freq_words_tri[word] += 1\n",
    "\n",
    "print(freq_words_tri.most_common(10))"
   ]
  },
  {
   "cell_type": "markdown",
   "metadata": {},
   "source": [
    "## Small dataset"
   ]
  },
  {
   "cell_type": "code",
   "execution_count": 37,
   "metadata": {},
   "outputs": [],
   "source": [
    "data_small = data.sample(100000)"
   ]
  },
  {
   "cell_type": "code",
   "execution_count": 38,
   "metadata": {},
   "outputs": [],
   "source": [
    "from nltk.util import ngrams\n",
    "from nltk.tokenize import word_tokenize\n",
    "\n",
    "def get_all_words(corpus):\n",
    "    list_all_words = []\n",
    "    \n",
    "    for i in range(0, len(corpus)):\n",
    "        sentence = re.sub(\"[^A-Za-z]+\", \" \",  corpus[i])\n",
    "        list_all_words.extend(word_tokenize(sentence.lower()))\n",
    "    return list_all_words\n",
    "\n",
    "gram = ngrams(get_all_words(list(data_small.iloc[:, 0])), 3)"
   ]
  },
  {
   "cell_type": "code",
   "execution_count": 39,
   "metadata": {},
   "outputs": [
    {
     "name": "stdout",
     "output_type": "stream",
     "text": [
      "[(('i', 'can', 't'), 1125), (('can', 't', 'wait'), 578), (('i', 'm', 'going'), 516), (('i', 'think', 'i'), 437), (('i', 'wish', 'i'), 361), (('i', 'wan', 'na'), 356), (('i', 'm', 'sure'), 283), (('i', 'm', 'sorry'), 278), (('wish', 'i', 'could'), 261), (('i', 'know', 'i'), 260)]\n"
     ]
    }
   ],
   "source": [
    "from nltk.probability import FreqDist\n",
    "\n",
    "freq_words_tri = FreqDist()\n",
    "for word in list(gram):\n",
    "    freq_words_tri[word] += 1\n",
    "\n",
    "print(freq_words_tri.most_common(10))"
   ]
  },
  {
   "cell_type": "code",
   "execution_count": null,
   "metadata": {},
   "outputs": [],
   "source": [
    "svc = Pipeline([('vect', CountVectorizer(analyzer=stemmed_words)),\n",
    "        ('tfidf', TfidfTransformer()),\n",
    "        ('clf', LinearSVC(C=0.1, tol=0.1)),\n",
    "        ])\n",
    "\n",
    "svc.fit(data_small.iloc[:,0],data_small.iloc[:,1])\n",
    "\n",
    "\n",
    "y_pred = svc.predict(X_test)\n",
    "\n",
    "print(accuracy_score(y_test, y_pred))"
   ]
  },
  {
   "cell_type": "code",
   "execution_count": 58,
   "metadata": {},
   "outputs": [
    {
     "name": "stderr",
     "output_type": "stream",
     "text": [
      "/Users/jordisaleilles/miniconda3/lib/python3.7/site-packages/sklearn/model_selection/_split.py:657: Warning: The least populated class in y has only 1 members, which is too few. The minimum number of members in any class cannot be less than n_splits=5.\n",
      "  % (min_groups, self.n_splits)), Warning)\n",
      "/Users/jordisaleilles/miniconda3/lib/python3.7/site-packages/sklearn/svm/base.py:929: ConvergenceWarning: Liblinear failed to converge, increase the number of iterations.\n",
      "  \"the number of iterations.\", ConvergenceWarning)\n",
      "/Users/jordisaleilles/miniconda3/lib/python3.7/site-packages/sklearn/svm/base.py:929: ConvergenceWarning: Liblinear failed to converge, increase the number of iterations.\n",
      "  \"the number of iterations.\", ConvergenceWarning)\n",
      "/Users/jordisaleilles/miniconda3/lib/python3.7/site-packages/sklearn/svm/base.py:929: ConvergenceWarning: Liblinear failed to converge, increase the number of iterations.\n",
      "  \"the number of iterations.\", ConvergenceWarning)\n",
      "/Users/jordisaleilles/miniconda3/lib/python3.7/site-packages/sklearn/svm/base.py:929: ConvergenceWarning: Liblinear failed to converge, increase the number of iterations.\n",
      "  \"the number of iterations.\", ConvergenceWarning)\n",
      "/Users/jordisaleilles/miniconda3/lib/python3.7/site-packages/sklearn/svm/base.py:929: ConvergenceWarning: Liblinear failed to converge, increase the number of iterations.\n",
      "  \"the number of iterations.\", ConvergenceWarning)\n",
      "/Users/jordisaleilles/miniconda3/lib/python3.7/site-packages/sklearn/svm/base.py:929: ConvergenceWarning: Liblinear failed to converge, increase the number of iterations.\n",
      "  \"the number of iterations.\", ConvergenceWarning)\n",
      "/Users/jordisaleilles/miniconda3/lib/python3.7/site-packages/sklearn/svm/base.py:929: ConvergenceWarning: Liblinear failed to converge, increase the number of iterations.\n",
      "  \"the number of iterations.\", ConvergenceWarning)\n",
      "/Users/jordisaleilles/miniconda3/lib/python3.7/site-packages/sklearn/svm/base.py:929: ConvergenceWarning: Liblinear failed to converge, increase the number of iterations.\n",
      "  \"the number of iterations.\", ConvergenceWarning)\n",
      "/Users/jordisaleilles/miniconda3/lib/python3.7/site-packages/sklearn/svm/base.py:929: ConvergenceWarning: Liblinear failed to converge, increase the number of iterations.\n",
      "  \"the number of iterations.\", ConvergenceWarning)\n",
      "/Users/jordisaleilles/miniconda3/lib/python3.7/site-packages/sklearn/svm/base.py:929: ConvergenceWarning: Liblinear failed to converge, increase the number of iterations.\n",
      "  \"the number of iterations.\", ConvergenceWarning)\n",
      "/Users/jordisaleilles/miniconda3/lib/python3.7/site-packages/sklearn/svm/base.py:929: ConvergenceWarning: Liblinear failed to converge, increase the number of iterations.\n",
      "  \"the number of iterations.\", ConvergenceWarning)\n",
      "/Users/jordisaleilles/miniconda3/lib/python3.7/site-packages/sklearn/svm/base.py:929: ConvergenceWarning: Liblinear failed to converge, increase the number of iterations.\n",
      "  \"the number of iterations.\", ConvergenceWarning)\n",
      "/Users/jordisaleilles/miniconda3/lib/python3.7/site-packages/sklearn/svm/base.py:929: ConvergenceWarning: Liblinear failed to converge, increase the number of iterations.\n",
      "  \"the number of iterations.\", ConvergenceWarning)\n",
      "/Users/jordisaleilles/miniconda3/lib/python3.7/site-packages/sklearn/svm/base.py:929: ConvergenceWarning: Liblinear failed to converge, increase the number of iterations.\n",
      "  \"the number of iterations.\", ConvergenceWarning)\n",
      "/Users/jordisaleilles/miniconda3/lib/python3.7/site-packages/sklearn/svm/base.py:929: ConvergenceWarning: Liblinear failed to converge, increase the number of iterations.\n",
      "  \"the number of iterations.\", ConvergenceWarning)\n",
      "/Users/jordisaleilles/miniconda3/lib/python3.7/site-packages/sklearn/svm/base.py:929: ConvergenceWarning: Liblinear failed to converge, increase the number of iterations.\n",
      "  \"the number of iterations.\", ConvergenceWarning)\n",
      "/Users/jordisaleilles/miniconda3/lib/python3.7/site-packages/sklearn/svm/base.py:929: ConvergenceWarning: Liblinear failed to converge, increase the number of iterations.\n",
      "  \"the number of iterations.\", ConvergenceWarning)\n",
      "/Users/jordisaleilles/miniconda3/lib/python3.7/site-packages/sklearn/svm/base.py:929: ConvergenceWarning: Liblinear failed to converge, increase the number of iterations.\n",
      "  \"the number of iterations.\", ConvergenceWarning)\n",
      "/Users/jordisaleilles/miniconda3/lib/python3.7/site-packages/sklearn/svm/base.py:929: ConvergenceWarning: Liblinear failed to converge, increase the number of iterations.\n",
      "  \"the number of iterations.\", ConvergenceWarning)\n",
      "/Users/jordisaleilles/miniconda3/lib/python3.7/site-packages/sklearn/svm/base.py:929: ConvergenceWarning: Liblinear failed to converge, increase the number of iterations.\n",
      "  \"the number of iterations.\", ConvergenceWarning)\n",
      "/Users/jordisaleilles/miniconda3/lib/python3.7/site-packages/sklearn/svm/base.py:929: ConvergenceWarning: Liblinear failed to converge, increase the number of iterations.\n",
      "  \"the number of iterations.\", ConvergenceWarning)\n",
      "/Users/jordisaleilles/miniconda3/lib/python3.7/site-packages/sklearn/svm/base.py:929: ConvergenceWarning: Liblinear failed to converge, increase the number of iterations.\n",
      "  \"the number of iterations.\", ConvergenceWarning)\n",
      "/Users/jordisaleilles/miniconda3/lib/python3.7/site-packages/sklearn/svm/base.py:929: ConvergenceWarning: Liblinear failed to converge, increase the number of iterations.\n",
      "  \"the number of iterations.\", ConvergenceWarning)\n",
      "/Users/jordisaleilles/miniconda3/lib/python3.7/site-packages/sklearn/svm/base.py:929: ConvergenceWarning: Liblinear failed to converge, increase the number of iterations.\n",
      "  \"the number of iterations.\", ConvergenceWarning)\n",
      "/Users/jordisaleilles/miniconda3/lib/python3.7/site-packages/sklearn/svm/base.py:929: ConvergenceWarning: Liblinear failed to converge, increase the number of iterations.\n",
      "  \"the number of iterations.\", ConvergenceWarning)\n",
      "/Users/jordisaleilles/miniconda3/lib/python3.7/site-packages/sklearn/svm/base.py:929: ConvergenceWarning: Liblinear failed to converge, increase the number of iterations.\n",
      "  \"the number of iterations.\", ConvergenceWarning)\n",
      "/Users/jordisaleilles/miniconda3/lib/python3.7/site-packages/sklearn/svm/base.py:929: ConvergenceWarning: Liblinear failed to converge, increase the number of iterations.\n",
      "  \"the number of iterations.\", ConvergenceWarning)\n",
      "/Users/jordisaleilles/miniconda3/lib/python3.7/site-packages/sklearn/svm/base.py:929: ConvergenceWarning: Liblinear failed to converge, increase the number of iterations.\n",
      "  \"the number of iterations.\", ConvergenceWarning)\n",
      "/Users/jordisaleilles/miniconda3/lib/python3.7/site-packages/sklearn/svm/base.py:929: ConvergenceWarning: Liblinear failed to converge, increase the number of iterations.\n",
      "  \"the number of iterations.\", ConvergenceWarning)\n",
      "/Users/jordisaleilles/miniconda3/lib/python3.7/site-packages/sklearn/svm/base.py:929: ConvergenceWarning: Liblinear failed to converge, increase the number of iterations.\n",
      "  \"the number of iterations.\", ConvergenceWarning)\n",
      "/Users/jordisaleilles/miniconda3/lib/python3.7/site-packages/sklearn/svm/base.py:929: ConvergenceWarning: Liblinear failed to converge, increase the number of iterations.\n",
      "  \"the number of iterations.\", ConvergenceWarning)\n",
      "/Users/jordisaleilles/miniconda3/lib/python3.7/site-packages/sklearn/svm/base.py:929: ConvergenceWarning: Liblinear failed to converge, increase the number of iterations.\n",
      "  \"the number of iterations.\", ConvergenceWarning)\n",
      "/Users/jordisaleilles/miniconda3/lib/python3.7/site-packages/sklearn/svm/base.py:929: ConvergenceWarning: Liblinear failed to converge, increase the number of iterations.\n",
      "  \"the number of iterations.\", ConvergenceWarning)\n",
      "/Users/jordisaleilles/miniconda3/lib/python3.7/site-packages/sklearn/svm/base.py:929: ConvergenceWarning: Liblinear failed to converge, increase the number of iterations.\n",
      "  \"the number of iterations.\", ConvergenceWarning)\n",
      "/Users/jordisaleilles/miniconda3/lib/python3.7/site-packages/sklearn/svm/base.py:929: ConvergenceWarning: Liblinear failed to converge, increase the number of iterations.\n",
      "  \"the number of iterations.\", ConvergenceWarning)\n",
      "/Users/jordisaleilles/miniconda3/lib/python3.7/site-packages/sklearn/svm/base.py:929: ConvergenceWarning: Liblinear failed to converge, increase the number of iterations.\n",
      "  \"the number of iterations.\", ConvergenceWarning)\n"
     ]
    },
    {
     "name": "stderr",
     "output_type": "stream",
     "text": [
      "/Users/jordisaleilles/miniconda3/lib/python3.7/site-packages/sklearn/svm/base.py:929: ConvergenceWarning: Liblinear failed to converge, increase the number of iterations.\n",
      "  \"the number of iterations.\", ConvergenceWarning)\n",
      "/Users/jordisaleilles/miniconda3/lib/python3.7/site-packages/sklearn/svm/base.py:929: ConvergenceWarning: Liblinear failed to converge, increase the number of iterations.\n",
      "  \"the number of iterations.\", ConvergenceWarning)\n",
      "/Users/jordisaleilles/miniconda3/lib/python3.7/site-packages/sklearn/svm/base.py:929: ConvergenceWarning: Liblinear failed to converge, increase the number of iterations.\n",
      "  \"the number of iterations.\", ConvergenceWarning)\n",
      "/Users/jordisaleilles/miniconda3/lib/python3.7/site-packages/sklearn/svm/base.py:929: ConvergenceWarning: Liblinear failed to converge, increase the number of iterations.\n",
      "  \"the number of iterations.\", ConvergenceWarning)\n",
      "/Users/jordisaleilles/miniconda3/lib/python3.7/site-packages/sklearn/svm/base.py:929: ConvergenceWarning: Liblinear failed to converge, increase the number of iterations.\n",
      "  \"the number of iterations.\", ConvergenceWarning)\n",
      "/Users/jordisaleilles/miniconda3/lib/python3.7/site-packages/sklearn/svm/base.py:929: ConvergenceWarning: Liblinear failed to converge, increase the number of iterations.\n",
      "  \"the number of iterations.\", ConvergenceWarning)\n",
      "/Users/jordisaleilles/miniconda3/lib/python3.7/site-packages/sklearn/svm/base.py:929: ConvergenceWarning: Liblinear failed to converge, increase the number of iterations.\n",
      "  \"the number of iterations.\", ConvergenceWarning)\n",
      "/Users/jordisaleilles/miniconda3/lib/python3.7/site-packages/sklearn/svm/base.py:929: ConvergenceWarning: Liblinear failed to converge, increase the number of iterations.\n",
      "  \"the number of iterations.\", ConvergenceWarning)\n",
      "/Users/jordisaleilles/miniconda3/lib/python3.7/site-packages/sklearn/svm/base.py:929: ConvergenceWarning: Liblinear failed to converge, increase the number of iterations.\n",
      "  \"the number of iterations.\", ConvergenceWarning)\n",
      "/Users/jordisaleilles/miniconda3/lib/python3.7/site-packages/sklearn/svm/base.py:929: ConvergenceWarning: Liblinear failed to converge, increase the number of iterations.\n",
      "  \"the number of iterations.\", ConvergenceWarning)\n",
      "/Users/jordisaleilles/miniconda3/lib/python3.7/site-packages/sklearn/svm/base.py:929: ConvergenceWarning: Liblinear failed to converge, increase the number of iterations.\n",
      "  \"the number of iterations.\", ConvergenceWarning)\n",
      "/Users/jordisaleilles/miniconda3/lib/python3.7/site-packages/sklearn/svm/base.py:929: ConvergenceWarning: Liblinear failed to converge, increase the number of iterations.\n",
      "  \"the number of iterations.\", ConvergenceWarning)\n",
      "/Users/jordisaleilles/miniconda3/lib/python3.7/site-packages/sklearn/svm/base.py:929: ConvergenceWarning: Liblinear failed to converge, increase the number of iterations.\n",
      "  \"the number of iterations.\", ConvergenceWarning)\n",
      "/Users/jordisaleilles/miniconda3/lib/python3.7/site-packages/sklearn/svm/base.py:929: ConvergenceWarning: Liblinear failed to converge, increase the number of iterations.\n",
      "  \"the number of iterations.\", ConvergenceWarning)\n",
      "/Users/jordisaleilles/miniconda3/lib/python3.7/site-packages/sklearn/svm/base.py:929: ConvergenceWarning: Liblinear failed to converge, increase the number of iterations.\n",
      "  \"the number of iterations.\", ConvergenceWarning)\n",
      "/Users/jordisaleilles/miniconda3/lib/python3.7/site-packages/sklearn/svm/base.py:929: ConvergenceWarning: Liblinear failed to converge, increase the number of iterations.\n",
      "  \"the number of iterations.\", ConvergenceWarning)\n",
      "/Users/jordisaleilles/miniconda3/lib/python3.7/site-packages/sklearn/svm/base.py:929: ConvergenceWarning: Liblinear failed to converge, increase the number of iterations.\n",
      "  \"the number of iterations.\", ConvergenceWarning)\n",
      "/Users/jordisaleilles/miniconda3/lib/python3.7/site-packages/sklearn/svm/base.py:929: ConvergenceWarning: Liblinear failed to converge, increase the number of iterations.\n",
      "  \"the number of iterations.\", ConvergenceWarning)\n",
      "/Users/jordisaleilles/miniconda3/lib/python3.7/site-packages/sklearn/svm/base.py:929: ConvergenceWarning: Liblinear failed to converge, increase the number of iterations.\n",
      "  \"the number of iterations.\", ConvergenceWarning)\n"
     ]
    },
    {
     "data": {
      "text/plain": [
       "['mean_fit_time',\n",
       " 'mean_score_time',\n",
       " 'mean_test_score',\n",
       " 'param_clf__C',\n",
       " 'param_clf__tol',\n",
       " 'param_tfidf__norm',\n",
       " 'param_vect__analyzer',\n",
       " 'params',\n",
       " 'rank_test_score',\n",
       " 'split0_test_score',\n",
       " 'split1_test_score',\n",
       " 'split2_test_score',\n",
       " 'split3_test_score',\n",
       " 'split4_test_score',\n",
       " 'std_fit_time',\n",
       " 'std_score_time',\n",
       " 'std_test_score']"
      ]
     },
     "execution_count": 58,
     "metadata": {},
     "output_type": "execute_result"
    }
   ],
   "source": [
    "from sklearn.model_selection import GridSearchCV\n",
    "\n",
    "param = {\n",
    "    'vect__analyzer': [stemmed_words],\n",
    "    'tfidf__norm': ['l2'],\n",
    "    'clf__tol':[1e-1, 1e-2, 1e-3, 1e-4, 1e-5], \n",
    "    'clf__C':[100, 50, 20, 10, 1, 1e-1, 1e-2, 1e-3]\n",
    "    }\n",
    "\n",
    "svc = Pipeline([('vect', CountVectorizer(analyzer=stemmed_words)),\n",
    "        ('tfidf', TfidfTransformer()),\n",
    "        ('clf', LinearSVC()),\n",
    "        ])\n",
    "\n",
    "clf = GridSearchCV(svc, param, cv=5)\n",
    "\n",
    "clf.fit(data_small.iloc[:,0],data_small.iloc[:,1])\n",
    "\n",
    "\n",
    "sorted(clf.cv_results_.keys())\n"
   ]
  },
  {
   "cell_type": "code",
   "execution_count": 60,
   "metadata": {},
   "outputs": [
    {
     "name": "stdout",
     "output_type": "stream",
     "text": [
      "Best Params:  {'clf__C': 0.1, 'clf__tol': 0.01, 'tfidf__norm': 'l2', 'vect__analyzer': <function stemmed_words at 0x150652950>}\n"
     ]
    }
   ],
   "source": [
    "print('Best Params: ', clf.best_params_)"
   ]
  },
  {
   "cell_type": "code",
   "execution_count": null,
   "metadata": {},
   "outputs": [],
   "source": []
  }
 ],
 "metadata": {
  "kernelspec": {
   "display_name": "Python 3",
   "language": "python",
   "name": "python3"
  },
  "language_info": {
   "codemirror_mode": {
    "name": "ipython",
    "version": 3
   },
   "file_extension": ".py",
   "mimetype": "text/x-python",
   "name": "python",
   "nbconvert_exporter": "python",
   "pygments_lexer": "ipython3",
   "version": "3.7.3"
  }
 },
 "nbformat": 4,
 "nbformat_minor": 2
}
